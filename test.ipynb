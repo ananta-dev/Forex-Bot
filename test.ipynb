{
 "cells": [
  {
   "cell_type": "markdown",
   "metadata": {},
   "source": []
  },
  {
   "cell_type": "code",
   "execution_count": 8,
   "metadata": {},
   "outputs": [],
   "source": [
    "import requests\n",
    "import defs"
   ]
  },
  {
   "cell_type": "code",
   "execution_count": 9,
   "metadata": {},
   "outputs": [],
   "source": [
    "session = requests.Session()"
   ]
  },
  {
   "cell_type": "code",
   "execution_count": 10,
   "metadata": {},
   "outputs": [],
   "source": [
    "instrument = \"EUR_USD\"\n",
    "count = 10\n",
    "granularity = \"H1\""
   ]
  },
  {
   "cell_type": "code",
   "execution_count": 11,
   "metadata": {},
   "outputs": [],
   "source": [
    "url = f\"{defs.OANDA_URL}/instruments/{instrument}/candles\""
   ]
  },
  {
   "cell_type": "code",
   "execution_count": 12,
   "metadata": {},
   "outputs": [
    {
     "data": {
      "text/plain": [
       "'https://api-fxpractice.oanda.com/v3/instruments/EUR_USD/candles'"
      ]
     },
     "execution_count": 12,
     "metadata": {},
     "output_type": "execute_result"
    }
   ],
   "source": [
    "url"
   ]
  },
  {
   "cell_type": "code",
   "execution_count": 16,
   "metadata": {},
   "outputs": [],
   "source": [
    "params = dict(\n",
    "    count = count,\n",
    "    granularity = granularity,\n",
    "    price = \"MBA\"\n",
    ")"
   ]
  },
  {
   "cell_type": "code",
   "execution_count": 17,
   "metadata": {},
   "outputs": [
    {
     "data": {
      "text/plain": [
       "{'count': 10, 'granularity': 'H1', 'price': 'MBA'}"
      ]
     },
     "execution_count": 17,
     "metadata": {},
     "output_type": "execute_result"
    }
   ],
   "source": [
    "params"
   ]
  },
  {
   "cell_type": "code",
   "execution_count": 19,
   "metadata": {},
   "outputs": [],
   "source": [
    "response = session.get(url,params=params,headers=defs.SECURE_HEADER)"
   ]
  },
  {
   "cell_type": "code",
   "execution_count": 20,
   "metadata": {},
   "outputs": [
    {
     "data": {
      "text/plain": [
       "<Response [200]>"
      ]
     },
     "execution_count": 20,
     "metadata": {},
     "output_type": "execute_result"
    }
   ],
   "source": [
    "response"
   ]
  },
  {
   "cell_type": "code",
   "execution_count": 22,
   "metadata": {},
   "outputs": [
    {
     "data": {
      "text/plain": [
       "{'instrument': 'EUR_USD',\n",
       " 'granularity': 'H1',\n",
       " 'candles': [{'complete': True,\n",
       "   'volume': 6111,\n",
       "   'time': '2021-11-01T12:00:00.000000000Z',\n",
       "   'bid': {'o': '1.15709', 'h': '1.15791', 'l': '1.15700', 'c': '1.15769'},\n",
       "   'mid': {'o': '1.15716', 'h': '1.15799', 'l': '1.15706', 'c': '1.15776'},\n",
       "   'ask': {'o': '1.15723', 'h': '1.15808', 'l': '1.15713', 'c': '1.15784'}},\n",
       "  {'complete': True,\n",
       "   'volume': 6075,\n",
       "   'time': '2021-11-01T13:00:00.000000000Z',\n",
       "   'bid': {'o': '1.15768', 'h': '1.15797', 'l': '1.15681', 'c': '1.15715'},\n",
       "   'mid': {'o': '1.15775', 'h': '1.15804', 'l': '1.15690', 'c': '1.15726'},\n",
       "   'ask': {'o': '1.15782', 'h': '1.15812', 'l': '1.15698', 'c': '1.15737'}},\n",
       "  {'complete': True,\n",
       "   'volume': 6800,\n",
       "   'time': '2021-11-01T14:00:00.000000000Z',\n",
       "   'bid': {'o': '1.15715', 'h': '1.15833', 'l': '1.15648', 'c': '1.15833'},\n",
       "   'mid': {'o': '1.15724', 'h': '1.15840', 'l': '1.15656', 'c': '1.15840'},\n",
       "   'ask': {'o': '1.15734', 'h': '1.15847', 'l': '1.15662', 'c': '1.15846'}},\n",
       "  {'complete': True,\n",
       "   'volume': 5463,\n",
       "   'time': '2021-11-01T15:00:00.000000000Z',\n",
       "   'bid': {'o': '1.15832', 'h': '1.15934', 'l': '1.15792', 'c': '1.15907'},\n",
       "   'mid': {'o': '1.15838', 'h': '1.15941', 'l': '1.15800', 'c': '1.15912'},\n",
       "   'ask': {'o': '1.15845', 'h': '1.15948', 'l': '1.15806', 'c': '1.15918'}},\n",
       "  {'complete': True,\n",
       "   'volume': 3416,\n",
       "   'time': '2021-11-01T16:00:00.000000000Z',\n",
       "   'bid': {'o': '1.15908', 'h': '1.15917', 'l': '1.15850', 'c': '1.15912'},\n",
       "   'mid': {'o': '1.15914', 'h': '1.15925', 'l': '1.15858', 'c': '1.15920'},\n",
       "   'ask': {'o': '1.15919', 'h': '1.15933', 'l': '1.15865', 'c': '1.15927'}},\n",
       "  {'complete': True,\n",
       "   'volume': 2542,\n",
       "   'time': '2021-11-01T17:00:00.000000000Z',\n",
       "   'bid': {'o': '1.15914', 'h': '1.15943', 'l': '1.15878', 'c': '1.15938'},\n",
       "   'mid': {'o': '1.15921', 'h': '1.15950', 'l': '1.15885', 'c': '1.15944'},\n",
       "   'ask': {'o': '1.15928', 'h': '1.15956', 'l': '1.15892', 'c': '1.15951'}},\n",
       "  {'complete': True,\n",
       "   'volume': 2817,\n",
       "   'time': '2021-11-01T18:00:00.000000000Z',\n",
       "   'bid': {'o': '1.15940', 'h': '1.16082', 'l': '1.15937', 'c': '1.16056'},\n",
       "   'mid': {'o': '1.15946', 'h': '1.16090', 'l': '1.15944', 'c': '1.16062'},\n",
       "   'ask': {'o': '1.15953', 'h': '1.16097', 'l': '1.15950', 'c': '1.16068'}},\n",
       "  {'complete': True,\n",
       "   'volume': 1823,\n",
       "   'time': '2021-11-01T19:00:00.000000000Z',\n",
       "   'bid': {'o': '1.16054', 'h': '1.16062', 'l': '1.16008', 'c': '1.16057'},\n",
       "   'mid': {'o': '1.16060', 'h': '1.16068', 'l': '1.16015', 'c': '1.16064'},\n",
       "   'ask': {'o': '1.16067', 'h': '1.16075', 'l': '1.16022', 'c': '1.16072'}},\n",
       "  {'complete': True,\n",
       "   'volume': 747,\n",
       "   'time': '2021-11-01T20:00:00.000000000Z',\n",
       "   'bid': {'o': '1.16055', 'h': '1.16083', 'l': '1.16038', 'c': '1.16054'},\n",
       "   'mid': {'o': '1.16062', 'h': '1.16090', 'l': '1.16046', 'c': '1.16062'},\n",
       "   'ask': {'o': '1.16070', 'h': '1.16100', 'l': '1.16053', 'c': '1.16071'}},\n",
       "  {'complete': False,\n",
       "   'volume': 149,\n",
       "   'time': '2021-11-01T21:00:00.000000000Z',\n",
       "   'bid': {'o': '1.16006', 'h': '1.16025', 'l': '1.15979', 'c': '1.16013'},\n",
       "   'mid': {'o': '1.16042', 'h': '1.16058', 'l': '1.16012', 'c': '1.16048'},\n",
       "   'ask': {'o': '1.16077', 'h': '1.16102', 'l': '1.16032', 'c': '1.16084'}}]}"
      ]
     },
     "execution_count": 22,
     "metadata": {},
     "output_type": "execute_result"
    }
   ],
   "source": [
    "response.json()"
   ]
  }
 ],
 "metadata": {
  "interpreter": {
   "hash": "fea0ed52e2651c91cf9f958e0e3e9607e71f13f97622bcc75f41ae295d778958"
  },
  "kernelspec": {
   "display_name": "Python 3.8.12 64-bit (conda)",
   "name": "python3"
  },
  "language_info": {
   "codemirror_mode": {
    "name": "ipython",
    "version": 3
   },
   "file_extension": ".py",
   "mimetype": "text/x-python",
   "name": "python",
   "nbconvert_exporter": "python",
   "pygments_lexer": "ipython3",
   "version": "3.8.12"
  },
  "orig_nbformat": 4
 },
 "nbformat": 4,
 "nbformat_minor": 2
}
