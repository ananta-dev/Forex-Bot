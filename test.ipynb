{
 "cells": [
  {
   "cell_type": "markdown",
   "metadata": {},
   "source": []
  },
  {
   "cell_type": "code",
   "execution_count": 38,
   "metadata": {},
   "outputs": [],
   "source": [
    "import requests\n",
    "import defs\n",
    "import pandas as pd"
   ]
  },
  {
   "cell_type": "code",
   "execution_count": 39,
   "metadata": {},
   "outputs": [],
   "source": [
    "session = requests.Session()"
   ]
  },
  {
   "cell_type": "code",
   "execution_count": 3,
   "metadata": {},
   "outputs": [],
   "source": [
    "instrument = \"EUR_USD\"\n",
    "count = 10\n",
    "granularity = \"H1\""
   ]
  },
  {
   "cell_type": "code",
   "execution_count": 4,
   "metadata": {},
   "outputs": [],
   "source": [
    "url = f\"{defs.OANDA_URL}/instruments/{instrument}/candles\""
   ]
  },
  {
   "cell_type": "code",
   "execution_count": 5,
   "metadata": {},
   "outputs": [
    {
     "data": {
      "text/plain": [
       "'https://api-fxpractice.oanda.com/v3/instruments/EUR_USD/candles'"
      ]
     },
     "execution_count": 5,
     "metadata": {},
     "output_type": "execute_result"
    }
   ],
   "source": [
    "url"
   ]
  },
  {
   "cell_type": "code",
   "execution_count": 6,
   "metadata": {},
   "outputs": [],
   "source": [
    "params = dict(\n",
    "    count = count,\n",
    "    granularity = granularity,\n",
    "    price = \"MBA\"\n",
    ")"
   ]
  },
  {
   "cell_type": "code",
   "execution_count": 7,
   "metadata": {},
   "outputs": [
    {
     "data": {
      "text/plain": [
       "{'count': 10, 'granularity': 'H1', 'price': 'MBA'}"
      ]
     },
     "execution_count": 7,
     "metadata": {},
     "output_type": "execute_result"
    }
   ],
   "source": [
    "params"
   ]
  },
  {
   "cell_type": "code",
   "execution_count": 8,
   "metadata": {},
   "outputs": [],
   "source": [
    "response = session.get(url,params=params,headers=defs.SECURE_HEADER)"
   ]
  },
  {
   "cell_type": "code",
   "execution_count": 9,
   "metadata": {},
   "outputs": [
    {
     "data": {
      "text/plain": [
       "200"
      ]
     },
     "execution_count": 9,
     "metadata": {},
     "output_type": "execute_result"
    }
   ],
   "source": [
    "response.status_code"
   ]
  },
  {
   "cell_type": "code",
   "execution_count": 10,
   "metadata": {},
   "outputs": [
    {
     "data": {
      "text/plain": [
       "{'instrument': 'EUR_USD',\n",
       " 'granularity': 'H1',\n",
       " 'candles': [{'complete': True,\n",
       "   'volume': 747,\n",
       "   'time': '2021-11-01T20:00:00.000000000Z',\n",
       "   'bid': {'o': '1.16055', 'h': '1.16083', 'l': '1.16038', 'c': '1.16054'},\n",
       "   'mid': {'o': '1.16062', 'h': '1.16090', 'l': '1.16046', 'c': '1.16062'},\n",
       "   'ask': {'o': '1.16070', 'h': '1.16100', 'l': '1.16053', 'c': '1.16071'}},\n",
       "  {'complete': True,\n",
       "   'volume': 154,\n",
       "   'time': '2021-11-01T21:00:00.000000000Z',\n",
       "   'bid': {'o': '1.16006', 'h': '1.16025', 'l': '1.15979', 'c': '1.15999'},\n",
       "   'mid': {'o': '1.16042', 'h': '1.16064', 'l': '1.16012', 'c': '1.16048'},\n",
       "   'ask': {'o': '1.16077', 'h': '1.16112', 'l': '1.16032', 'c': '1.16097'}},\n",
       "  {'complete': True,\n",
       "   'volume': 366,\n",
       "   'time': '2021-11-01T22:00:00.000000000Z',\n",
       "   'bid': {'o': '1.16024', 'h': '1.16049', 'l': '1.16003', 'c': '1.16012'},\n",
       "   'mid': {'o': '1.16045', 'h': '1.16062', 'l': '1.16012', 'c': '1.16020'},\n",
       "   'ask': {'o': '1.16066', 'h': '1.16078', 'l': '1.16020', 'c': '1.16027'}},\n",
       "  {'complete': True,\n",
       "   'volume': 483,\n",
       "   'time': '2021-11-01T23:00:00.000000000Z',\n",
       "   'bid': {'o': '1.16014', 'h': '1.16020', 'l': '1.15972', 'c': '1.15989'},\n",
       "   'mid': {'o': '1.16022', 'h': '1.16028', 'l': '1.15980', 'c': '1.15996'},\n",
       "   'ask': {'o': '1.16030', 'h': '1.16035', 'l': '1.15987', 'c': '1.16003'}},\n",
       "  {'complete': True,\n",
       "   'volume': 959,\n",
       "   'time': '2021-11-02T00:00:00.000000000Z',\n",
       "   'bid': {'o': '1.15991', 'h': '1.16010', 'l': '1.15947', 'c': '1.15964'},\n",
       "   'mid': {'o': '1.15998', 'h': '1.16016', 'l': '1.15954', 'c': '1.15970'},\n",
       "   'ask': {'o': '1.16004', 'h': '1.16024', 'l': '1.15962', 'c': '1.15977'}},\n",
       "  {'complete': True,\n",
       "   'volume': 943,\n",
       "   'time': '2021-11-02T01:00:00.000000000Z',\n",
       "   'bid': {'o': '1.15965', 'h': '1.15977', 'l': '1.15942', 'c': '1.15971'},\n",
       "   'mid': {'o': '1.15972', 'h': '1.15984', 'l': '1.15951', 'c': '1.15978'},\n",
       "   'ask': {'o': '1.15980', 'h': '1.15992', 'l': '1.15958', 'c': '1.15986'}},\n",
       "  {'complete': True,\n",
       "   'volume': 637,\n",
       "   'time': '2021-11-02T02:00:00.000000000Z',\n",
       "   'bid': {'o': '1.15972', 'h': '1.15996', 'l': '1.15951', 'c': '1.15994'},\n",
       "   'mid': {'o': '1.15980', 'h': '1.16002', 'l': '1.15959', 'c': '1.16001'},\n",
       "   'ask': {'o': '1.15988', 'h': '1.16009', 'l': '1.15967', 'c': '1.16008'}},\n",
       "  {'complete': True,\n",
       "   'volume': 1418,\n",
       "   'time': '2021-11-02T03:00:00.000000000Z',\n",
       "   'bid': {'o': '1.15993', 'h': '1.16011', 'l': '1.15956', 'c': '1.15984'},\n",
       "   'mid': {'o': '1.16000', 'h': '1.16018', 'l': '1.15964', 'c': '1.15992'},\n",
       "   'ask': {'o': '1.16007', 'h': '1.16026', 'l': '1.15973', 'c': '1.16000'}},\n",
       "  {'complete': True,\n",
       "   'volume': 978,\n",
       "   'time': '2021-11-02T04:00:00.000000000Z',\n",
       "   'bid': {'o': '1.15985', 'h': '1.16079', 'l': '1.15978', 'c': '1.16033'},\n",
       "   'mid': {'o': '1.15994', 'h': '1.16086', 'l': '1.15986', 'c': '1.16040'},\n",
       "   'ask': {'o': '1.16002', 'h': '1.16093', 'l': '1.15994', 'c': '1.16047'}},\n",
       "  {'complete': False,\n",
       "   'volume': 64,\n",
       "   'time': '2021-11-02T05:00:00.000000000Z',\n",
       "   'bid': {'o': '1.16032', 'h': '1.16033', 'l': '1.16020', 'c': '1.16026'},\n",
       "   'mid': {'o': '1.16038', 'h': '1.16040', 'l': '1.16027', 'c': '1.16034'},\n",
       "   'ask': {'o': '1.16045', 'h': '1.16047', 'l': '1.16034', 'c': '1.16041'}}]}"
      ]
     },
     "execution_count": 10,
     "metadata": {},
     "output_type": "execute_result"
    }
   ],
   "source": [
    "response.json()"
   ]
  },
  {
   "cell_type": "code",
   "execution_count": 13,
   "metadata": {},
   "outputs": [],
   "source": [
    "url = f\"{defs.OANDA_URL}/accounts/{defs.ACCOUNT_ID}/instruments\""
   ]
  },
  {
   "cell_type": "code",
   "execution_count": 14,
   "metadata": {},
   "outputs": [],
   "source": [
    "params = dict() "
   ]
  },
  {
   "cell_type": "code",
   "execution_count": 15,
   "metadata": {},
   "outputs": [],
   "source": [
    "response = session.get(url,params=params,headers=defs.SECURE_HEADER)"
   ]
  },
  {
   "cell_type": "code",
   "execution_count": 16,
   "metadata": {},
   "outputs": [],
   "source": [
    "data = response.json()"
   ]
  },
  {
   "cell_type": "code",
   "execution_count": 17,
   "metadata": {},
   "outputs": [
    {
     "data": {
      "text/plain": [
       "dict_keys(['instruments', 'lastTransactionID'])"
      ]
     },
     "execution_count": 17,
     "metadata": {},
     "output_type": "execute_result"
    }
   ],
   "source": [
    "data.keys()"
   ]
  },
  {
   "cell_type": "code",
   "execution_count": 27,
   "metadata": {},
   "outputs": [],
   "source": [
    "instruments = data[\"instruments\"]"
   ]
  },
  {
   "cell_type": "code",
   "execution_count": 30,
   "metadata": {},
   "outputs": [
    {
     "data": {
      "text/plain": [
       "122"
      ]
     },
     "execution_count": 30,
     "metadata": {},
     "output_type": "execute_result"
    }
   ],
   "source": [
    "len(instruments)"
   ]
  },
  {
   "cell_type": "code",
   "execution_count": 31,
   "metadata": {},
   "outputs": [
    {
     "data": {
      "text/plain": [
       "dict_keys(['name', 'type', 'displayName', 'pipLocation', 'displayPrecision', 'tradeUnitsPrecision', 'minimumTradeSize', 'maximumTrailingStopDistance', 'minimumTrailingStopDistance', 'maximumPositionSize', 'maximumOrderUnits', 'marginRate', 'guaranteedStopLossOrderMode', 'tags', 'financing'])"
      ]
     },
     "execution_count": 31,
     "metadata": {},
     "output_type": "execute_result"
    }
   ],
   "source": [
    "instruments[0].keys()"
   ]
  },
  {
   "cell_type": "code",
   "execution_count": 34,
   "metadata": {},
   "outputs": [],
   "source": [
    "instrument_data = []\n",
    "for item in instruments:\n",
    "    new_ob = dict(\n",
    "        name = item['name'],\n",
    "        type = item['type'],\n",
    "        displayName = item['displayName'],\n",
    "        pipLocation = item['pipLocation'],\n",
    "        marginRate = item['marginRate']\n",
    "    )\n",
    "    instrument_data.append(new_ob)"
   ]
  },
  {
   "cell_type": "code",
   "execution_count": 37,
   "metadata": {},
   "outputs": [
    {
     "name": "stdout",
     "output_type": "stream",
     "text": [
      "{'name': 'EUR_HUF', 'type': 'CURRENCY', 'displayName': 'EUR/HUF', 'pipLocation': -2, 'marginRate': '0.05'}\n",
      "{'name': 'FR40_EUR', 'type': 'CFD', 'displayName': 'France 40', 'pipLocation': 0, 'marginRate': '0.05'}\n",
      "{'name': 'EUR_DKK', 'type': 'CURRENCY', 'displayName': 'EUR/DKK', 'pipLocation': -4, 'marginRate': '0.1'}\n"
     ]
    }
   ],
   "source": [
    "for item in instrument_data[0:3]:\n",
    "    print(item)"
   ]
  },
  {
   "cell_type": "code",
   "execution_count": 40,
   "metadata": {},
   "outputs": [],
   "source": [
    "instrument_df = pd.DataFrame.from_dict(instrument_data)"
   ]
  },
  {
   "cell_type": "code",
   "execution_count": 41,
   "metadata": {},
   "outputs": [
    {
     "data": {
      "text/html": [
       "<div>\n",
       "<style scoped>\n",
       "    .dataframe tbody tr th:only-of-type {\n",
       "        vertical-align: middle;\n",
       "    }\n",
       "\n",
       "    .dataframe tbody tr th {\n",
       "        vertical-align: top;\n",
       "    }\n",
       "\n",
       "    .dataframe thead th {\n",
       "        text-align: right;\n",
       "    }\n",
       "</style>\n",
       "<table border=\"1\" class=\"dataframe\">\n",
       "  <thead>\n",
       "    <tr style=\"text-align: right;\">\n",
       "      <th></th>\n",
       "      <th>name</th>\n",
       "      <th>type</th>\n",
       "      <th>displayName</th>\n",
       "      <th>pipLocation</th>\n",
       "      <th>marginRate</th>\n",
       "    </tr>\n",
       "  </thead>\n",
       "  <tbody>\n",
       "    <tr>\n",
       "      <th>0</th>\n",
       "      <td>EUR_HUF</td>\n",
       "      <td>CURRENCY</td>\n",
       "      <td>EUR/HUF</td>\n",
       "      <td>-2</td>\n",
       "      <td>0.05</td>\n",
       "    </tr>\n",
       "    <tr>\n",
       "      <th>1</th>\n",
       "      <td>FR40_EUR</td>\n",
       "      <td>CFD</td>\n",
       "      <td>France 40</td>\n",
       "      <td>0</td>\n",
       "      <td>0.05</td>\n",
       "    </tr>\n",
       "    <tr>\n",
       "      <th>2</th>\n",
       "      <td>EUR_DKK</td>\n",
       "      <td>CURRENCY</td>\n",
       "      <td>EUR/DKK</td>\n",
       "      <td>-4</td>\n",
       "      <td>0.1</td>\n",
       "    </tr>\n",
       "    <tr>\n",
       "      <th>3</th>\n",
       "      <td>XAU_CHF</td>\n",
       "      <td>METAL</td>\n",
       "      <td>Gold/CHF</td>\n",
       "      <td>-2</td>\n",
       "      <td>0.05</td>\n",
       "    </tr>\n",
       "    <tr>\n",
       "      <th>4</th>\n",
       "      <td>XPD_USD</td>\n",
       "      <td>CFD</td>\n",
       "      <td>Palladium</td>\n",
       "      <td>-2</td>\n",
       "      <td>0.10</td>\n",
       "    </tr>\n",
       "    <tr>\n",
       "      <th>...</th>\n",
       "      <td>...</td>\n",
       "      <td>...</td>\n",
       "      <td>...</td>\n",
       "      <td>...</td>\n",
       "      <td>...</td>\n",
       "    </tr>\n",
       "    <tr>\n",
       "      <th>117</th>\n",
       "      <td>USD_PLN</td>\n",
       "      <td>CURRENCY</td>\n",
       "      <td>USD/PLN</td>\n",
       "      <td>-4</td>\n",
       "      <td>0.05</td>\n",
       "    </tr>\n",
       "    <tr>\n",
       "      <th>118</th>\n",
       "      <td>AU200_AUD</td>\n",
       "      <td>CFD</td>\n",
       "      <td>Australia 200</td>\n",
       "      <td>0</td>\n",
       "      <td>0.05</td>\n",
       "    </tr>\n",
       "    <tr>\n",
       "      <th>119</th>\n",
       "      <td>CAD_HKD</td>\n",
       "      <td>CURRENCY</td>\n",
       "      <td>CAD/HKD</td>\n",
       "      <td>-4</td>\n",
       "      <td>0.1</td>\n",
       "    </tr>\n",
       "    <tr>\n",
       "      <th>120</th>\n",
       "      <td>US30_USD</td>\n",
       "      <td>CFD</td>\n",
       "      <td>US Wall St 30</td>\n",
       "      <td>0</td>\n",
       "      <td>0.05</td>\n",
       "    </tr>\n",
       "    <tr>\n",
       "      <th>121</th>\n",
       "      <td>GBP_CAD</td>\n",
       "      <td>CURRENCY</td>\n",
       "      <td>GBP/CAD</td>\n",
       "      <td>-4</td>\n",
       "      <td>0.0333</td>\n",
       "    </tr>\n",
       "  </tbody>\n",
       "</table>\n",
       "<p>122 rows × 5 columns</p>\n",
       "</div>"
      ],
      "text/plain": [
       "          name      type    displayName  pipLocation marginRate\n",
       "0      EUR_HUF  CURRENCY        EUR/HUF           -2       0.05\n",
       "1     FR40_EUR       CFD      France 40            0       0.05\n",
       "2      EUR_DKK  CURRENCY        EUR/DKK           -4        0.1\n",
       "3      XAU_CHF     METAL       Gold/CHF           -2       0.05\n",
       "4      XPD_USD       CFD      Palladium           -2       0.10\n",
       "..         ...       ...            ...          ...        ...\n",
       "117    USD_PLN  CURRENCY        USD/PLN           -4       0.05\n",
       "118  AU200_AUD       CFD  Australia 200            0       0.05\n",
       "119    CAD_HKD  CURRENCY        CAD/HKD           -4        0.1\n",
       "120   US30_USD       CFD  US Wall St 30            0       0.05\n",
       "121    GBP_CAD  CURRENCY        GBP/CAD           -4     0.0333\n",
       "\n",
       "[122 rows x 5 columns]"
      ]
     },
     "execution_count": 41,
     "metadata": {},
     "output_type": "execute_result"
    }
   ],
   "source": [
    "instrument_df"
   ]
  },
  {
   "cell_type": "code",
   "execution_count": null,
   "metadata": {},
   "outputs": [],
   "source": []
  }
 ],
 "metadata": {
  "interpreter": {
   "hash": "fea0ed52e2651c91cf9f958e0e3e9607e71f13f97622bcc75f41ae295d778958"
  },
  "kernelspec": {
   "display_name": "Python 3.8.12 64-bit (conda)",
   "name": "python3"
  },
  "language_info": {
   "codemirror_mode": {
    "name": "ipython",
    "version": 3
   },
   "file_extension": ".py",
   "mimetype": "text/x-python",
   "name": "python",
   "nbconvert_exporter": "python",
   "pygments_lexer": "ipython3",
   "version": "3.8.12"
  },
  "orig_nbformat": 4
 },
 "nbformat": 4,
 "nbformat_minor": 2
}
