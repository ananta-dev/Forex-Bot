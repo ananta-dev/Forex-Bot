{
 "cells": [
  {
   "cell_type": "code",
   "execution_count": 17,
   "metadata": {},
   "outputs": [],
   "source": [
    "import pandas as pd\n",
    "import utils\n",
    "import plotly.graph_objects as go"
   ]
  },
  {
   "cell_type": "code",
   "execution_count": 2,
   "metadata": {},
   "outputs": [],
   "source": [
    "pair = \"EUR_USD\"\n",
    "granularity = \"H1\""
   ]
  },
  {
   "cell_type": "code",
   "execution_count": 3,
   "metadata": {},
   "outputs": [],
   "source": [
    "df = pd.read_pickle(utils.get_his_data_filename(pair,granularity))"
   ]
  },
  {
   "cell_type": "code",
   "execution_count": 10,
   "metadata": {},
   "outputs": [],
   "source": [
    "non_cols = ['time', 'volume']"
   ]
  },
  {
   "cell_type": "code",
   "execution_count": 11,
   "metadata": {},
   "outputs": [],
   "source": [
    "mod_cols = [x for x in df.columns if x not in non_cols]"
   ]
  },
  {
   "cell_type": "code",
   "execution_count": 12,
   "metadata": {},
   "outputs": [
    {
     "data": {
      "text/plain": [
       "['mid_o',\n",
       " 'mid_h',\n",
       " 'mid_l',\n",
       " 'mid_c',\n",
       " 'bid_o',\n",
       " 'bid_h',\n",
       " 'bid_l',\n",
       " 'bid_c',\n",
       " 'ask_o',\n",
       " 'ask_h',\n",
       " 'ask_l',\n",
       " 'ask_c']"
      ]
     },
     "execution_count": 12,
     "metadata": {},
     "output_type": "execute_result"
    }
   ],
   "source": [
    "mod_cols"
   ]
  },
  {
   "cell_type": "code",
   "execution_count": 13,
   "metadata": {},
   "outputs": [],
   "source": [
    "df[mod_cols] = df[mod_cols].apply(pd.to_numeric)"
   ]
  },
  {
   "cell_type": "code",
   "execution_count": 27,
   "metadata": {},
   "outputs": [],
   "source": [
    "df_plot = df.iloc[-100:].copy()"
   ]
  },
  {
   "cell_type": "code",
   "execution_count": 25,
   "metadata": {},
   "outputs": [
    {
     "data": {
      "text/plain": [
       "(200, 14)"
      ]
     },
     "execution_count": 25,
     "metadata": {},
     "output_type": "execute_result"
    }
   ],
   "source": [
    "df_plot.shape"
   ]
  },
  {
   "cell_type": "code",
   "execution_count": 31,
   "metadata": {},
   "outputs": [
    {
     "data": {
      "application/vnd.plotly.v1+json": {
       "config": {
        "plotlyServerURL": "https://plot.ly"
       },
       "data": [
        {
         "close": [
          1.16842,
          1.16786,
          1.16874,
          1.16838,
          1.16807,
          1.1683,
          1.16818,
          1.1684,
          1.16822,
          1.16844,
          1.16774,
          1.1676,
          1.16766,
          1.16644,
          1.16677,
          1.16629,
          1.16704,
          1.16508,
          1.16532,
          1.1653,
          1.16471,
          1.16256,
          1.16193,
          1.1571,
          1.15498,
          1.15386,
          1.15556,
          1.15592,
          1.15595,
          1.15619,
          1.15632,
          1.15608,
          1.15563,
          1.1555,
          1.15565,
          1.15543,
          1.15505,
          1.15516,
          1.15636,
          1.1555,
          1.15638,
          1.15722,
          1.15658,
          1.15714,
          1.15718,
          1.15776,
          1.15726,
          1.1584,
          1.15912,
          1.1592,
          1.15944,
          1.16062,
          1.16064,
          1.16062,
          1.16048,
          1.1602,
          1.15996,
          1.1597,
          1.15978,
          1.16001,
          1.15992,
          1.1604,
          1.16073,
          1.16043,
          1.16087,
          1.15886,
          1.15985,
          1.16063,
          1.16028,
          1.16072,
          1.15913,
          1.15914,
          1.15806,
          1.1578,
          1.15832,
          1.15816,
          1.15834,
          1.15799,
          1.15786,
          1.15791,
          1.15792,
          1.158,
          1.15826,
          1.15841,
          1.15832,
          1.15836,
          1.15854,
          1.15828,
          1.1581,
          1.15856,
          1.15928,
          1.15905,
          1.15874,
          1.15837,
          1.15714,
          1.15784,
          1.15846,
          1.15827,
          1.15834,
          1.16102
         ],
         "high": [
          1.16923,
          1.16886,
          1.16887,
          1.16893,
          1.16844,
          1.1685,
          1.16841,
          1.1684,
          1.16872,
          1.16902,
          1.16861,
          1.16774,
          1.16776,
          1.16774,
          1.16742,
          1.16709,
          1.16758,
          1.16712,
          1.16555,
          1.16569,
          1.16543,
          1.16482,
          1.1636,
          1.16195,
          1.15775,
          1.15518,
          1.15566,
          1.15628,
          1.15604,
          1.15653,
          1.15652,
          1.15651,
          1.1563,
          1.15605,
          1.15605,
          1.15586,
          1.15582,
          1.1552,
          1.15638,
          1.15636,
          1.15644,
          1.15754,
          1.1574,
          1.15729,
          1.15772,
          1.15799,
          1.15804,
          1.1584,
          1.15941,
          1.15925,
          1.1595,
          1.1609,
          1.16068,
          1.1609,
          1.16064,
          1.16062,
          1.16028,
          1.16016,
          1.15984,
          1.16002,
          1.16018,
          1.16086,
          1.16074,
          1.16074,
          1.16136,
          1.1611,
          1.15995,
          1.16063,
          1.16062,
          1.16077,
          1.16077,
          1.15986,
          1.15995,
          1.15845,
          1.15846,
          1.15855,
          1.15841,
          1.15832,
          1.1582,
          1.15822,
          1.15796,
          1.158,
          1.15832,
          1.15873,
          1.15851,
          1.15838,
          1.15858,
          1.15859,
          1.15878,
          1.15893,
          1.1598,
          1.1593,
          1.1593,
          1.15898,
          1.15837,
          1.15802,
          1.1586,
          1.1586,
          1.15874,
          1.16164
         ],
         "low": [
          1.16744,
          1.16775,
          1.16712,
          1.16814,
          1.16791,
          1.16782,
          1.16794,
          1.16801,
          1.1681,
          1.168,
          1.16749,
          1.1673,
          1.16734,
          1.16639,
          1.16638,
          1.16581,
          1.16623,
          1.16492,
          1.1645,
          1.16484,
          1.16458,
          1.16211,
          1.16184,
          1.15652,
          1.15456,
          1.15352,
          1.1538,
          1.15551,
          1.15524,
          1.15562,
          1.15581,
          1.15573,
          1.15555,
          1.15514,
          1.15536,
          1.15529,
          1.15502,
          1.15461,
          1.15504,
          1.1554,
          1.15472,
          1.15598,
          1.1562,
          1.15648,
          1.15667,
          1.15706,
          1.1569,
          1.15656,
          1.158,
          1.15858,
          1.15885,
          1.15944,
          1.16015,
          1.16046,
          1.16012,
          1.16012,
          1.1598,
          1.15954,
          1.15951,
          1.15959,
          1.15964,
          1.15986,
          1.16021,
          1.16002,
          1.16034,
          1.15875,
          1.15859,
          1.15903,
          1.1591,
          1.15972,
          1.1589,
          1.15822,
          1.1578,
          1.15752,
          1.1577,
          1.15771,
          1.15796,
          1.15786,
          1.1576,
          1.15784,
          1.15764,
          1.1575,
          1.15775,
          1.15799,
          1.1582,
          1.15804,
          1.15806,
          1.1581,
          1.15788,
          1.15784,
          1.15847,
          1.15792,
          1.1583,
          1.15774,
          1.15684,
          1.15624,
          1.15734,
          1.15778,
          1.15783,
          1.1572
         ],
         "open": [
          1.16758,
          1.16841,
          1.16784,
          1.16873,
          1.16837,
          1.16806,
          1.16831,
          1.1682,
          1.16839,
          1.16824,
          1.16846,
          1.16772,
          1.16757,
          1.16764,
          1.16643,
          1.16678,
          1.1663,
          1.16706,
          1.16511,
          1.1653,
          1.16529,
          1.16469,
          1.16258,
          1.16194,
          1.15712,
          1.15496,
          1.15387,
          1.15558,
          1.15594,
          1.15594,
          1.15596,
          1.1563,
          1.1561,
          1.15564,
          1.15551,
          1.15564,
          1.15544,
          1.15504,
          1.15518,
          1.15635,
          1.1555,
          1.15637,
          1.15722,
          1.15659,
          1.15712,
          1.15716,
          1.15775,
          1.15724,
          1.15838,
          1.15914,
          1.15921,
          1.15946,
          1.1606,
          1.16062,
          1.16042,
          1.16045,
          1.16022,
          1.15998,
          1.15972,
          1.1598,
          1.16,
          1.15994,
          1.16038,
          1.16073,
          1.16044,
          1.16089,
          1.15888,
          1.15986,
          1.16062,
          1.1603,
          1.1607,
          1.15912,
          1.15916,
          1.15807,
          1.15781,
          1.15831,
          1.15815,
          1.15832,
          1.15788,
          1.15794,
          1.15792,
          1.15792,
          1.15798,
          1.15828,
          1.1584,
          1.1583,
          1.15838,
          1.15853,
          1.15827,
          1.15806,
          1.15855,
          1.1593,
          1.15904,
          1.15876,
          1.15836,
          1.15712,
          1.15782,
          1.15844,
          1.15828,
          1.15836
         ],
         "type": "candlestick",
         "x": [
          "2021-10-28T15:00:00.000000000Z",
          "2021-10-28T16:00:00.000000000Z",
          "2021-10-28T17:00:00.000000000Z",
          "2021-10-28T18:00:00.000000000Z",
          "2021-10-28T19:00:00.000000000Z",
          "2021-10-28T20:00:00.000000000Z",
          "2021-10-28T21:00:00.000000000Z",
          "2021-10-28T22:00:00.000000000Z",
          "2021-10-28T23:00:00.000000000Z",
          "2021-10-29T00:00:00.000000000Z",
          "2021-10-29T01:00:00.000000000Z",
          "2021-10-29T02:00:00.000000000Z",
          "2021-10-29T03:00:00.000000000Z",
          "2021-10-29T04:00:00.000000000Z",
          "2021-10-29T05:00:00.000000000Z",
          "2021-10-29T06:00:00.000000000Z",
          "2021-10-29T07:00:00.000000000Z",
          "2021-10-29T08:00:00.000000000Z",
          "2021-10-29T09:00:00.000000000Z",
          "2021-10-29T10:00:00.000000000Z",
          "2021-10-29T11:00:00.000000000Z",
          "2021-10-29T12:00:00.000000000Z",
          "2021-10-29T13:00:00.000000000Z",
          "2021-10-29T14:00:00.000000000Z",
          "2021-10-29T15:00:00.000000000Z",
          "2021-10-29T16:00:00.000000000Z",
          "2021-10-29T17:00:00.000000000Z",
          "2021-10-29T18:00:00.000000000Z",
          "2021-10-29T19:00:00.000000000Z",
          "2021-10-29T20:00:00.000000000Z",
          "2021-10-31T21:00:00.000000000Z",
          "2021-10-31T22:00:00.000000000Z",
          "2021-10-31T23:00:00.000000000Z",
          "2021-11-01T00:00:00.000000000Z",
          "2021-11-01T01:00:00.000000000Z",
          "2021-11-01T02:00:00.000000000Z",
          "2021-11-01T03:00:00.000000000Z",
          "2021-11-01T04:00:00.000000000Z",
          "2021-11-01T05:00:00.000000000Z",
          "2021-11-01T06:00:00.000000000Z",
          "2021-11-01T07:00:00.000000000Z",
          "2021-11-01T08:00:00.000000000Z",
          "2021-11-01T09:00:00.000000000Z",
          "2021-11-01T10:00:00.000000000Z",
          "2021-11-01T11:00:00.000000000Z",
          "2021-11-01T12:00:00.000000000Z",
          "2021-11-01T13:00:00.000000000Z",
          "2021-11-01T14:00:00.000000000Z",
          "2021-11-01T15:00:00.000000000Z",
          "2021-11-01T16:00:00.000000000Z",
          "2021-11-01T17:00:00.000000000Z",
          "2021-11-01T18:00:00.000000000Z",
          "2021-11-01T19:00:00.000000000Z",
          "2021-11-01T20:00:00.000000000Z",
          "2021-11-01T21:00:00.000000000Z",
          "2021-11-01T22:00:00.000000000Z",
          "2021-11-01T23:00:00.000000000Z",
          "2021-11-02T00:00:00.000000000Z",
          "2021-11-02T01:00:00.000000000Z",
          "2021-11-02T02:00:00.000000000Z",
          "2021-11-02T03:00:00.000000000Z",
          "2021-11-02T04:00:00.000000000Z",
          "2021-11-02T05:00:00.000000000Z",
          "2021-11-02T06:00:00.000000000Z",
          "2021-11-02T07:00:00.000000000Z",
          "2021-11-02T08:00:00.000000000Z",
          "2021-11-02T09:00:00.000000000Z",
          "2021-11-02T10:00:00.000000000Z",
          "2021-11-02T11:00:00.000000000Z",
          "2021-11-02T12:00:00.000000000Z",
          "2021-11-02T13:00:00.000000000Z",
          "2021-11-02T14:00:00.000000000Z",
          "2021-11-02T15:00:00.000000000Z",
          "2021-11-02T16:00:00.000000000Z",
          "2021-11-02T17:00:00.000000000Z",
          "2021-11-02T18:00:00.000000000Z",
          "2021-11-02T19:00:00.000000000Z",
          "2021-11-02T20:00:00.000000000Z",
          "2021-11-02T21:00:00.000000000Z",
          "2021-11-02T22:00:00.000000000Z",
          "2021-11-02T23:00:00.000000000Z",
          "2021-11-03T00:00:00.000000000Z",
          "2021-11-03T01:00:00.000000000Z",
          "2021-11-03T02:00:00.000000000Z",
          "2021-11-03T03:00:00.000000000Z",
          "2021-11-03T04:00:00.000000000Z",
          "2021-11-03T05:00:00.000000000Z",
          "2021-11-03T06:00:00.000000000Z",
          "2021-11-03T07:00:00.000000000Z",
          "2021-11-03T08:00:00.000000000Z",
          "2021-11-03T09:00:00.000000000Z",
          "2021-11-03T10:00:00.000000000Z",
          "2021-11-03T11:00:00.000000000Z",
          "2021-11-03T12:00:00.000000000Z",
          "2021-11-03T13:00:00.000000000Z",
          "2021-11-03T14:00:00.000000000Z",
          "2021-11-03T15:00:00.000000000Z",
          "2021-11-03T16:00:00.000000000Z",
          "2021-11-03T17:00:00.000000000Z",
          "2021-11-03T18:00:00.000000000Z"
         ]
        }
       ],
       "layout": {
        "font": {
         "color": "#e1e1e1",
         "size": 10
        },
        "height": 400,
        "margin": {
         "b": 5,
         "l": 5,
         "r": 5,
         "t": 5
        },
        "paper_bgcolor": "#1e1e1e",
        "plot_bgcolor": "#1e1e1e",
        "template": {
         "data": {
          "bar": [
           {
            "error_x": {
             "color": "#2a3f5f"
            },
            "error_y": {
             "color": "#2a3f5f"
            },
            "marker": {
             "line": {
              "color": "#E5ECF6",
              "width": 0.5
             },
             "pattern": {
              "fillmode": "overlay",
              "size": 10,
              "solidity": 0.2
             }
            },
            "type": "bar"
           }
          ],
          "barpolar": [
           {
            "marker": {
             "line": {
              "color": "#E5ECF6",
              "width": 0.5
             },
             "pattern": {
              "fillmode": "overlay",
              "size": 10,
              "solidity": 0.2
             }
            },
            "type": "barpolar"
           }
          ],
          "carpet": [
           {
            "aaxis": {
             "endlinecolor": "#2a3f5f",
             "gridcolor": "white",
             "linecolor": "white",
             "minorgridcolor": "white",
             "startlinecolor": "#2a3f5f"
            },
            "baxis": {
             "endlinecolor": "#2a3f5f",
             "gridcolor": "white",
             "linecolor": "white",
             "minorgridcolor": "white",
             "startlinecolor": "#2a3f5f"
            },
            "type": "carpet"
           }
          ],
          "choropleth": [
           {
            "colorbar": {
             "outlinewidth": 0,
             "ticks": ""
            },
            "type": "choropleth"
           }
          ],
          "contour": [
           {
            "colorbar": {
             "outlinewidth": 0,
             "ticks": ""
            },
            "colorscale": [
             [
              0,
              "#0d0887"
             ],
             [
              0.1111111111111111,
              "#46039f"
             ],
             [
              0.2222222222222222,
              "#7201a8"
             ],
             [
              0.3333333333333333,
              "#9c179e"
             ],
             [
              0.4444444444444444,
              "#bd3786"
             ],
             [
              0.5555555555555556,
              "#d8576b"
             ],
             [
              0.6666666666666666,
              "#ed7953"
             ],
             [
              0.7777777777777778,
              "#fb9f3a"
             ],
             [
              0.8888888888888888,
              "#fdca26"
             ],
             [
              1,
              "#f0f921"
             ]
            ],
            "type": "contour"
           }
          ],
          "contourcarpet": [
           {
            "colorbar": {
             "outlinewidth": 0,
             "ticks": ""
            },
            "type": "contourcarpet"
           }
          ],
          "heatmap": [
           {
            "colorbar": {
             "outlinewidth": 0,
             "ticks": ""
            },
            "colorscale": [
             [
              0,
              "#0d0887"
             ],
             [
              0.1111111111111111,
              "#46039f"
             ],
             [
              0.2222222222222222,
              "#7201a8"
             ],
             [
              0.3333333333333333,
              "#9c179e"
             ],
             [
              0.4444444444444444,
              "#bd3786"
             ],
             [
              0.5555555555555556,
              "#d8576b"
             ],
             [
              0.6666666666666666,
              "#ed7953"
             ],
             [
              0.7777777777777778,
              "#fb9f3a"
             ],
             [
              0.8888888888888888,
              "#fdca26"
             ],
             [
              1,
              "#f0f921"
             ]
            ],
            "type": "heatmap"
           }
          ],
          "heatmapgl": [
           {
            "colorbar": {
             "outlinewidth": 0,
             "ticks": ""
            },
            "colorscale": [
             [
              0,
              "#0d0887"
             ],
             [
              0.1111111111111111,
              "#46039f"
             ],
             [
              0.2222222222222222,
              "#7201a8"
             ],
             [
              0.3333333333333333,
              "#9c179e"
             ],
             [
              0.4444444444444444,
              "#bd3786"
             ],
             [
              0.5555555555555556,
              "#d8576b"
             ],
             [
              0.6666666666666666,
              "#ed7953"
             ],
             [
              0.7777777777777778,
              "#fb9f3a"
             ],
             [
              0.8888888888888888,
              "#fdca26"
             ],
             [
              1,
              "#f0f921"
             ]
            ],
            "type": "heatmapgl"
           }
          ],
          "histogram": [
           {
            "marker": {
             "pattern": {
              "fillmode": "overlay",
              "size": 10,
              "solidity": 0.2
             }
            },
            "type": "histogram"
           }
          ],
          "histogram2d": [
           {
            "colorbar": {
             "outlinewidth": 0,
             "ticks": ""
            },
            "colorscale": [
             [
              0,
              "#0d0887"
             ],
             [
              0.1111111111111111,
              "#46039f"
             ],
             [
              0.2222222222222222,
              "#7201a8"
             ],
             [
              0.3333333333333333,
              "#9c179e"
             ],
             [
              0.4444444444444444,
              "#bd3786"
             ],
             [
              0.5555555555555556,
              "#d8576b"
             ],
             [
              0.6666666666666666,
              "#ed7953"
             ],
             [
              0.7777777777777778,
              "#fb9f3a"
             ],
             [
              0.8888888888888888,
              "#fdca26"
             ],
             [
              1,
              "#f0f921"
             ]
            ],
            "type": "histogram2d"
           }
          ],
          "histogram2dcontour": [
           {
            "colorbar": {
             "outlinewidth": 0,
             "ticks": ""
            },
            "colorscale": [
             [
              0,
              "#0d0887"
             ],
             [
              0.1111111111111111,
              "#46039f"
             ],
             [
              0.2222222222222222,
              "#7201a8"
             ],
             [
              0.3333333333333333,
              "#9c179e"
             ],
             [
              0.4444444444444444,
              "#bd3786"
             ],
             [
              0.5555555555555556,
              "#d8576b"
             ],
             [
              0.6666666666666666,
              "#ed7953"
             ],
             [
              0.7777777777777778,
              "#fb9f3a"
             ],
             [
              0.8888888888888888,
              "#fdca26"
             ],
             [
              1,
              "#f0f921"
             ]
            ],
            "type": "histogram2dcontour"
           }
          ],
          "mesh3d": [
           {
            "colorbar": {
             "outlinewidth": 0,
             "ticks": ""
            },
            "type": "mesh3d"
           }
          ],
          "parcoords": [
           {
            "line": {
             "colorbar": {
              "outlinewidth": 0,
              "ticks": ""
             }
            },
            "type": "parcoords"
           }
          ],
          "pie": [
           {
            "automargin": true,
            "type": "pie"
           }
          ],
          "scatter": [
           {
            "marker": {
             "colorbar": {
              "outlinewidth": 0,
              "ticks": ""
             }
            },
            "type": "scatter"
           }
          ],
          "scatter3d": [
           {
            "line": {
             "colorbar": {
              "outlinewidth": 0,
              "ticks": ""
             }
            },
            "marker": {
             "colorbar": {
              "outlinewidth": 0,
              "ticks": ""
             }
            },
            "type": "scatter3d"
           }
          ],
          "scattercarpet": [
           {
            "marker": {
             "colorbar": {
              "outlinewidth": 0,
              "ticks": ""
             }
            },
            "type": "scattercarpet"
           }
          ],
          "scattergeo": [
           {
            "marker": {
             "colorbar": {
              "outlinewidth": 0,
              "ticks": ""
             }
            },
            "type": "scattergeo"
           }
          ],
          "scattergl": [
           {
            "marker": {
             "colorbar": {
              "outlinewidth": 0,
              "ticks": ""
             }
            },
            "type": "scattergl"
           }
          ],
          "scattermapbox": [
           {
            "marker": {
             "colorbar": {
              "outlinewidth": 0,
              "ticks": ""
             }
            },
            "type": "scattermapbox"
           }
          ],
          "scatterpolar": [
           {
            "marker": {
             "colorbar": {
              "outlinewidth": 0,
              "ticks": ""
             }
            },
            "type": "scatterpolar"
           }
          ],
          "scatterpolargl": [
           {
            "marker": {
             "colorbar": {
              "outlinewidth": 0,
              "ticks": ""
             }
            },
            "type": "scatterpolargl"
           }
          ],
          "scatterternary": [
           {
            "marker": {
             "colorbar": {
              "outlinewidth": 0,
              "ticks": ""
             }
            },
            "type": "scatterternary"
           }
          ],
          "surface": [
           {
            "colorbar": {
             "outlinewidth": 0,
             "ticks": ""
            },
            "colorscale": [
             [
              0,
              "#0d0887"
             ],
             [
              0.1111111111111111,
              "#46039f"
             ],
             [
              0.2222222222222222,
              "#7201a8"
             ],
             [
              0.3333333333333333,
              "#9c179e"
             ],
             [
              0.4444444444444444,
              "#bd3786"
             ],
             [
              0.5555555555555556,
              "#d8576b"
             ],
             [
              0.6666666666666666,
              "#ed7953"
             ],
             [
              0.7777777777777778,
              "#fb9f3a"
             ],
             [
              0.8888888888888888,
              "#fdca26"
             ],
             [
              1,
              "#f0f921"
             ]
            ],
            "type": "surface"
           }
          ],
          "table": [
           {
            "cells": {
             "fill": {
              "color": "#EBF0F8"
             },
             "line": {
              "color": "white"
             }
            },
            "header": {
             "fill": {
              "color": "#C8D4E3"
             },
             "line": {
              "color": "white"
             }
            },
            "type": "table"
           }
          ]
         },
         "layout": {
          "annotationdefaults": {
           "arrowcolor": "#2a3f5f",
           "arrowhead": 0,
           "arrowwidth": 1
          },
          "autotypenumbers": "strict",
          "coloraxis": {
           "colorbar": {
            "outlinewidth": 0,
            "ticks": ""
           }
          },
          "colorscale": {
           "diverging": [
            [
             0,
             "#8e0152"
            ],
            [
             0.1,
             "#c51b7d"
            ],
            [
             0.2,
             "#de77ae"
            ],
            [
             0.3,
             "#f1b6da"
            ],
            [
             0.4,
             "#fde0ef"
            ],
            [
             0.5,
             "#f7f7f7"
            ],
            [
             0.6,
             "#e6f5d0"
            ],
            [
             0.7,
             "#b8e186"
            ],
            [
             0.8,
             "#7fbc41"
            ],
            [
             0.9,
             "#4d9221"
            ],
            [
             1,
             "#276419"
            ]
           ],
           "sequential": [
            [
             0,
             "#0d0887"
            ],
            [
             0.1111111111111111,
             "#46039f"
            ],
            [
             0.2222222222222222,
             "#7201a8"
            ],
            [
             0.3333333333333333,
             "#9c179e"
            ],
            [
             0.4444444444444444,
             "#bd3786"
            ],
            [
             0.5555555555555556,
             "#d8576b"
            ],
            [
             0.6666666666666666,
             "#ed7953"
            ],
            [
             0.7777777777777778,
             "#fb9f3a"
            ],
            [
             0.8888888888888888,
             "#fdca26"
            ],
            [
             1,
             "#f0f921"
            ]
           ],
           "sequentialminus": [
            [
             0,
             "#0d0887"
            ],
            [
             0.1111111111111111,
             "#46039f"
            ],
            [
             0.2222222222222222,
             "#7201a8"
            ],
            [
             0.3333333333333333,
             "#9c179e"
            ],
            [
             0.4444444444444444,
             "#bd3786"
            ],
            [
             0.5555555555555556,
             "#d8576b"
            ],
            [
             0.6666666666666666,
             "#ed7953"
            ],
            [
             0.7777777777777778,
             "#fb9f3a"
            ],
            [
             0.8888888888888888,
             "#fdca26"
            ],
            [
             1,
             "#f0f921"
            ]
           ]
          },
          "colorway": [
           "#636efa",
           "#EF553B",
           "#00cc96",
           "#ab63fa",
           "#FFA15A",
           "#19d3f3",
           "#FF6692",
           "#B6E880",
           "#FF97FF",
           "#FECB52"
          ],
          "font": {
           "color": "#2a3f5f"
          },
          "geo": {
           "bgcolor": "white",
           "lakecolor": "white",
           "landcolor": "#E5ECF6",
           "showlakes": true,
           "showland": true,
           "subunitcolor": "white"
          },
          "hoverlabel": {
           "align": "left"
          },
          "hovermode": "closest",
          "mapbox": {
           "style": "light"
          },
          "paper_bgcolor": "white",
          "plot_bgcolor": "#E5ECF6",
          "polar": {
           "angularaxis": {
            "gridcolor": "white",
            "linecolor": "white",
            "ticks": ""
           },
           "bgcolor": "#E5ECF6",
           "radialaxis": {
            "gridcolor": "white",
            "linecolor": "white",
            "ticks": ""
           }
          },
          "scene": {
           "xaxis": {
            "backgroundcolor": "#E5ECF6",
            "gridcolor": "white",
            "gridwidth": 2,
            "linecolor": "white",
            "showbackground": true,
            "ticks": "",
            "zerolinecolor": "white"
           },
           "yaxis": {
            "backgroundcolor": "#E5ECF6",
            "gridcolor": "white",
            "gridwidth": 2,
            "linecolor": "white",
            "showbackground": true,
            "ticks": "",
            "zerolinecolor": "white"
           },
           "zaxis": {
            "backgroundcolor": "#E5ECF6",
            "gridcolor": "white",
            "gridwidth": 2,
            "linecolor": "white",
            "showbackground": true,
            "ticks": "",
            "zerolinecolor": "white"
           }
          },
          "shapedefaults": {
           "line": {
            "color": "#2a3f5f"
           }
          },
          "ternary": {
           "aaxis": {
            "gridcolor": "white",
            "linecolor": "white",
            "ticks": ""
           },
           "baxis": {
            "gridcolor": "white",
            "linecolor": "white",
            "ticks": ""
           },
           "bgcolor": "#E5ECF6",
           "caxis": {
            "gridcolor": "white",
            "linecolor": "white",
            "ticks": ""
           }
          },
          "title": {
           "x": 0.05
          },
          "xaxis": {
           "automargin": true,
           "gridcolor": "white",
           "linecolor": "white",
           "ticks": "",
           "title": {
            "standoff": 15
           },
           "zerolinecolor": "white",
           "zerolinewidth": 2
          },
          "yaxis": {
           "automargin": true,
           "gridcolor": "white",
           "linecolor": "white",
           "ticks": "",
           "title": {
            "standoff": 15
           },
           "zerolinecolor": "white",
           "zerolinewidth": 2
          }
         }
        },
        "width": 1000
       }
      }
     },
     "metadata": {},
     "output_type": "display_data"
    }
   ],
   "source": [
    "fig = go.Figure()\n",
    "fig.add_trace(go.Candlestick(\n",
    "    x     = df_plot.time,\n",
    "    open  = df_plot.mid_o,\n",
    "    high  = df_plot.mid_h,\n",
    "    low   = df_plot.mid_l,\n",
    "    close = df_plot.mid_c\n",
    "))\n",
    "fig.update_layout(\n",
    "    width=1000,\n",
    "    height=400,\n",
    "    margin=dict(l=5,r=5,b=5,t=5),\n",
    "    font=dict(size=10,color=\"#e1e1e1\"),\n",
    "    paper_bgcolor=\"#1e1e1e\",\n",
    "    plot_bgcolor=\"#1e1e1e\"\n",
    ")\n",
    "fig.update_xaxes(\n",
    "    gridcolor=\"#1f292f\"\n",
    "    showgrid=True,fixedrange=True,rangeslider=dict(visible=False)\n",
    ")\n",
    "fig.update_yaxes(\n",
    "    gridcolor=\"#1f292f\"\n",
    "    showgrid=True\n",
    ")\n",
    "\n",
    "\n",
    "fig.show()"
   ]
  }
 ],
 "metadata": {
  "interpreter": {
   "hash": "2e585390192d7d4363257fb63a24ea440a0d3ae5b1afd3c5688d8c0a2ee5c884"
  },
  "kernelspec": {
   "display_name": "Python 3.8.12 64-bit ('forex-bot-env': conda)",
   "name": "python3"
  },
  "language_info": {
   "codemirror_mode": {
    "name": "ipython",
    "version": 3
   },
   "file_extension": ".py",
   "mimetype": "text/x-python",
   "name": "python",
   "nbconvert_exporter": "python",
   "pygments_lexer": "ipython3",
   "version": "3.8.12"
  },
  "orig_nbformat": 4
 },
 "nbformat": 4,
 "nbformat_minor": 2
}
