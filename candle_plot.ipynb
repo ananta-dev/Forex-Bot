{
 "cells": [
  {
   "cell_type": "code",
   "execution_count": 1,
   "metadata": {},
   "outputs": [],
   "source": [
    "import pandas as pd\n",
    "import utils\n",
    "import plotly.graph_objects as go\n",
    "import instrument"
   ]
  },
  {
   "cell_type": "code",
   "execution_count": 2,
   "metadata": {},
   "outputs": [],
   "source": [
    "pair = \"EUR_USD\"\n",
    "granularity = \"H1\""
   ]
  },
  {
   "cell_type": "code",
   "execution_count": 3,
   "metadata": {},
   "outputs": [
    {
     "data": {
      "text/plain": [
       "['mid_o',\n",
       " 'mid_h',\n",
       " 'mid_l',\n",
       " 'mid_c',\n",
       " 'bid_o',\n",
       " 'bid_h',\n",
       " 'bid_l',\n",
       " 'bid_c',\n",
       " 'ask_o',\n",
       " 'ask_h',\n",
       " 'ask_l',\n",
       " 'ask_c']"
      ]
     },
     "execution_count": 3,
     "metadata": {},
     "output_type": "execute_result"
    }
   ],
   "source": [
    "df = pd.read_pickle(utils.get_his_data_filename(pair,granularity))\n",
    "non_cols = ['time', 'volume']\n",
    "mod_cols = [x for x in df.columns if x not in non_cols]\n",
    "mod_cols"
   ]
  },
  {
   "cell_type": "code",
   "execution_count": 4,
   "metadata": {},
   "outputs": [],
   "source": [
    "df[mod_cols] = df[mod_cols].apply(pd.to_numeric)"
   ]
  },
  {
   "cell_type": "code",
   "execution_count": 5,
   "metadata": {},
   "outputs": [],
   "source": [
    "df_plot = df.iloc[-100:].copy()"
   ]
  },
  {
   "cell_type": "code",
   "execution_count": 6,
   "metadata": {},
   "outputs": [
    {
     "data": {
      "text/plain": [
       "(100, 14)"
      ]
     },
     "execution_count": 6,
     "metadata": {},
     "output_type": "execute_result"
    }
   ],
   "source": [
    "df_plot.shape"
   ]
  },
  {
   "cell_type": "code",
   "execution_count": 7,
   "metadata": {},
   "outputs": [
    {
     "data": {
      "application/vnd.plotly.v1+json": {
       "config": {
        "plotlyServerURL": "https://plot.ly"
       },
       "data": [
        {
         "close": [
          1.16842,
          1.16786,
          1.16874,
          1.16838,
          1.16807,
          1.1683,
          1.16818,
          1.1684,
          1.16822,
          1.16844,
          1.16774,
          1.1676,
          1.16766,
          1.16644,
          1.16677,
          1.16629,
          1.16704,
          1.16508,
          1.16532,
          1.1653,
          1.16471,
          1.16256,
          1.16193,
          1.1571,
          1.15498,
          1.15386,
          1.15556,
          1.15592,
          1.15595,
          1.15619,
          1.15632,
          1.15608,
          1.15563,
          1.1555,
          1.15565,
          1.15543,
          1.15505,
          1.15516,
          1.15636,
          1.1555,
          1.15638,
          1.15722,
          1.15658,
          1.15714,
          1.15718,
          1.15776,
          1.15726,
          1.1584,
          1.15912,
          1.1592,
          1.15944,
          1.16062,
          1.16064,
          1.16062,
          1.16048,
          1.1602,
          1.15996,
          1.1597,
          1.15978,
          1.16001,
          1.15992,
          1.1604,
          1.16073,
          1.16043,
          1.16087,
          1.15886,
          1.15985,
          1.16063,
          1.16028,
          1.16072,
          1.15913,
          1.15914,
          1.15806,
          1.1578,
          1.15832,
          1.15816,
          1.15834,
          1.15799,
          1.15786,
          1.15791,
          1.15792,
          1.158,
          1.15826,
          1.15841,
          1.15832,
          1.15836,
          1.15854,
          1.15828,
          1.1581,
          1.15856,
          1.15928,
          1.15905,
          1.15874,
          1.15837,
          1.15714,
          1.15784,
          1.15846,
          1.15827,
          1.15834,
          1.16102
         ],
         "decreasing": {
          "fillcolor": "#FF5555",
          "line": {
           "color": "#AA5555"
          }
         },
         "high": [
          1.16923,
          1.16886,
          1.16887,
          1.16893,
          1.16844,
          1.1685,
          1.16841,
          1.1684,
          1.16872,
          1.16902,
          1.16861,
          1.16774,
          1.16776,
          1.16774,
          1.16742,
          1.16709,
          1.16758,
          1.16712,
          1.16555,
          1.16569,
          1.16543,
          1.16482,
          1.1636,
          1.16195,
          1.15775,
          1.15518,
          1.15566,
          1.15628,
          1.15604,
          1.15653,
          1.15652,
          1.15651,
          1.1563,
          1.15605,
          1.15605,
          1.15586,
          1.15582,
          1.1552,
          1.15638,
          1.15636,
          1.15644,
          1.15754,
          1.1574,
          1.15729,
          1.15772,
          1.15799,
          1.15804,
          1.1584,
          1.15941,
          1.15925,
          1.1595,
          1.1609,
          1.16068,
          1.1609,
          1.16064,
          1.16062,
          1.16028,
          1.16016,
          1.15984,
          1.16002,
          1.16018,
          1.16086,
          1.16074,
          1.16074,
          1.16136,
          1.1611,
          1.15995,
          1.16063,
          1.16062,
          1.16077,
          1.16077,
          1.15986,
          1.15995,
          1.15845,
          1.15846,
          1.15855,
          1.15841,
          1.15832,
          1.1582,
          1.15822,
          1.15796,
          1.158,
          1.15832,
          1.15873,
          1.15851,
          1.15838,
          1.15858,
          1.15859,
          1.15878,
          1.15893,
          1.1598,
          1.1593,
          1.1593,
          1.15898,
          1.15837,
          1.15802,
          1.1586,
          1.1586,
          1.15874,
          1.16164
         ],
         "increasing": {
          "fillcolor": "#55FF55",
          "line": {
           "color": "#55AA55"
          }
         },
         "line": {
          "width": 1
         },
         "low": [
          1.16744,
          1.16775,
          1.16712,
          1.16814,
          1.16791,
          1.16782,
          1.16794,
          1.16801,
          1.1681,
          1.168,
          1.16749,
          1.1673,
          1.16734,
          1.16639,
          1.16638,
          1.16581,
          1.16623,
          1.16492,
          1.1645,
          1.16484,
          1.16458,
          1.16211,
          1.16184,
          1.15652,
          1.15456,
          1.15352,
          1.1538,
          1.15551,
          1.15524,
          1.15562,
          1.15581,
          1.15573,
          1.15555,
          1.15514,
          1.15536,
          1.15529,
          1.15502,
          1.15461,
          1.15504,
          1.1554,
          1.15472,
          1.15598,
          1.1562,
          1.15648,
          1.15667,
          1.15706,
          1.1569,
          1.15656,
          1.158,
          1.15858,
          1.15885,
          1.15944,
          1.16015,
          1.16046,
          1.16012,
          1.16012,
          1.1598,
          1.15954,
          1.15951,
          1.15959,
          1.15964,
          1.15986,
          1.16021,
          1.16002,
          1.16034,
          1.15875,
          1.15859,
          1.15903,
          1.1591,
          1.15972,
          1.1589,
          1.15822,
          1.1578,
          1.15752,
          1.1577,
          1.15771,
          1.15796,
          1.15786,
          1.1576,
          1.15784,
          1.15764,
          1.1575,
          1.15775,
          1.15799,
          1.1582,
          1.15804,
          1.15806,
          1.1581,
          1.15788,
          1.15784,
          1.15847,
          1.15792,
          1.1583,
          1.15774,
          1.15684,
          1.15624,
          1.15734,
          1.15778,
          1.15783,
          1.1572
         ],
         "opacity": 1,
         "open": [
          1.16758,
          1.16841,
          1.16784,
          1.16873,
          1.16837,
          1.16806,
          1.16831,
          1.1682,
          1.16839,
          1.16824,
          1.16846,
          1.16772,
          1.16757,
          1.16764,
          1.16643,
          1.16678,
          1.1663,
          1.16706,
          1.16511,
          1.1653,
          1.16529,
          1.16469,
          1.16258,
          1.16194,
          1.15712,
          1.15496,
          1.15387,
          1.15558,
          1.15594,
          1.15594,
          1.15596,
          1.1563,
          1.1561,
          1.15564,
          1.15551,
          1.15564,
          1.15544,
          1.15504,
          1.15518,
          1.15635,
          1.1555,
          1.15637,
          1.15722,
          1.15659,
          1.15712,
          1.15716,
          1.15775,
          1.15724,
          1.15838,
          1.15914,
          1.15921,
          1.15946,
          1.1606,
          1.16062,
          1.16042,
          1.16045,
          1.16022,
          1.15998,
          1.15972,
          1.1598,
          1.16,
          1.15994,
          1.16038,
          1.16073,
          1.16044,
          1.16089,
          1.15888,
          1.15986,
          1.16062,
          1.1603,
          1.1607,
          1.15912,
          1.15916,
          1.15807,
          1.15781,
          1.15831,
          1.15815,
          1.15832,
          1.15788,
          1.15794,
          1.15792,
          1.15792,
          1.15798,
          1.15828,
          1.1584,
          1.1583,
          1.15838,
          1.15853,
          1.15827,
          1.15806,
          1.15855,
          1.1593,
          1.15904,
          1.15876,
          1.15836,
          1.15712,
          1.15782,
          1.15844,
          1.15828,
          1.15836
         ],
         "type": "candlestick",
         "x": [
          "2021-10-28T15:00:00.000000000Z",
          "2021-10-28T16:00:00.000000000Z",
          "2021-10-28T17:00:00.000000000Z",
          "2021-10-28T18:00:00.000000000Z",
          "2021-10-28T19:00:00.000000000Z",
          "2021-10-28T20:00:00.000000000Z",
          "2021-10-28T21:00:00.000000000Z",
          "2021-10-28T22:00:00.000000000Z",
          "2021-10-28T23:00:00.000000000Z",
          "2021-10-29T00:00:00.000000000Z",
          "2021-10-29T01:00:00.000000000Z",
          "2021-10-29T02:00:00.000000000Z",
          "2021-10-29T03:00:00.000000000Z",
          "2021-10-29T04:00:00.000000000Z",
          "2021-10-29T05:00:00.000000000Z",
          "2021-10-29T06:00:00.000000000Z",
          "2021-10-29T07:00:00.000000000Z",
          "2021-10-29T08:00:00.000000000Z",
          "2021-10-29T09:00:00.000000000Z",
          "2021-10-29T10:00:00.000000000Z",
          "2021-10-29T11:00:00.000000000Z",
          "2021-10-29T12:00:00.000000000Z",
          "2021-10-29T13:00:00.000000000Z",
          "2021-10-29T14:00:00.000000000Z",
          "2021-10-29T15:00:00.000000000Z",
          "2021-10-29T16:00:00.000000000Z",
          "2021-10-29T17:00:00.000000000Z",
          "2021-10-29T18:00:00.000000000Z",
          "2021-10-29T19:00:00.000000000Z",
          "2021-10-29T20:00:00.000000000Z",
          "2021-10-31T21:00:00.000000000Z",
          "2021-10-31T22:00:00.000000000Z",
          "2021-10-31T23:00:00.000000000Z",
          "2021-11-01T00:00:00.000000000Z",
          "2021-11-01T01:00:00.000000000Z",
          "2021-11-01T02:00:00.000000000Z",
          "2021-11-01T03:00:00.000000000Z",
          "2021-11-01T04:00:00.000000000Z",
          "2021-11-01T05:00:00.000000000Z",
          "2021-11-01T06:00:00.000000000Z",
          "2021-11-01T07:00:00.000000000Z",
          "2021-11-01T08:00:00.000000000Z",
          "2021-11-01T09:00:00.000000000Z",
          "2021-11-01T10:00:00.000000000Z",
          "2021-11-01T11:00:00.000000000Z",
          "2021-11-01T12:00:00.000000000Z",
          "2021-11-01T13:00:00.000000000Z",
          "2021-11-01T14:00:00.000000000Z",
          "2021-11-01T15:00:00.000000000Z",
          "2021-11-01T16:00:00.000000000Z",
          "2021-11-01T17:00:00.000000000Z",
          "2021-11-01T18:00:00.000000000Z",
          "2021-11-01T19:00:00.000000000Z",
          "2021-11-01T20:00:00.000000000Z",
          "2021-11-01T21:00:00.000000000Z",
          "2021-11-01T22:00:00.000000000Z",
          "2021-11-01T23:00:00.000000000Z",
          "2021-11-02T00:00:00.000000000Z",
          "2021-11-02T01:00:00.000000000Z",
          "2021-11-02T02:00:00.000000000Z",
          "2021-11-02T03:00:00.000000000Z",
          "2021-11-02T04:00:00.000000000Z",
          "2021-11-02T05:00:00.000000000Z",
          "2021-11-02T06:00:00.000000000Z",
          "2021-11-02T07:00:00.000000000Z",
          "2021-11-02T08:00:00.000000000Z",
          "2021-11-02T09:00:00.000000000Z",
          "2021-11-02T10:00:00.000000000Z",
          "2021-11-02T11:00:00.000000000Z",
          "2021-11-02T12:00:00.000000000Z",
          "2021-11-02T13:00:00.000000000Z",
          "2021-11-02T14:00:00.000000000Z",
          "2021-11-02T15:00:00.000000000Z",
          "2021-11-02T16:00:00.000000000Z",
          "2021-11-02T17:00:00.000000000Z",
          "2021-11-02T18:00:00.000000000Z",
          "2021-11-02T19:00:00.000000000Z",
          "2021-11-02T20:00:00.000000000Z",
          "2021-11-02T21:00:00.000000000Z",
          "2021-11-02T22:00:00.000000000Z",
          "2021-11-02T23:00:00.000000000Z",
          "2021-11-03T00:00:00.000000000Z",
          "2021-11-03T01:00:00.000000000Z",
          "2021-11-03T02:00:00.000000000Z",
          "2021-11-03T03:00:00.000000000Z",
          "2021-11-03T04:00:00.000000000Z",
          "2021-11-03T05:00:00.000000000Z",
          "2021-11-03T06:00:00.000000000Z",
          "2021-11-03T07:00:00.000000000Z",
          "2021-11-03T08:00:00.000000000Z",
          "2021-11-03T09:00:00.000000000Z",
          "2021-11-03T10:00:00.000000000Z",
          "2021-11-03T11:00:00.000000000Z",
          "2021-11-03T12:00:00.000000000Z",
          "2021-11-03T13:00:00.000000000Z",
          "2021-11-03T14:00:00.000000000Z",
          "2021-11-03T15:00:00.000000000Z",
          "2021-11-03T16:00:00.000000000Z",
          "2021-11-03T17:00:00.000000000Z",
          "2021-11-03T18:00:00.000000000Z"
         ]
        }
       ],
       "layout": {
        "font": {
         "color": "#e1e1e1",
         "size": 10
        },
        "height": 400,
        "margin": {
         "b": 5,
         "l": 5,
         "r": 5,
         "t": 5
        },
        "paper_bgcolor": "#1e1e1e",
        "plot_bgcolor": "#1e1e1e",
        "template": {
         "data": {
          "bar": [
           {
            "error_x": {
             "color": "#2a3f5f"
            },
            "error_y": {
             "color": "#2a3f5f"
            },
            "marker": {
             "line": {
              "color": "#E5ECF6",
              "width": 0.5
             },
             "pattern": {
              "fillmode": "overlay",
              "size": 10,
              "solidity": 0.2
             }
            },
            "type": "bar"
           }
          ],
          "barpolar": [
           {
            "marker": {
             "line": {
              "color": "#E5ECF6",
              "width": 0.5
             },
             "pattern": {
              "fillmode": "overlay",
              "size": 10,
              "solidity": 0.2
             }
            },
            "type": "barpolar"
           }
          ],
          "carpet": [
           {
            "aaxis": {
             "endlinecolor": "#2a3f5f",
             "gridcolor": "white",
             "linecolor": "white",
             "minorgridcolor": "white",
             "startlinecolor": "#2a3f5f"
            },
            "baxis": {
             "endlinecolor": "#2a3f5f",
             "gridcolor": "white",
             "linecolor": "white",
             "minorgridcolor": "white",
             "startlinecolor": "#2a3f5f"
            },
            "type": "carpet"
           }
          ],
          "choropleth": [
           {
            "colorbar": {
             "outlinewidth": 0,
             "ticks": ""
            },
            "type": "choropleth"
           }
          ],
          "contour": [
           {
            "colorbar": {
             "outlinewidth": 0,
             "ticks": ""
            },
            "colorscale": [
             [
              0,
              "#0d0887"
             ],
             [
              0.1111111111111111,
              "#46039f"
             ],
             [
              0.2222222222222222,
              "#7201a8"
             ],
             [
              0.3333333333333333,
              "#9c179e"
             ],
             [
              0.4444444444444444,
              "#bd3786"
             ],
             [
              0.5555555555555556,
              "#d8576b"
             ],
             [
              0.6666666666666666,
              "#ed7953"
             ],
             [
              0.7777777777777778,
              "#fb9f3a"
             ],
             [
              0.8888888888888888,
              "#fdca26"
             ],
             [
              1,
              "#f0f921"
             ]
            ],
            "type": "contour"
           }
          ],
          "contourcarpet": [
           {
            "colorbar": {
             "outlinewidth": 0,
             "ticks": ""
            },
            "type": "contourcarpet"
           }
          ],
          "heatmap": [
           {
            "colorbar": {
             "outlinewidth": 0,
             "ticks": ""
            },
            "colorscale": [
             [
              0,
              "#0d0887"
             ],
             [
              0.1111111111111111,
              "#46039f"
             ],
             [
              0.2222222222222222,
              "#7201a8"
             ],
             [
              0.3333333333333333,
              "#9c179e"
             ],
             [
              0.4444444444444444,
              "#bd3786"
             ],
             [
              0.5555555555555556,
              "#d8576b"
             ],
             [
              0.6666666666666666,
              "#ed7953"
             ],
             [
              0.7777777777777778,
              "#fb9f3a"
             ],
             [
              0.8888888888888888,
              "#fdca26"
             ],
             [
              1,
              "#f0f921"
             ]
            ],
            "type": "heatmap"
           }
          ],
          "heatmapgl": [
           {
            "colorbar": {
             "outlinewidth": 0,
             "ticks": ""
            },
            "colorscale": [
             [
              0,
              "#0d0887"
             ],
             [
              0.1111111111111111,
              "#46039f"
             ],
             [
              0.2222222222222222,
              "#7201a8"
             ],
             [
              0.3333333333333333,
              "#9c179e"
             ],
             [
              0.4444444444444444,
              "#bd3786"
             ],
             [
              0.5555555555555556,
              "#d8576b"
             ],
             [
              0.6666666666666666,
              "#ed7953"
             ],
             [
              0.7777777777777778,
              "#fb9f3a"
             ],
             [
              0.8888888888888888,
              "#fdca26"
             ],
             [
              1,
              "#f0f921"
             ]
            ],
            "type": "heatmapgl"
           }
          ],
          "histogram": [
           {
            "marker": {
             "pattern": {
              "fillmode": "overlay",
              "size": 10,
              "solidity": 0.2
             }
            },
            "type": "histogram"
           }
          ],
          "histogram2d": [
           {
            "colorbar": {
             "outlinewidth": 0,
             "ticks": ""
            },
            "colorscale": [
             [
              0,
              "#0d0887"
             ],
             [
              0.1111111111111111,
              "#46039f"
             ],
             [
              0.2222222222222222,
              "#7201a8"
             ],
             [
              0.3333333333333333,
              "#9c179e"
             ],
             [
              0.4444444444444444,
              "#bd3786"
             ],
             [
              0.5555555555555556,
              "#d8576b"
             ],
             [
              0.6666666666666666,
              "#ed7953"
             ],
             [
              0.7777777777777778,
              "#fb9f3a"
             ],
             [
              0.8888888888888888,
              "#fdca26"
             ],
             [
              1,
              "#f0f921"
             ]
            ],
            "type": "histogram2d"
           }
          ],
          "histogram2dcontour": [
           {
            "colorbar": {
             "outlinewidth": 0,
             "ticks": ""
            },
            "colorscale": [
             [
              0,
              "#0d0887"
             ],
             [
              0.1111111111111111,
              "#46039f"
             ],
             [
              0.2222222222222222,
              "#7201a8"
             ],
             [
              0.3333333333333333,
              "#9c179e"
             ],
             [
              0.4444444444444444,
              "#bd3786"
             ],
             [
              0.5555555555555556,
              "#d8576b"
             ],
             [
              0.6666666666666666,
              "#ed7953"
             ],
             [
              0.7777777777777778,
              "#fb9f3a"
             ],
             [
              0.8888888888888888,
              "#fdca26"
             ],
             [
              1,
              "#f0f921"
             ]
            ],
            "type": "histogram2dcontour"
           }
          ],
          "mesh3d": [
           {
            "colorbar": {
             "outlinewidth": 0,
             "ticks": ""
            },
            "type": "mesh3d"
           }
          ],
          "parcoords": [
           {
            "line": {
             "colorbar": {
              "outlinewidth": 0,
              "ticks": ""
             }
            },
            "type": "parcoords"
           }
          ],
          "pie": [
           {
            "automargin": true,
            "type": "pie"
           }
          ],
          "scatter": [
           {
            "marker": {
             "colorbar": {
              "outlinewidth": 0,
              "ticks": ""
             }
            },
            "type": "scatter"
           }
          ],
          "scatter3d": [
           {
            "line": {
             "colorbar": {
              "outlinewidth": 0,
              "ticks": ""
             }
            },
            "marker": {
             "colorbar": {
              "outlinewidth": 0,
              "ticks": ""
             }
            },
            "type": "scatter3d"
           }
          ],
          "scattercarpet": [
           {
            "marker": {
             "colorbar": {
              "outlinewidth": 0,
              "ticks": ""
             }
            },
            "type": "scattercarpet"
           }
          ],
          "scattergeo": [
           {
            "marker": {
             "colorbar": {
              "outlinewidth": 0,
              "ticks": ""
             }
            },
            "type": "scattergeo"
           }
          ],
          "scattergl": [
           {
            "marker": {
             "colorbar": {
              "outlinewidth": 0,
              "ticks": ""
             }
            },
            "type": "scattergl"
           }
          ],
          "scattermapbox": [
           {
            "marker": {
             "colorbar": {
              "outlinewidth": 0,
              "ticks": ""
             }
            },
            "type": "scattermapbox"
           }
          ],
          "scatterpolar": [
           {
            "marker": {
             "colorbar": {
              "outlinewidth": 0,
              "ticks": ""
             }
            },
            "type": "scatterpolar"
           }
          ],
          "scatterpolargl": [
           {
            "marker": {
             "colorbar": {
              "outlinewidth": 0,
              "ticks": ""
             }
            },
            "type": "scatterpolargl"
           }
          ],
          "scatterternary": [
           {
            "marker": {
             "colorbar": {
              "outlinewidth": 0,
              "ticks": ""
             }
            },
            "type": "scatterternary"
           }
          ],
          "surface": [
           {
            "colorbar": {
             "outlinewidth": 0,
             "ticks": ""
            },
            "colorscale": [
             [
              0,
              "#0d0887"
             ],
             [
              0.1111111111111111,
              "#46039f"
             ],
             [
              0.2222222222222222,
              "#7201a8"
             ],
             [
              0.3333333333333333,
              "#9c179e"
             ],
             [
              0.4444444444444444,
              "#bd3786"
             ],
             [
              0.5555555555555556,
              "#d8576b"
             ],
             [
              0.6666666666666666,
              "#ed7953"
             ],
             [
              0.7777777777777778,
              "#fb9f3a"
             ],
             [
              0.8888888888888888,
              "#fdca26"
             ],
             [
              1,
              "#f0f921"
             ]
            ],
            "type": "surface"
           }
          ],
          "table": [
           {
            "cells": {
             "fill": {
              "color": "#EBF0F8"
             },
             "line": {
              "color": "white"
             }
            },
            "header": {
             "fill": {
              "color": "#C8D4E3"
             },
             "line": {
              "color": "white"
             }
            },
            "type": "table"
           }
          ]
         },
         "layout": {
          "annotationdefaults": {
           "arrowcolor": "#2a3f5f",
           "arrowhead": 0,
           "arrowwidth": 1
          },
          "autotypenumbers": "strict",
          "coloraxis": {
           "colorbar": {
            "outlinewidth": 0,
            "ticks": ""
           }
          },
          "colorscale": {
           "diverging": [
            [
             0,
             "#8e0152"
            ],
            [
             0.1,
             "#c51b7d"
            ],
            [
             0.2,
             "#de77ae"
            ],
            [
             0.3,
             "#f1b6da"
            ],
            [
             0.4,
             "#fde0ef"
            ],
            [
             0.5,
             "#f7f7f7"
            ],
            [
             0.6,
             "#e6f5d0"
            ],
            [
             0.7,
             "#b8e186"
            ],
            [
             0.8,
             "#7fbc41"
            ],
            [
             0.9,
             "#4d9221"
            ],
            [
             1,
             "#276419"
            ]
           ],
           "sequential": [
            [
             0,
             "#0d0887"
            ],
            [
             0.1111111111111111,
             "#46039f"
            ],
            [
             0.2222222222222222,
             "#7201a8"
            ],
            [
             0.3333333333333333,
             "#9c179e"
            ],
            [
             0.4444444444444444,
             "#bd3786"
            ],
            [
             0.5555555555555556,
             "#d8576b"
            ],
            [
             0.6666666666666666,
             "#ed7953"
            ],
            [
             0.7777777777777778,
             "#fb9f3a"
            ],
            [
             0.8888888888888888,
             "#fdca26"
            ],
            [
             1,
             "#f0f921"
            ]
           ],
           "sequentialminus": [
            [
             0,
             "#0d0887"
            ],
            [
             0.1111111111111111,
             "#46039f"
            ],
            [
             0.2222222222222222,
             "#7201a8"
            ],
            [
             0.3333333333333333,
             "#9c179e"
            ],
            [
             0.4444444444444444,
             "#bd3786"
            ],
            [
             0.5555555555555556,
             "#d8576b"
            ],
            [
             0.6666666666666666,
             "#ed7953"
            ],
            [
             0.7777777777777778,
             "#fb9f3a"
            ],
            [
             0.8888888888888888,
             "#fdca26"
            ],
            [
             1,
             "#f0f921"
            ]
           ]
          },
          "colorway": [
           "#636efa",
           "#EF553B",
           "#00cc96",
           "#ab63fa",
           "#FFA15A",
           "#19d3f3",
           "#FF6692",
           "#B6E880",
           "#FF97FF",
           "#FECB52"
          ],
          "font": {
           "color": "#2a3f5f"
          },
          "geo": {
           "bgcolor": "white",
           "lakecolor": "white",
           "landcolor": "#E5ECF6",
           "showlakes": true,
           "showland": true,
           "subunitcolor": "white"
          },
          "hoverlabel": {
           "align": "left"
          },
          "hovermode": "closest",
          "mapbox": {
           "style": "light"
          },
          "paper_bgcolor": "white",
          "plot_bgcolor": "#E5ECF6",
          "polar": {
           "angularaxis": {
            "gridcolor": "white",
            "linecolor": "white",
            "ticks": ""
           },
           "bgcolor": "#E5ECF6",
           "radialaxis": {
            "gridcolor": "white",
            "linecolor": "white",
            "ticks": ""
           }
          },
          "scene": {
           "xaxis": {
            "backgroundcolor": "#E5ECF6",
            "gridcolor": "white",
            "gridwidth": 2,
            "linecolor": "white",
            "showbackground": true,
            "ticks": "",
            "zerolinecolor": "white"
           },
           "yaxis": {
            "backgroundcolor": "#E5ECF6",
            "gridcolor": "white",
            "gridwidth": 2,
            "linecolor": "white",
            "showbackground": true,
            "ticks": "",
            "zerolinecolor": "white"
           },
           "zaxis": {
            "backgroundcolor": "#E5ECF6",
            "gridcolor": "white",
            "gridwidth": 2,
            "linecolor": "white",
            "showbackground": true,
            "ticks": "",
            "zerolinecolor": "white"
           }
          },
          "shapedefaults": {
           "line": {
            "color": "#2a3f5f"
           }
          },
          "ternary": {
           "aaxis": {
            "gridcolor": "white",
            "linecolor": "white",
            "ticks": ""
           },
           "baxis": {
            "gridcolor": "white",
            "linecolor": "white",
            "ticks": ""
           },
           "bgcolor": "#E5ECF6",
           "caxis": {
            "gridcolor": "white",
            "linecolor": "white",
            "ticks": ""
           }
          },
          "title": {
           "x": 0.05
          },
          "xaxis": {
           "automargin": true,
           "gridcolor": "white",
           "linecolor": "white",
           "ticks": "",
           "title": {
            "standoff": 15
           },
           "zerolinecolor": "white",
           "zerolinewidth": 2
          },
          "yaxis": {
           "automargin": true,
           "gridcolor": "white",
           "linecolor": "white",
           "ticks": "",
           "title": {
            "standoff": 15
           },
           "zerolinecolor": "white",
           "zerolinewidth": 2
          }
         }
        },
        "width": 1000,
        "xaxis": {
         "fixedrange": true,
         "gridcolor": "#303030",
         "rangeslider": {
          "visible": false
         },
         "showgrid": true
        },
        "yaxis": {
         "gridcolor": "#303030",
         "showgrid": true
        }
       }
      }
     },
     "metadata": {},
     "output_type": "display_data"
    }
   ],
   "source": [
    "fig = go.Figure()\n",
    "fig.add_trace(go.Candlestick(\n",
    "    x       = df_plot.time,\n",
    "    open    = df_plot.mid_o,\n",
    "    high    = df_plot.mid_h,\n",
    "    low     = df_plot.mid_l,\n",
    "    close   = df_plot.mid_c,\n",
    "    line    = dict(width=1), \n",
    "    opacity = 1,\n",
    "    increasing_fillcolor    = \"#55FF55\",\n",
    "    decreasing_fillcolor    = \"#FF5555\",\n",
    "    increasing_line_color   = \"#55AA55\",\n",
    "    decreasing_line_color   = \"#AA5555\"\n",
    "))\n",
    "fig.update_layout(\n",
    "    width=1000,\n",
    "    height=400,\n",
    "    margin=dict(l=5,r=5,b=5,t=5),\n",
    "    font=dict(size=10,color=\"#e1e1e1\"),\n",
    "    paper_bgcolor=\"#1e1e1e\",\n",
    "    plot_bgcolor=\"#1e1e1e\"\n",
    ")\n",
    "fig.update_xaxes(\n",
    "    gridcolor=\"#303030\",\n",
    "    showgrid=True,fixedrange=True,rangeslider=dict(visible=False)\n",
    ")\n",
    "fig.update_yaxes(\n",
    "    gridcolor=\"#303030\",\n",
    "    showgrid=True\n",
    ")\n",
    "\n",
    "\n",
    "fig.show()"
   ]
  },
  {
   "cell_type": "code",
   "execution_count": 8,
   "metadata": {},
   "outputs": [],
   "source": [
    "df_ma = df[['time','mid_o','mid_h','mid_l','mid_c']].copy()"
   ]
  },
  {
   "cell_type": "code",
   "execution_count": 9,
   "metadata": {},
   "outputs": [
    {
     "data": {
      "text/html": [
       "<div>\n",
       "<style scoped>\n",
       "    .dataframe tbody tr th:only-of-type {\n",
       "        vertical-align: middle;\n",
       "    }\n",
       "\n",
       "    .dataframe tbody tr th {\n",
       "        vertical-align: top;\n",
       "    }\n",
       "\n",
       "    .dataframe thead th {\n",
       "        text-align: right;\n",
       "    }\n",
       "</style>\n",
       "<table border=\"1\" class=\"dataframe\">\n",
       "  <thead>\n",
       "    <tr style=\"text-align: right;\">\n",
       "      <th></th>\n",
       "      <th>time</th>\n",
       "      <th>mid_o</th>\n",
       "      <th>mid_h</th>\n",
       "      <th>mid_l</th>\n",
       "      <th>mid_c</th>\n",
       "    </tr>\n",
       "  </thead>\n",
       "  <tbody>\n",
       "    <tr>\n",
       "      <th>0</th>\n",
       "      <td>2021-03-16T03:00:00.000000000Z</td>\n",
       "      <td>1.19264</td>\n",
       "      <td>1.19372</td>\n",
       "      <td>1.19251</td>\n",
       "      <td>1.19338</td>\n",
       "    </tr>\n",
       "    <tr>\n",
       "      <th>1</th>\n",
       "      <td>2021-03-16T04:00:00.000000000Z</td>\n",
       "      <td>1.19339</td>\n",
       "      <td>1.19388</td>\n",
       "      <td>1.19328</td>\n",
       "      <td>1.19378</td>\n",
       "    </tr>\n",
       "    <tr>\n",
       "      <th>2</th>\n",
       "      <td>2021-03-16T05:00:00.000000000Z</td>\n",
       "      <td>1.19376</td>\n",
       "      <td>1.19389</td>\n",
       "      <td>1.19345</td>\n",
       "      <td>1.19350</td>\n",
       "    </tr>\n",
       "    <tr>\n",
       "      <th>3</th>\n",
       "      <td>2021-03-16T06:00:00.000000000Z</td>\n",
       "      <td>1.19350</td>\n",
       "      <td>1.19355</td>\n",
       "      <td>1.19274</td>\n",
       "      <td>1.19296</td>\n",
       "    </tr>\n",
       "    <tr>\n",
       "      <th>4</th>\n",
       "      <td>2021-03-16T07:00:00.000000000Z</td>\n",
       "      <td>1.19298</td>\n",
       "      <td>1.19300</td>\n",
       "      <td>1.19155</td>\n",
       "      <td>1.19164</td>\n",
       "    </tr>\n",
       "  </tbody>\n",
       "</table>\n",
       "</div>"
      ],
      "text/plain": [
       "                             time    mid_o    mid_h    mid_l    mid_c\n",
       "0  2021-03-16T03:00:00.000000000Z  1.19264  1.19372  1.19251  1.19338\n",
       "1  2021-03-16T04:00:00.000000000Z  1.19339  1.19388  1.19328  1.19378\n",
       "2  2021-03-16T05:00:00.000000000Z  1.19376  1.19389  1.19345  1.19350\n",
       "3  2021-03-16T06:00:00.000000000Z  1.19350  1.19355  1.19274  1.19296\n",
       "4  2021-03-16T07:00:00.000000000Z  1.19298  1.19300  1.19155  1.19164"
      ]
     },
     "execution_count": 9,
     "metadata": {},
     "output_type": "execute_result"
    }
   ],
   "source": [
    "df_ma.head()"
   ]
  },
  {
   "cell_type": "code",
   "execution_count": 10,
   "metadata": {},
   "outputs": [],
   "source": [
    "pair = \"CAD_CHF\"\n",
    "granularity = \"H1\"\n",
    "ma_list = [16,64]\n",
    "inst_pair = instrument.Instrument.get_instrument_by_name(pair)\n",
    "for ma in ma_list:\n",
    "    df_ma[f'MA_{ma}'] = df_ma.mid_c.rolling(window=ma).mean()"
   ]
  },
  {
   "cell_type": "code",
   "execution_count": 11,
   "metadata": {},
   "outputs": [
    {
     "data": {
      "text/html": [
       "<div>\n",
       "<style scoped>\n",
       "    .dataframe tbody tr th:only-of-type {\n",
       "        vertical-align: middle;\n",
       "    }\n",
       "\n",
       "    .dataframe tbody tr th {\n",
       "        vertical-align: top;\n",
       "    }\n",
       "\n",
       "    .dataframe thead th {\n",
       "        text-align: right;\n",
       "    }\n",
       "</style>\n",
       "<table border=\"1\" class=\"dataframe\">\n",
       "  <thead>\n",
       "    <tr style=\"text-align: right;\">\n",
       "      <th></th>\n",
       "      <th>time</th>\n",
       "      <th>mid_o</th>\n",
       "      <th>mid_h</th>\n",
       "      <th>mid_l</th>\n",
       "      <th>mid_c</th>\n",
       "      <th>MA_16</th>\n",
       "      <th>MA_64</th>\n",
       "    </tr>\n",
       "  </thead>\n",
       "  <tbody>\n",
       "    <tr>\n",
       "      <th>0</th>\n",
       "      <td>2021-03-16T03:00:00.000000000Z</td>\n",
       "      <td>1.19264</td>\n",
       "      <td>1.19372</td>\n",
       "      <td>1.19251</td>\n",
       "      <td>1.19338</td>\n",
       "      <td>NaN</td>\n",
       "      <td>NaN</td>\n",
       "    </tr>\n",
       "    <tr>\n",
       "      <th>1</th>\n",
       "      <td>2021-03-16T04:00:00.000000000Z</td>\n",
       "      <td>1.19339</td>\n",
       "      <td>1.19388</td>\n",
       "      <td>1.19328</td>\n",
       "      <td>1.19378</td>\n",
       "      <td>NaN</td>\n",
       "      <td>NaN</td>\n",
       "    </tr>\n",
       "    <tr>\n",
       "      <th>2</th>\n",
       "      <td>2021-03-16T05:00:00.000000000Z</td>\n",
       "      <td>1.19376</td>\n",
       "      <td>1.19389</td>\n",
       "      <td>1.19345</td>\n",
       "      <td>1.19350</td>\n",
       "      <td>NaN</td>\n",
       "      <td>NaN</td>\n",
       "    </tr>\n",
       "    <tr>\n",
       "      <th>3</th>\n",
       "      <td>2021-03-16T06:00:00.000000000Z</td>\n",
       "      <td>1.19350</td>\n",
       "      <td>1.19355</td>\n",
       "      <td>1.19274</td>\n",
       "      <td>1.19296</td>\n",
       "      <td>NaN</td>\n",
       "      <td>NaN</td>\n",
       "    </tr>\n",
       "    <tr>\n",
       "      <th>4</th>\n",
       "      <td>2021-03-16T07:00:00.000000000Z</td>\n",
       "      <td>1.19298</td>\n",
       "      <td>1.19300</td>\n",
       "      <td>1.19155</td>\n",
       "      <td>1.19164</td>\n",
       "      <td>NaN</td>\n",
       "      <td>NaN</td>\n",
       "    </tr>\n",
       "    <tr>\n",
       "      <th>5</th>\n",
       "      <td>2021-03-16T08:00:00.000000000Z</td>\n",
       "      <td>1.19166</td>\n",
       "      <td>1.19288</td>\n",
       "      <td>1.19136</td>\n",
       "      <td>1.19268</td>\n",
       "      <td>NaN</td>\n",
       "      <td>NaN</td>\n",
       "    </tr>\n",
       "    <tr>\n",
       "      <th>6</th>\n",
       "      <td>2021-03-16T09:00:00.000000000Z</td>\n",
       "      <td>1.19267</td>\n",
       "      <td>1.19356</td>\n",
       "      <td>1.19224</td>\n",
       "      <td>1.19290</td>\n",
       "      <td>NaN</td>\n",
       "      <td>NaN</td>\n",
       "    </tr>\n",
       "    <tr>\n",
       "      <th>7</th>\n",
       "      <td>2021-03-16T10:00:00.000000000Z</td>\n",
       "      <td>1.19292</td>\n",
       "      <td>1.19458</td>\n",
       "      <td>1.19272</td>\n",
       "      <td>1.19444</td>\n",
       "      <td>NaN</td>\n",
       "      <td>NaN</td>\n",
       "    </tr>\n",
       "    <tr>\n",
       "      <th>8</th>\n",
       "      <td>2021-03-16T11:00:00.000000000Z</td>\n",
       "      <td>1.19442</td>\n",
       "      <td>1.19520</td>\n",
       "      <td>1.19430</td>\n",
       "      <td>1.19472</td>\n",
       "      <td>NaN</td>\n",
       "      <td>NaN</td>\n",
       "    </tr>\n",
       "    <tr>\n",
       "      <th>9</th>\n",
       "      <td>2021-03-16T12:00:00.000000000Z</td>\n",
       "      <td>1.19472</td>\n",
       "      <td>1.19500</td>\n",
       "      <td>1.19204</td>\n",
       "      <td>1.19230</td>\n",
       "      <td>NaN</td>\n",
       "      <td>NaN</td>\n",
       "    </tr>\n",
       "  </tbody>\n",
       "</table>\n",
       "</div>"
      ],
      "text/plain": [
       "                             time    mid_o    mid_h    mid_l    mid_c  MA_16  \\\n",
       "0  2021-03-16T03:00:00.000000000Z  1.19264  1.19372  1.19251  1.19338    NaN   \n",
       "1  2021-03-16T04:00:00.000000000Z  1.19339  1.19388  1.19328  1.19378    NaN   \n",
       "2  2021-03-16T05:00:00.000000000Z  1.19376  1.19389  1.19345  1.19350    NaN   \n",
       "3  2021-03-16T06:00:00.000000000Z  1.19350  1.19355  1.19274  1.19296    NaN   \n",
       "4  2021-03-16T07:00:00.000000000Z  1.19298  1.19300  1.19155  1.19164    NaN   \n",
       "5  2021-03-16T08:00:00.000000000Z  1.19166  1.19288  1.19136  1.19268    NaN   \n",
       "6  2021-03-16T09:00:00.000000000Z  1.19267  1.19356  1.19224  1.19290    NaN   \n",
       "7  2021-03-16T10:00:00.000000000Z  1.19292  1.19458  1.19272  1.19444    NaN   \n",
       "8  2021-03-16T11:00:00.000000000Z  1.19442  1.19520  1.19430  1.19472    NaN   \n",
       "9  2021-03-16T12:00:00.000000000Z  1.19472  1.19500  1.19204  1.19230    NaN   \n",
       "\n",
       "   MA_64  \n",
       "0    NaN  \n",
       "1    NaN  \n",
       "2    NaN  \n",
       "3    NaN  \n",
       "4    NaN  \n",
       "5    NaN  \n",
       "6    NaN  \n",
       "7    NaN  \n",
       "8    NaN  \n",
       "9    NaN  "
      ]
     },
     "execution_count": 11,
     "metadata": {},
     "output_type": "execute_result"
    }
   ],
   "source": [
    "df_ma.head(10)"
   ]
  },
  {
   "cell_type": "code",
   "execution_count": 12,
   "metadata": {},
   "outputs": [],
   "source": [
    "df_ma.dropna(inplace=True)"
   ]
  },
  {
   "cell_type": "code",
   "execution_count": 13,
   "metadata": {},
   "outputs": [
    {
     "data": {
      "text/html": [
       "<div>\n",
       "<style scoped>\n",
       "    .dataframe tbody tr th:only-of-type {\n",
       "        vertical-align: middle;\n",
       "    }\n",
       "\n",
       "    .dataframe tbody tr th {\n",
       "        vertical-align: top;\n",
       "    }\n",
       "\n",
       "    .dataframe thead th {\n",
       "        text-align: right;\n",
       "    }\n",
       "</style>\n",
       "<table border=\"1\" class=\"dataframe\">\n",
       "  <thead>\n",
       "    <tr style=\"text-align: right;\">\n",
       "      <th></th>\n",
       "      <th>time</th>\n",
       "      <th>mid_o</th>\n",
       "      <th>mid_h</th>\n",
       "      <th>mid_l</th>\n",
       "      <th>mid_c</th>\n",
       "      <th>MA_16</th>\n",
       "      <th>MA_64</th>\n",
       "    </tr>\n",
       "  </thead>\n",
       "  <tbody>\n",
       "    <tr>\n",
       "      <th>63</th>\n",
       "      <td>2021-03-18T18:00:00.000000000Z</td>\n",
       "      <td>1.19294</td>\n",
       "      <td>1.19300</td>\n",
       "      <td>1.19090</td>\n",
       "      <td>1.19136</td>\n",
       "      <td>1.193985</td>\n",
       "      <td>1.192708</td>\n",
       "    </tr>\n",
       "    <tr>\n",
       "      <th>64</th>\n",
       "      <td>2021-03-18T19:00:00.000000000Z</td>\n",
       "      <td>1.19134</td>\n",
       "      <td>1.19170</td>\n",
       "      <td>1.19062</td>\n",
       "      <td>1.19102</td>\n",
       "      <td>1.193679</td>\n",
       "      <td>1.192672</td>\n",
       "    </tr>\n",
       "    <tr>\n",
       "      <th>65</th>\n",
       "      <td>2021-03-18T20:00:00.000000000Z</td>\n",
       "      <td>1.19104</td>\n",
       "      <td>1.19186</td>\n",
       "      <td>1.19102</td>\n",
       "      <td>1.19160</td>\n",
       "      <td>1.193395</td>\n",
       "      <td>1.192638</td>\n",
       "    </tr>\n",
       "    <tr>\n",
       "      <th>66</th>\n",
       "      <td>2021-03-18T21:00:00.000000000Z</td>\n",
       "      <td>1.19124</td>\n",
       "      <td>1.19187</td>\n",
       "      <td>1.19124</td>\n",
       "      <td>1.19142</td>\n",
       "      <td>1.193078</td>\n",
       "      <td>1.192605</td>\n",
       "    </tr>\n",
       "    <tr>\n",
       "      <th>67</th>\n",
       "      <td>2021-03-18T22:00:00.000000000Z</td>\n",
       "      <td>1.19146</td>\n",
       "      <td>1.19206</td>\n",
       "      <td>1.19143</td>\n",
       "      <td>1.19172</td>\n",
       "      <td>1.192687</td>\n",
       "      <td>1.192586</td>\n",
       "    </tr>\n",
       "  </tbody>\n",
       "</table>\n",
       "</div>"
      ],
      "text/plain": [
       "                              time    mid_o    mid_h    mid_l    mid_c  \\\n",
       "63  2021-03-18T18:00:00.000000000Z  1.19294  1.19300  1.19090  1.19136   \n",
       "64  2021-03-18T19:00:00.000000000Z  1.19134  1.19170  1.19062  1.19102   \n",
       "65  2021-03-18T20:00:00.000000000Z  1.19104  1.19186  1.19102  1.19160   \n",
       "66  2021-03-18T21:00:00.000000000Z  1.19124  1.19187  1.19124  1.19142   \n",
       "67  2021-03-18T22:00:00.000000000Z  1.19146  1.19206  1.19143  1.19172   \n",
       "\n",
       "       MA_16     MA_64  \n",
       "63  1.193985  1.192708  \n",
       "64  1.193679  1.192672  \n",
       "65  1.193395  1.192638  \n",
       "66  1.193078  1.192605  \n",
       "67  1.192687  1.192586  "
      ]
     },
     "execution_count": 13,
     "metadata": {},
     "output_type": "execute_result"
    }
   ],
   "source": [
    "df_ma.head()"
   ]
  },
  {
   "cell_type": "code",
   "execution_count": 14,
   "metadata": {},
   "outputs": [],
   "source": [
    "df_ma.reset_index(drop=True,inplace=True)"
   ]
  },
  {
   "cell_type": "code",
   "execution_count": 15,
   "metadata": {},
   "outputs": [
    {
     "data": {
      "text/html": [
       "<div>\n",
       "<style scoped>\n",
       "    .dataframe tbody tr th:only-of-type {\n",
       "        vertical-align: middle;\n",
       "    }\n",
       "\n",
       "    .dataframe tbody tr th {\n",
       "        vertical-align: top;\n",
       "    }\n",
       "\n",
       "    .dataframe thead th {\n",
       "        text-align: right;\n",
       "    }\n",
       "</style>\n",
       "<table border=\"1\" class=\"dataframe\">\n",
       "  <thead>\n",
       "    <tr style=\"text-align: right;\">\n",
       "      <th></th>\n",
       "      <th>time</th>\n",
       "      <th>mid_o</th>\n",
       "      <th>mid_h</th>\n",
       "      <th>mid_l</th>\n",
       "      <th>mid_c</th>\n",
       "      <th>MA_16</th>\n",
       "      <th>MA_64</th>\n",
       "    </tr>\n",
       "  </thead>\n",
       "  <tbody>\n",
       "    <tr>\n",
       "      <th>0</th>\n",
       "      <td>2021-03-18T18:00:00.000000000Z</td>\n",
       "      <td>1.19294</td>\n",
       "      <td>1.19300</td>\n",
       "      <td>1.19090</td>\n",
       "      <td>1.19136</td>\n",
       "      <td>1.193985</td>\n",
       "      <td>1.192708</td>\n",
       "    </tr>\n",
       "    <tr>\n",
       "      <th>1</th>\n",
       "      <td>2021-03-18T19:00:00.000000000Z</td>\n",
       "      <td>1.19134</td>\n",
       "      <td>1.19170</td>\n",
       "      <td>1.19062</td>\n",
       "      <td>1.19102</td>\n",
       "      <td>1.193679</td>\n",
       "      <td>1.192672</td>\n",
       "    </tr>\n",
       "    <tr>\n",
       "      <th>2</th>\n",
       "      <td>2021-03-18T20:00:00.000000000Z</td>\n",
       "      <td>1.19104</td>\n",
       "      <td>1.19186</td>\n",
       "      <td>1.19102</td>\n",
       "      <td>1.19160</td>\n",
       "      <td>1.193395</td>\n",
       "      <td>1.192638</td>\n",
       "    </tr>\n",
       "    <tr>\n",
       "      <th>3</th>\n",
       "      <td>2021-03-18T21:00:00.000000000Z</td>\n",
       "      <td>1.19124</td>\n",
       "      <td>1.19187</td>\n",
       "      <td>1.19124</td>\n",
       "      <td>1.19142</td>\n",
       "      <td>1.193078</td>\n",
       "      <td>1.192605</td>\n",
       "    </tr>\n",
       "    <tr>\n",
       "      <th>4</th>\n",
       "      <td>2021-03-18T22:00:00.000000000Z</td>\n",
       "      <td>1.19146</td>\n",
       "      <td>1.19206</td>\n",
       "      <td>1.19143</td>\n",
       "      <td>1.19172</td>\n",
       "      <td>1.192687</td>\n",
       "      <td>1.192586</td>\n",
       "    </tr>\n",
       "  </tbody>\n",
       "</table>\n",
       "</div>"
      ],
      "text/plain": [
       "                             time    mid_o    mid_h    mid_l    mid_c  \\\n",
       "0  2021-03-18T18:00:00.000000000Z  1.19294  1.19300  1.19090  1.19136   \n",
       "1  2021-03-18T19:00:00.000000000Z  1.19134  1.19170  1.19062  1.19102   \n",
       "2  2021-03-18T20:00:00.000000000Z  1.19104  1.19186  1.19102  1.19160   \n",
       "3  2021-03-18T21:00:00.000000000Z  1.19124  1.19187  1.19124  1.19142   \n",
       "4  2021-03-18T22:00:00.000000000Z  1.19146  1.19206  1.19143  1.19172   \n",
       "\n",
       "      MA_16     MA_64  \n",
       "0  1.193985  1.192708  \n",
       "1  1.193679  1.192672  \n",
       "2  1.193395  1.192638  \n",
       "3  1.193078  1.192605  \n",
       "4  1.192687  1.192586  "
      ]
     },
     "execution_count": 15,
     "metadata": {},
     "output_type": "execute_result"
    }
   ],
   "source": [
    "df_ma.head()"
   ]
  },
  {
   "cell_type": "code",
   "execution_count": 16,
   "metadata": {},
   "outputs": [],
   "source": [
    "df_ma['DIFF'] = df_ma.MA_16 - df_ma.MA_64\n",
    "df_ma['DIFF_PREV'] = df_ma.DIFF.shift(1)"
   ]
  },
  {
   "cell_type": "code",
   "execution_count": 17,
   "metadata": {},
   "outputs": [
    {
     "data": {
      "text/html": [
       "<div>\n",
       "<style scoped>\n",
       "    .dataframe tbody tr th:only-of-type {\n",
       "        vertical-align: middle;\n",
       "    }\n",
       "\n",
       "    .dataframe tbody tr th {\n",
       "        vertical-align: top;\n",
       "    }\n",
       "\n",
       "    .dataframe thead th {\n",
       "        text-align: right;\n",
       "    }\n",
       "</style>\n",
       "<table border=\"1\" class=\"dataframe\">\n",
       "  <thead>\n",
       "    <tr style=\"text-align: right;\">\n",
       "      <th></th>\n",
       "      <th>time</th>\n",
       "      <th>mid_o</th>\n",
       "      <th>mid_h</th>\n",
       "      <th>mid_l</th>\n",
       "      <th>mid_c</th>\n",
       "      <th>MA_16</th>\n",
       "      <th>MA_64</th>\n",
       "      <th>DIFF</th>\n",
       "      <th>DIFF_PREV</th>\n",
       "    </tr>\n",
       "  </thead>\n",
       "  <tbody>\n",
       "    <tr>\n",
       "      <th>0</th>\n",
       "      <td>2021-03-18T18:00:00.000000000Z</td>\n",
       "      <td>1.19294</td>\n",
       "      <td>1.19300</td>\n",
       "      <td>1.19090</td>\n",
       "      <td>1.19136</td>\n",
       "      <td>1.193985</td>\n",
       "      <td>1.192708</td>\n",
       "      <td>0.001277</td>\n",
       "      <td>NaN</td>\n",
       "    </tr>\n",
       "    <tr>\n",
       "      <th>1</th>\n",
       "      <td>2021-03-18T19:00:00.000000000Z</td>\n",
       "      <td>1.19134</td>\n",
       "      <td>1.19170</td>\n",
       "      <td>1.19062</td>\n",
       "      <td>1.19102</td>\n",
       "      <td>1.193679</td>\n",
       "      <td>1.192672</td>\n",
       "      <td>0.001007</td>\n",
       "      <td>0.001277</td>\n",
       "    </tr>\n",
       "    <tr>\n",
       "      <th>2</th>\n",
       "      <td>2021-03-18T20:00:00.000000000Z</td>\n",
       "      <td>1.19104</td>\n",
       "      <td>1.19186</td>\n",
       "      <td>1.19102</td>\n",
       "      <td>1.19160</td>\n",
       "      <td>1.193395</td>\n",
       "      <td>1.192638</td>\n",
       "      <td>0.000757</td>\n",
       "      <td>0.001007</td>\n",
       "    </tr>\n",
       "    <tr>\n",
       "      <th>3</th>\n",
       "      <td>2021-03-18T21:00:00.000000000Z</td>\n",
       "      <td>1.19124</td>\n",
       "      <td>1.19187</td>\n",
       "      <td>1.19124</td>\n",
       "      <td>1.19142</td>\n",
       "      <td>1.193078</td>\n",
       "      <td>1.192605</td>\n",
       "      <td>0.000472</td>\n",
       "      <td>0.000757</td>\n",
       "    </tr>\n",
       "    <tr>\n",
       "      <th>4</th>\n",
       "      <td>2021-03-18T22:00:00.000000000Z</td>\n",
       "      <td>1.19146</td>\n",
       "      <td>1.19206</td>\n",
       "      <td>1.19143</td>\n",
       "      <td>1.19172</td>\n",
       "      <td>1.192687</td>\n",
       "      <td>1.192586</td>\n",
       "      <td>0.000102</td>\n",
       "      <td>0.000472</td>\n",
       "    </tr>\n",
       "    <tr>\n",
       "      <th>...</th>\n",
       "      <td>...</td>\n",
       "      <td>...</td>\n",
       "      <td>...</td>\n",
       "      <td>...</td>\n",
       "      <td>...</td>\n",
       "      <td>...</td>\n",
       "      <td>...</td>\n",
       "      <td>...</td>\n",
       "      <td>...</td>\n",
       "    </tr>\n",
       "    <tr>\n",
       "      <th>3932</th>\n",
       "      <td>2021-11-03T14:00:00.000000000Z</td>\n",
       "      <td>1.15712</td>\n",
       "      <td>1.15802</td>\n",
       "      <td>1.15624</td>\n",
       "      <td>1.15784</td>\n",
       "      <td>1.158323</td>\n",
       "      <td>1.158446</td>\n",
       "      <td>-0.000123</td>\n",
       "      <td>-0.000091</td>\n",
       "    </tr>\n",
       "    <tr>\n",
       "      <th>3933</th>\n",
       "      <td>2021-11-03T15:00:00.000000000Z</td>\n",
       "      <td>1.15782</td>\n",
       "      <td>1.15860</td>\n",
       "      <td>1.15734</td>\n",
       "      <td>1.15846</td>\n",
       "      <td>1.158357</td>\n",
       "      <td>1.158490</td>\n",
       "      <td>-0.000133</td>\n",
       "      <td>-0.000123</td>\n",
       "    </tr>\n",
       "    <tr>\n",
       "      <th>3934</th>\n",
       "      <td>2021-11-03T16:00:00.000000000Z</td>\n",
       "      <td>1.15844</td>\n",
       "      <td>1.15860</td>\n",
       "      <td>1.15778</td>\n",
       "      <td>1.15827</td>\n",
       "      <td>1.158374</td>\n",
       "      <td>1.158533</td>\n",
       "      <td>-0.000160</td>\n",
       "      <td>-0.000133</td>\n",
       "    </tr>\n",
       "    <tr>\n",
       "      <th>3935</th>\n",
       "      <td>2021-11-03T17:00:00.000000000Z</td>\n",
       "      <td>1.15828</td>\n",
       "      <td>1.15874</td>\n",
       "      <td>1.15783</td>\n",
       "      <td>1.15834</td>\n",
       "      <td>1.158379</td>\n",
       "      <td>1.158575</td>\n",
       "      <td>-0.000197</td>\n",
       "      <td>-0.000160</td>\n",
       "    </tr>\n",
       "    <tr>\n",
       "      <th>3936</th>\n",
       "      <td>2021-11-03T18:00:00.000000000Z</td>\n",
       "      <td>1.15836</td>\n",
       "      <td>1.16164</td>\n",
       "      <td>1.15720</td>\n",
       "      <td>1.16102</td>\n",
       "      <td>1.158542</td>\n",
       "      <td>1.158663</td>\n",
       "      <td>-0.000121</td>\n",
       "      <td>-0.000197</td>\n",
       "    </tr>\n",
       "  </tbody>\n",
       "</table>\n",
       "<p>3937 rows × 9 columns</p>\n",
       "</div>"
      ],
      "text/plain": [
       "                                time    mid_o    mid_h    mid_l    mid_c  \\\n",
       "0     2021-03-18T18:00:00.000000000Z  1.19294  1.19300  1.19090  1.19136   \n",
       "1     2021-03-18T19:00:00.000000000Z  1.19134  1.19170  1.19062  1.19102   \n",
       "2     2021-03-18T20:00:00.000000000Z  1.19104  1.19186  1.19102  1.19160   \n",
       "3     2021-03-18T21:00:00.000000000Z  1.19124  1.19187  1.19124  1.19142   \n",
       "4     2021-03-18T22:00:00.000000000Z  1.19146  1.19206  1.19143  1.19172   \n",
       "...                              ...      ...      ...      ...      ...   \n",
       "3932  2021-11-03T14:00:00.000000000Z  1.15712  1.15802  1.15624  1.15784   \n",
       "3933  2021-11-03T15:00:00.000000000Z  1.15782  1.15860  1.15734  1.15846   \n",
       "3934  2021-11-03T16:00:00.000000000Z  1.15844  1.15860  1.15778  1.15827   \n",
       "3935  2021-11-03T17:00:00.000000000Z  1.15828  1.15874  1.15783  1.15834   \n",
       "3936  2021-11-03T18:00:00.000000000Z  1.15836  1.16164  1.15720  1.16102   \n",
       "\n",
       "         MA_16     MA_64      DIFF  DIFF_PREV  \n",
       "0     1.193985  1.192708  0.001277        NaN  \n",
       "1     1.193679  1.192672  0.001007   0.001277  \n",
       "2     1.193395  1.192638  0.000757   0.001007  \n",
       "3     1.193078  1.192605  0.000472   0.000757  \n",
       "4     1.192687  1.192586  0.000102   0.000472  \n",
       "...        ...       ...       ...        ...  \n",
       "3932  1.158323  1.158446 -0.000123  -0.000091  \n",
       "3933  1.158357  1.158490 -0.000133  -0.000123  \n",
       "3934  1.158374  1.158533 -0.000160  -0.000133  \n",
       "3935  1.158379  1.158575 -0.000197  -0.000160  \n",
       "3936  1.158542  1.158663 -0.000121  -0.000197  \n",
       "\n",
       "[3937 rows x 9 columns]"
      ]
     },
     "execution_count": 17,
     "metadata": {},
     "output_type": "execute_result"
    }
   ],
   "source": [
    "df_ma"
   ]
  },
  {
   "cell_type": "code",
   "execution_count": 18,
   "metadata": {},
   "outputs": [],
   "source": [
    "def is_trade(row):\n",
    "    if row.DIFF >=0 and row.DIFF_PREV < 0:\n",
    "        return 1\n",
    "    if row.DIFF <=0 and row.DIFF_PREV > 0:\n",
    "        return -1\n",
    "    return 0"
   ]
  },
  {
   "cell_type": "code",
   "execution_count": 19,
   "metadata": {},
   "outputs": [],
   "source": [
    "df_ma['IS_TRADE'] = df_ma.apply(is_trade, axis=1)"
   ]
  },
  {
   "cell_type": "code",
   "execution_count": 31,
   "metadata": {},
   "outputs": [],
   "source": [
    "df_trades = df_ma[df_ma.IS_TRADE!=0].copy()"
   ]
  },
  {
   "cell_type": "code",
   "execution_count": 21,
   "metadata": {},
   "outputs": [
    {
     "data": {
      "text/html": [
       "<div>\n",
       "<style scoped>\n",
       "    .dataframe tbody tr th:only-of-type {\n",
       "        vertical-align: middle;\n",
       "    }\n",
       "\n",
       "    .dataframe tbody tr th {\n",
       "        vertical-align: top;\n",
       "    }\n",
       "\n",
       "    .dataframe thead th {\n",
       "        text-align: right;\n",
       "    }\n",
       "</style>\n",
       "<table border=\"1\" class=\"dataframe\">\n",
       "  <thead>\n",
       "    <tr style=\"text-align: right;\">\n",
       "      <th></th>\n",
       "      <th>time</th>\n",
       "      <th>mid_o</th>\n",
       "      <th>mid_h</th>\n",
       "      <th>mid_l</th>\n",
       "      <th>mid_c</th>\n",
       "      <th>MA_16</th>\n",
       "      <th>MA_64</th>\n",
       "      <th>DIFF</th>\n",
       "      <th>DIFF_PREV</th>\n",
       "      <th>IS_TRADE</th>\n",
       "    </tr>\n",
       "  </thead>\n",
       "  <tbody>\n",
       "    <tr>\n",
       "      <th>5</th>\n",
       "      <td>2021-03-18T23:00:00.000000000Z</td>\n",
       "      <td>1.19174</td>\n",
       "      <td>1.19193</td>\n",
       "      <td>1.19142</td>\n",
       "      <td>1.19178</td>\n",
       "      <td>1.192502</td>\n",
       "      <td>1.192588</td>\n",
       "      <td>-0.000085</td>\n",
       "      <td>0.000102</td>\n",
       "      <td>-1</td>\n",
       "    </tr>\n",
       "    <tr>\n",
       "      <th>49</th>\n",
       "      <td>2021-03-22T19:00:00.000000000Z</td>\n",
       "      <td>1.19419</td>\n",
       "      <td>1.19422</td>\n",
       "      <td>1.19356</td>\n",
       "      <td>1.19364</td>\n",
       "      <td>1.191548</td>\n",
       "      <td>1.191513</td>\n",
       "      <td>0.000035</td>\n",
       "      <td>-0.000259</td>\n",
       "      <td>1</td>\n",
       "    </tr>\n",
       "    <tr>\n",
       "      <th>68</th>\n",
       "      <td>2021-03-23T14:00:00.000000000Z</td>\n",
       "      <td>1.18726</td>\n",
       "      <td>1.18761</td>\n",
       "      <td>1.18616</td>\n",
       "      <td>1.18737</td>\n",
       "      <td>1.190782</td>\n",
       "      <td>1.190872</td>\n",
       "      <td>-0.000090</td>\n",
       "      <td>0.000216</td>\n",
       "      <td>-1</td>\n",
       "    </tr>\n",
       "    <tr>\n",
       "      <th>236</th>\n",
       "      <td>2021-04-01T14:00:00.000000000Z</td>\n",
       "      <td>1.17540</td>\n",
       "      <td>1.17654</td>\n",
       "      <td>1.17390</td>\n",
       "      <td>1.17596</td>\n",
       "      <td>1.173422</td>\n",
       "      <td>1.173351</td>\n",
       "      <td>0.000070</td>\n",
       "      <td>-0.000154</td>\n",
       "      <td>1</td>\n",
       "    </tr>\n",
       "    <tr>\n",
       "      <th>425</th>\n",
       "      <td>2021-04-13T11:00:00.000000000Z</td>\n",
       "      <td>1.18913</td>\n",
       "      <td>1.18970</td>\n",
       "      <td>1.18851</td>\n",
       "      <td>1.18963</td>\n",
       "      <td>1.189946</td>\n",
       "      <td>1.189963</td>\n",
       "      <td>-0.000018</td>\n",
       "      <td>0.000031</td>\n",
       "      <td>-1</td>\n",
       "    </tr>\n",
       "  </tbody>\n",
       "</table>\n",
       "</div>"
      ],
      "text/plain": [
       "                               time    mid_o    mid_h    mid_l    mid_c  \\\n",
       "5    2021-03-18T23:00:00.000000000Z  1.19174  1.19193  1.19142  1.19178   \n",
       "49   2021-03-22T19:00:00.000000000Z  1.19419  1.19422  1.19356  1.19364   \n",
       "68   2021-03-23T14:00:00.000000000Z  1.18726  1.18761  1.18616  1.18737   \n",
       "236  2021-04-01T14:00:00.000000000Z  1.17540  1.17654  1.17390  1.17596   \n",
       "425  2021-04-13T11:00:00.000000000Z  1.18913  1.18970  1.18851  1.18963   \n",
       "\n",
       "        MA_16     MA_64      DIFF  DIFF_PREV  IS_TRADE  \n",
       "5    1.192502  1.192588 -0.000085   0.000102        -1  \n",
       "49   1.191548  1.191513  0.000035  -0.000259         1  \n",
       "68   1.190782  1.190872 -0.000090   0.000216        -1  \n",
       "236  1.173422  1.173351  0.000070  -0.000154         1  \n",
       "425  1.189946  1.189963 -0.000018   0.000031        -1  "
      ]
     },
     "execution_count": 21,
     "metadata": {},
     "output_type": "execute_result"
    }
   ],
   "source": [
    "df_trades.head()"
   ]
  },
  {
   "cell_type": "code",
   "execution_count": 32,
   "metadata": {},
   "outputs": [],
   "source": [
    "df_trades[\"DELTA\"] = (df_trades.mid_c.diff()).shift(-1)\n",
    "df_trades[\"DELTA_PIPS\"] = (df_trades.mid_c.diff() / inst_pair.pipLocation).shift(-1)\n",
    "df_trades[\"GAIN\"] = df_trades[\"DELTA_PIPS\"] * df_trades[\"IS_TRADE\"]\n",
    "df_trades[\"PIP_LOC\"] = inst_pair.pipLocation"
   ]
  },
  {
   "cell_type": "code",
   "execution_count": 34,
   "metadata": {},
   "outputs": [],
   "source": [
    "from dateutil.parser import *\n",
    "df_trades[\"time\"] = [parse(x) for x in df_trades.time]"
   ]
  },
  {
   "cell_type": "code",
   "execution_count": 38,
   "metadata": {},
   "outputs": [],
   "source": [
    "df_trades[\"DURATION\"] = df_trades.time.diff().shift(-1)\n",
    "df_trades[\"DURATION\"] = [x.total_seconds() / 3600 for x in df_trades.DURATION]"
   ]
  },
  {
   "cell_type": "code",
   "execution_count": 39,
   "metadata": {},
   "outputs": [
    {
     "data": {
      "text/html": [
       "<div>\n",
       "<style scoped>\n",
       "    .dataframe tbody tr th:only-of-type {\n",
       "        vertical-align: middle;\n",
       "    }\n",
       "\n",
       "    .dataframe tbody tr th {\n",
       "        vertical-align: top;\n",
       "    }\n",
       "\n",
       "    .dataframe thead th {\n",
       "        text-align: right;\n",
       "    }\n",
       "</style>\n",
       "<table border=\"1\" class=\"dataframe\">\n",
       "  <thead>\n",
       "    <tr style=\"text-align: right;\">\n",
       "      <th></th>\n",
       "      <th>time</th>\n",
       "      <th>mid_o</th>\n",
       "      <th>mid_h</th>\n",
       "      <th>mid_l</th>\n",
       "      <th>mid_c</th>\n",
       "      <th>MA_16</th>\n",
       "      <th>MA_64</th>\n",
       "      <th>DIFF</th>\n",
       "      <th>DIFF_PREV</th>\n",
       "      <th>IS_TRADE</th>\n",
       "      <th>DELTA</th>\n",
       "      <th>DELTA_PIPS</th>\n",
       "      <th>GAIN</th>\n",
       "      <th>PIP_LOC</th>\n",
       "      <th>DURATION</th>\n",
       "    </tr>\n",
       "  </thead>\n",
       "  <tbody>\n",
       "    <tr>\n",
       "      <th>5</th>\n",
       "      <td>2021-03-18 23:00:00+00:00</td>\n",
       "      <td>1.19174</td>\n",
       "      <td>1.19193</td>\n",
       "      <td>1.19142</td>\n",
       "      <td>1.19178</td>\n",
       "      <td>1.192502</td>\n",
       "      <td>1.192588</td>\n",
       "      <td>-0.000085</td>\n",
       "      <td>0.000102</td>\n",
       "      <td>-1</td>\n",
       "      <td>0.00186</td>\n",
       "      <td>18.6</td>\n",
       "      <td>-18.6</td>\n",
       "      <td>0.0001</td>\n",
       "      <td>92.0</td>\n",
       "    </tr>\n",
       "    <tr>\n",
       "      <th>49</th>\n",
       "      <td>2021-03-22 19:00:00+00:00</td>\n",
       "      <td>1.19419</td>\n",
       "      <td>1.19422</td>\n",
       "      <td>1.19356</td>\n",
       "      <td>1.19364</td>\n",
       "      <td>1.191548</td>\n",
       "      <td>1.191513</td>\n",
       "      <td>0.000035</td>\n",
       "      <td>-0.000259</td>\n",
       "      <td>1</td>\n",
       "      <td>-0.00627</td>\n",
       "      <td>-62.7</td>\n",
       "      <td>-62.7</td>\n",
       "      <td>0.0001</td>\n",
       "      <td>19.0</td>\n",
       "    </tr>\n",
       "    <tr>\n",
       "      <th>68</th>\n",
       "      <td>2021-03-23 14:00:00+00:00</td>\n",
       "      <td>1.18726</td>\n",
       "      <td>1.18761</td>\n",
       "      <td>1.18616</td>\n",
       "      <td>1.18737</td>\n",
       "      <td>1.190782</td>\n",
       "      <td>1.190872</td>\n",
       "      <td>-0.000090</td>\n",
       "      <td>0.000216</td>\n",
       "      <td>-1</td>\n",
       "      <td>-0.01141</td>\n",
       "      <td>-114.1</td>\n",
       "      <td>114.1</td>\n",
       "      <td>0.0001</td>\n",
       "      <td>216.0</td>\n",
       "    </tr>\n",
       "    <tr>\n",
       "      <th>236</th>\n",
       "      <td>2021-04-01 14:00:00+00:00</td>\n",
       "      <td>1.17540</td>\n",
       "      <td>1.17654</td>\n",
       "      <td>1.17390</td>\n",
       "      <td>1.17596</td>\n",
       "      <td>1.173422</td>\n",
       "      <td>1.173351</td>\n",
       "      <td>0.000070</td>\n",
       "      <td>-0.000154</td>\n",
       "      <td>1</td>\n",
       "      <td>0.01367</td>\n",
       "      <td>136.7</td>\n",
       "      <td>136.7</td>\n",
       "      <td>0.0001</td>\n",
       "      <td>285.0</td>\n",
       "    </tr>\n",
       "    <tr>\n",
       "      <th>425</th>\n",
       "      <td>2021-04-13 11:00:00+00:00</td>\n",
       "      <td>1.18913</td>\n",
       "      <td>1.18970</td>\n",
       "      <td>1.18851</td>\n",
       "      <td>1.18963</td>\n",
       "      <td>1.189946</td>\n",
       "      <td>1.189963</td>\n",
       "      <td>-0.000018</td>\n",
       "      <td>0.000031</td>\n",
       "      <td>-1</td>\n",
       "      <td>0.00281</td>\n",
       "      <td>28.1</td>\n",
       "      <td>-28.1</td>\n",
       "      <td>0.0001</td>\n",
       "      <td>1.0</td>\n",
       "    </tr>\n",
       "    <tr>\n",
       "      <th>...</th>\n",
       "      <td>...</td>\n",
       "      <td>...</td>\n",
       "      <td>...</td>\n",
       "      <td>...</td>\n",
       "      <td>...</td>\n",
       "      <td>...</td>\n",
       "      <td>...</td>\n",
       "      <td>...</td>\n",
       "      <td>...</td>\n",
       "      <td>...</td>\n",
       "      <td>...</td>\n",
       "      <td>...</td>\n",
       "      <td>...</td>\n",
       "      <td>...</td>\n",
       "      <td>...</td>\n",
       "    </tr>\n",
       "    <tr>\n",
       "      <th>3830</th>\n",
       "      <td>2021-10-28 08:00:00+00:00</td>\n",
       "      <td>1.16088</td>\n",
       "      <td>1.16145</td>\n",
       "      <td>1.15835</td>\n",
       "      <td>1.15902</td>\n",
       "      <td>1.160299</td>\n",
       "      <td>1.160342</td>\n",
       "      <td>-0.000042</td>\n",
       "      <td>0.000050</td>\n",
       "      <td>-1</td>\n",
       "      <td>0.00665</td>\n",
       "      <td>66.5</td>\n",
       "      <td>-66.5</td>\n",
       "      <td>0.0001</td>\n",
       "      <td>5.0</td>\n",
       "    </tr>\n",
       "    <tr>\n",
       "      <th>3835</th>\n",
       "      <td>2021-10-28 13:00:00+00:00</td>\n",
       "      <td>1.16303</td>\n",
       "      <td>1.16601</td>\n",
       "      <td>1.16246</td>\n",
       "      <td>1.16567</td>\n",
       "      <td>1.160626</td>\n",
       "      <td>1.160379</td>\n",
       "      <td>0.000247</td>\n",
       "      <td>-0.000020</td>\n",
       "      <td>1</td>\n",
       "      <td>-0.00975</td>\n",
       "      <td>-97.5</td>\n",
       "      <td>-97.5</td>\n",
       "      <td>0.0001</td>\n",
       "      <td>29.0</td>\n",
       "    </tr>\n",
       "    <tr>\n",
       "      <th>3864</th>\n",
       "      <td>2021-10-29 18:00:00+00:00</td>\n",
       "      <td>1.15558</td>\n",
       "      <td>1.15628</td>\n",
       "      <td>1.15551</td>\n",
       "      <td>1.15592</td>\n",
       "      <td>1.162282</td>\n",
       "      <td>1.162493</td>\n",
       "      <td>-0.000210</td>\n",
       "      <td>0.000458</td>\n",
       "      <td>-1</td>\n",
       "      <td>0.00321</td>\n",
       "      <td>32.1</td>\n",
       "      <td>-32.1</td>\n",
       "      <td>0.0001</td>\n",
       "      <td>91.0</td>\n",
       "    </tr>\n",
       "    <tr>\n",
       "      <th>3907</th>\n",
       "      <td>2021-11-02 13:00:00+00:00</td>\n",
       "      <td>1.16070</td>\n",
       "      <td>1.16077</td>\n",
       "      <td>1.15890</td>\n",
       "      <td>1.15913</td>\n",
       "      <td>1.160092</td>\n",
       "      <td>1.160082</td>\n",
       "      <td>0.000010</td>\n",
       "      <td>-0.000047</td>\n",
       "      <td>1</td>\n",
       "      <td>-0.00057</td>\n",
       "      <td>-5.7</td>\n",
       "      <td>-5.7</td>\n",
       "      <td>0.0001</td>\n",
       "      <td>19.0</td>\n",
       "    </tr>\n",
       "    <tr>\n",
       "      <th>3926</th>\n",
       "      <td>2021-11-03 08:00:00+00:00</td>\n",
       "      <td>1.15806</td>\n",
       "      <td>1.15893</td>\n",
       "      <td>1.15784</td>\n",
       "      <td>1.15856</td>\n",
       "      <td>1.158208</td>\n",
       "      <td>1.158221</td>\n",
       "      <td>-0.000013</td>\n",
       "      <td>0.000013</td>\n",
       "      <td>-1</td>\n",
       "      <td>NaN</td>\n",
       "      <td>NaN</td>\n",
       "      <td>NaN</td>\n",
       "      <td>0.0001</td>\n",
       "      <td>NaN</td>\n",
       "    </tr>\n",
       "  </tbody>\n",
       "</table>\n",
       "<p>91 rows × 15 columns</p>\n",
       "</div>"
      ],
      "text/plain": [
       "                          time    mid_o    mid_h    mid_l    mid_c     MA_16  \\\n",
       "5    2021-03-18 23:00:00+00:00  1.19174  1.19193  1.19142  1.19178  1.192502   \n",
       "49   2021-03-22 19:00:00+00:00  1.19419  1.19422  1.19356  1.19364  1.191548   \n",
       "68   2021-03-23 14:00:00+00:00  1.18726  1.18761  1.18616  1.18737  1.190782   \n",
       "236  2021-04-01 14:00:00+00:00  1.17540  1.17654  1.17390  1.17596  1.173422   \n",
       "425  2021-04-13 11:00:00+00:00  1.18913  1.18970  1.18851  1.18963  1.189946   \n",
       "...                        ...      ...      ...      ...      ...       ...   \n",
       "3830 2021-10-28 08:00:00+00:00  1.16088  1.16145  1.15835  1.15902  1.160299   \n",
       "3835 2021-10-28 13:00:00+00:00  1.16303  1.16601  1.16246  1.16567  1.160626   \n",
       "3864 2021-10-29 18:00:00+00:00  1.15558  1.15628  1.15551  1.15592  1.162282   \n",
       "3907 2021-11-02 13:00:00+00:00  1.16070  1.16077  1.15890  1.15913  1.160092   \n",
       "3926 2021-11-03 08:00:00+00:00  1.15806  1.15893  1.15784  1.15856  1.158208   \n",
       "\n",
       "         MA_64      DIFF  DIFF_PREV  IS_TRADE    DELTA  DELTA_PIPS   GAIN  \\\n",
       "5     1.192588 -0.000085   0.000102        -1  0.00186        18.6  -18.6   \n",
       "49    1.191513  0.000035  -0.000259         1 -0.00627       -62.7  -62.7   \n",
       "68    1.190872 -0.000090   0.000216        -1 -0.01141      -114.1  114.1   \n",
       "236   1.173351  0.000070  -0.000154         1  0.01367       136.7  136.7   \n",
       "425   1.189963 -0.000018   0.000031        -1  0.00281        28.1  -28.1   \n",
       "...        ...       ...        ...       ...      ...         ...    ...   \n",
       "3830  1.160342 -0.000042   0.000050        -1  0.00665        66.5  -66.5   \n",
       "3835  1.160379  0.000247  -0.000020         1 -0.00975       -97.5  -97.5   \n",
       "3864  1.162493 -0.000210   0.000458        -1  0.00321        32.1  -32.1   \n",
       "3907  1.160082  0.000010  -0.000047         1 -0.00057        -5.7   -5.7   \n",
       "3926  1.158221 -0.000013   0.000013        -1      NaN         NaN    NaN   \n",
       "\n",
       "      PIP_LOC  DURATION  \n",
       "5      0.0001      92.0  \n",
       "49     0.0001      19.0  \n",
       "68     0.0001     216.0  \n",
       "236    0.0001     285.0  \n",
       "425    0.0001       1.0  \n",
       "...       ...       ...  \n",
       "3830   0.0001       5.0  \n",
       "3835   0.0001      29.0  \n",
       "3864   0.0001      91.0  \n",
       "3907   0.0001      19.0  \n",
       "3926   0.0001       NaN  \n",
       "\n",
       "[91 rows x 15 columns]"
      ]
     },
     "execution_count": 39,
     "metadata": {},
     "output_type": "execute_result"
    }
   ],
   "source": [
    "df_trades"
   ]
  },
  {
   "cell_type": "code",
   "execution_count": 33,
   "metadata": {},
   "outputs": [
    {
     "name": "stdout",
     "output_type": "stream",
     "text": [
      "<class 'pandas.core.frame.DataFrame'>\n",
      "Int64Index: 91 entries, 5 to 3926\n",
      "Data columns (total 14 columns):\n",
      " #   Column      Non-Null Count  Dtype  \n",
      "---  ------      --------------  -----  \n",
      " 0   time        91 non-null     object \n",
      " 1   mid_o       91 non-null     float64\n",
      " 2   mid_h       91 non-null     float64\n",
      " 3   mid_l       91 non-null     float64\n",
      " 4   mid_c       91 non-null     float64\n",
      " 5   MA_16       91 non-null     float64\n",
      " 6   MA_64       91 non-null     float64\n",
      " 7   DIFF        91 non-null     float64\n",
      " 8   DIFF_PREV   91 non-null     float64\n",
      " 9   IS_TRADE    91 non-null     int64  \n",
      " 10  DELTA       90 non-null     float64\n",
      " 11  DELTA_PIPS  90 non-null     float64\n",
      " 12  GAIN        90 non-null     float64\n",
      " 13  PIP_LOC     91 non-null     float64\n",
      "dtypes: float64(12), int64(1), object(1)\n",
      "memory usage: 10.7+ KB\n"
     ]
    }
   ],
   "source": [
    "df_trades.info()"
   ]
  },
  {
   "cell_type": "code",
   "execution_count": 26,
   "metadata": {},
   "outputs": [
    {
     "data": {
      "text/html": [
       "<div>\n",
       "<style scoped>\n",
       "    .dataframe tbody tr th:only-of-type {\n",
       "        vertical-align: middle;\n",
       "    }\n",
       "\n",
       "    .dataframe tbody tr th {\n",
       "        vertical-align: top;\n",
       "    }\n",
       "\n",
       "    .dataframe thead th {\n",
       "        text-align: right;\n",
       "    }\n",
       "</style>\n",
       "<table border=\"1\" class=\"dataframe\">\n",
       "  <thead>\n",
       "    <tr style=\"text-align: right;\">\n",
       "      <th></th>\n",
       "      <th>time</th>\n",
       "      <th>mid_o</th>\n",
       "      <th>mid_h</th>\n",
       "      <th>mid_l</th>\n",
       "      <th>mid_c</th>\n",
       "      <th>MA_16</th>\n",
       "      <th>MA_64</th>\n",
       "      <th>DIFF</th>\n",
       "      <th>DIFF_PREV</th>\n",
       "      <th>IS_TRADE</th>\n",
       "      <th>DELTA</th>\n",
       "      <th>DELTA_PIPS</th>\n",
       "      <th>GAIN</th>\n",
       "      <th>PIP_LOC</th>\n",
       "    </tr>\n",
       "  </thead>\n",
       "  <tbody>\n",
       "    <tr>\n",
       "      <th>5</th>\n",
       "      <td>2021-03-18T23:00:00.000000000Z</td>\n",
       "      <td>1.19174</td>\n",
       "      <td>1.19193</td>\n",
       "      <td>1.19142</td>\n",
       "      <td>1.19178</td>\n",
       "      <td>1.192502</td>\n",
       "      <td>1.192588</td>\n",
       "      <td>-0.000085</td>\n",
       "      <td>0.000102</td>\n",
       "      <td>-1</td>\n",
       "      <td>0.00186</td>\n",
       "      <td>18.6</td>\n",
       "      <td>-18.6</td>\n",
       "      <td>0.0001</td>\n",
       "    </tr>\n",
       "    <tr>\n",
       "      <th>49</th>\n",
       "      <td>2021-03-22T19:00:00.000000000Z</td>\n",
       "      <td>1.19419</td>\n",
       "      <td>1.19422</td>\n",
       "      <td>1.19356</td>\n",
       "      <td>1.19364</td>\n",
       "      <td>1.191548</td>\n",
       "      <td>1.191513</td>\n",
       "      <td>0.000035</td>\n",
       "      <td>-0.000259</td>\n",
       "      <td>1</td>\n",
       "      <td>-0.00627</td>\n",
       "      <td>-62.7</td>\n",
       "      <td>-62.7</td>\n",
       "      <td>0.0001</td>\n",
       "    </tr>\n",
       "    <tr>\n",
       "      <th>68</th>\n",
       "      <td>2021-03-23T14:00:00.000000000Z</td>\n",
       "      <td>1.18726</td>\n",
       "      <td>1.18761</td>\n",
       "      <td>1.18616</td>\n",
       "      <td>1.18737</td>\n",
       "      <td>1.190782</td>\n",
       "      <td>1.190872</td>\n",
       "      <td>-0.000090</td>\n",
       "      <td>0.000216</td>\n",
       "      <td>-1</td>\n",
       "      <td>-0.01141</td>\n",
       "      <td>-114.1</td>\n",
       "      <td>114.1</td>\n",
       "      <td>0.0001</td>\n",
       "    </tr>\n",
       "    <tr>\n",
       "      <th>236</th>\n",
       "      <td>2021-04-01T14:00:00.000000000Z</td>\n",
       "      <td>1.17540</td>\n",
       "      <td>1.17654</td>\n",
       "      <td>1.17390</td>\n",
       "      <td>1.17596</td>\n",
       "      <td>1.173422</td>\n",
       "      <td>1.173351</td>\n",
       "      <td>0.000070</td>\n",
       "      <td>-0.000154</td>\n",
       "      <td>1</td>\n",
       "      <td>0.01367</td>\n",
       "      <td>136.7</td>\n",
       "      <td>136.7</td>\n",
       "      <td>0.0001</td>\n",
       "    </tr>\n",
       "    <tr>\n",
       "      <th>425</th>\n",
       "      <td>2021-04-13T11:00:00.000000000Z</td>\n",
       "      <td>1.18913</td>\n",
       "      <td>1.18970</td>\n",
       "      <td>1.18851</td>\n",
       "      <td>1.18963</td>\n",
       "      <td>1.189946</td>\n",
       "      <td>1.189963</td>\n",
       "      <td>-0.000018</td>\n",
       "      <td>0.000031</td>\n",
       "      <td>-1</td>\n",
       "      <td>0.00281</td>\n",
       "      <td>28.1</td>\n",
       "      <td>-28.1</td>\n",
       "      <td>0.0001</td>\n",
       "    </tr>\n",
       "    <tr>\n",
       "      <th>...</th>\n",
       "      <td>...</td>\n",
       "      <td>...</td>\n",
       "      <td>...</td>\n",
       "      <td>...</td>\n",
       "      <td>...</td>\n",
       "      <td>...</td>\n",
       "      <td>...</td>\n",
       "      <td>...</td>\n",
       "      <td>...</td>\n",
       "      <td>...</td>\n",
       "      <td>...</td>\n",
       "      <td>...</td>\n",
       "      <td>...</td>\n",
       "      <td>...</td>\n",
       "    </tr>\n",
       "    <tr>\n",
       "      <th>3830</th>\n",
       "      <td>2021-10-28T08:00:00.000000000Z</td>\n",
       "      <td>1.16088</td>\n",
       "      <td>1.16145</td>\n",
       "      <td>1.15835</td>\n",
       "      <td>1.15902</td>\n",
       "      <td>1.160299</td>\n",
       "      <td>1.160342</td>\n",
       "      <td>-0.000042</td>\n",
       "      <td>0.000050</td>\n",
       "      <td>-1</td>\n",
       "      <td>0.00665</td>\n",
       "      <td>66.5</td>\n",
       "      <td>-66.5</td>\n",
       "      <td>0.0001</td>\n",
       "    </tr>\n",
       "    <tr>\n",
       "      <th>3835</th>\n",
       "      <td>2021-10-28T13:00:00.000000000Z</td>\n",
       "      <td>1.16303</td>\n",
       "      <td>1.16601</td>\n",
       "      <td>1.16246</td>\n",
       "      <td>1.16567</td>\n",
       "      <td>1.160626</td>\n",
       "      <td>1.160379</td>\n",
       "      <td>0.000247</td>\n",
       "      <td>-0.000020</td>\n",
       "      <td>1</td>\n",
       "      <td>-0.00975</td>\n",
       "      <td>-97.5</td>\n",
       "      <td>-97.5</td>\n",
       "      <td>0.0001</td>\n",
       "    </tr>\n",
       "    <tr>\n",
       "      <th>3864</th>\n",
       "      <td>2021-10-29T18:00:00.000000000Z</td>\n",
       "      <td>1.15558</td>\n",
       "      <td>1.15628</td>\n",
       "      <td>1.15551</td>\n",
       "      <td>1.15592</td>\n",
       "      <td>1.162282</td>\n",
       "      <td>1.162493</td>\n",
       "      <td>-0.000210</td>\n",
       "      <td>0.000458</td>\n",
       "      <td>-1</td>\n",
       "      <td>0.00321</td>\n",
       "      <td>32.1</td>\n",
       "      <td>-32.1</td>\n",
       "      <td>0.0001</td>\n",
       "    </tr>\n",
       "    <tr>\n",
       "      <th>3907</th>\n",
       "      <td>2021-11-02T13:00:00.000000000Z</td>\n",
       "      <td>1.16070</td>\n",
       "      <td>1.16077</td>\n",
       "      <td>1.15890</td>\n",
       "      <td>1.15913</td>\n",
       "      <td>1.160092</td>\n",
       "      <td>1.160082</td>\n",
       "      <td>0.000010</td>\n",
       "      <td>-0.000047</td>\n",
       "      <td>1</td>\n",
       "      <td>-0.00057</td>\n",
       "      <td>-5.7</td>\n",
       "      <td>-5.7</td>\n",
       "      <td>0.0001</td>\n",
       "    </tr>\n",
       "    <tr>\n",
       "      <th>3926</th>\n",
       "      <td>2021-11-03T08:00:00.000000000Z</td>\n",
       "      <td>1.15806</td>\n",
       "      <td>1.15893</td>\n",
       "      <td>1.15784</td>\n",
       "      <td>1.15856</td>\n",
       "      <td>1.158208</td>\n",
       "      <td>1.158221</td>\n",
       "      <td>-0.000013</td>\n",
       "      <td>0.000013</td>\n",
       "      <td>-1</td>\n",
       "      <td>NaN</td>\n",
       "      <td>NaN</td>\n",
       "      <td>NaN</td>\n",
       "      <td>0.0001</td>\n",
       "    </tr>\n",
       "  </tbody>\n",
       "</table>\n",
       "<p>91 rows × 14 columns</p>\n",
       "</div>"
      ],
      "text/plain": [
       "                                time    mid_o    mid_h    mid_l    mid_c  \\\n",
       "5     2021-03-18T23:00:00.000000000Z  1.19174  1.19193  1.19142  1.19178   \n",
       "49    2021-03-22T19:00:00.000000000Z  1.19419  1.19422  1.19356  1.19364   \n",
       "68    2021-03-23T14:00:00.000000000Z  1.18726  1.18761  1.18616  1.18737   \n",
       "236   2021-04-01T14:00:00.000000000Z  1.17540  1.17654  1.17390  1.17596   \n",
       "425   2021-04-13T11:00:00.000000000Z  1.18913  1.18970  1.18851  1.18963   \n",
       "...                              ...      ...      ...      ...      ...   \n",
       "3830  2021-10-28T08:00:00.000000000Z  1.16088  1.16145  1.15835  1.15902   \n",
       "3835  2021-10-28T13:00:00.000000000Z  1.16303  1.16601  1.16246  1.16567   \n",
       "3864  2021-10-29T18:00:00.000000000Z  1.15558  1.15628  1.15551  1.15592   \n",
       "3907  2021-11-02T13:00:00.000000000Z  1.16070  1.16077  1.15890  1.15913   \n",
       "3926  2021-11-03T08:00:00.000000000Z  1.15806  1.15893  1.15784  1.15856   \n",
       "\n",
       "         MA_16     MA_64      DIFF  DIFF_PREV  IS_TRADE    DELTA  DELTA_PIPS  \\\n",
       "5     1.192502  1.192588 -0.000085   0.000102        -1  0.00186        18.6   \n",
       "49    1.191548  1.191513  0.000035  -0.000259         1 -0.00627       -62.7   \n",
       "68    1.190782  1.190872 -0.000090   0.000216        -1 -0.01141      -114.1   \n",
       "236   1.173422  1.173351  0.000070  -0.000154         1  0.01367       136.7   \n",
       "425   1.189946  1.189963 -0.000018   0.000031        -1  0.00281        28.1   \n",
       "...        ...       ...       ...        ...       ...      ...         ...   \n",
       "3830  1.160299  1.160342 -0.000042   0.000050        -1  0.00665        66.5   \n",
       "3835  1.160626  1.160379  0.000247  -0.000020         1 -0.00975       -97.5   \n",
       "3864  1.162282  1.162493 -0.000210   0.000458        -1  0.00321        32.1   \n",
       "3907  1.160092  1.160082  0.000010  -0.000047         1 -0.00057        -5.7   \n",
       "3926  1.158208  1.158221 -0.000013   0.000013        -1      NaN         NaN   \n",
       "\n",
       "       GAIN  PIP_LOC  \n",
       "5     -18.6   0.0001  \n",
       "49    -62.7   0.0001  \n",
       "68    114.1   0.0001  \n",
       "236   136.7   0.0001  \n",
       "425   -28.1   0.0001  \n",
       "...     ...      ...  \n",
       "3830  -66.5   0.0001  \n",
       "3835  -97.5   0.0001  \n",
       "3864  -32.1   0.0001  \n",
       "3907   -5.7   0.0001  \n",
       "3926    NaN   0.0001  \n",
       "\n",
       "[91 rows x 14 columns]"
      ]
     },
     "execution_count": 26,
     "metadata": {},
     "output_type": "execute_result"
    }
   ],
   "source": [
    "df_trades"
   ]
  },
  {
   "cell_type": "code",
   "execution_count": 27,
   "metadata": {},
   "outputs": [
    {
     "data": {
      "text/plain": [
       "-548.4000000000267"
      ]
     },
     "execution_count": 27,
     "metadata": {},
     "output_type": "execute_result"
    }
   ],
   "source": [
    "df_trades[\"GAIN\"].sum()"
   ]
  },
  {
   "cell_type": "code",
   "execution_count": 28,
   "metadata": {},
   "outputs": [],
   "source": [
    "df_plot = df_ma.iloc[3770:3900].copy()"
   ]
  },
  {
   "cell_type": "code",
   "execution_count": 29,
   "metadata": {},
   "outputs": [
    {
     "data": {
      "text/plain": [
       "(130, 10)"
      ]
     },
     "execution_count": 29,
     "metadata": {},
     "output_type": "execute_result"
    }
   ],
   "source": [
    "df_plot.shape"
   ]
  },
  {
   "cell_type": "code",
   "execution_count": 30,
   "metadata": {},
   "outputs": [
    {
     "data": {
      "text/plain": [
       "[16, 64]"
      ]
     },
     "execution_count": 30,
     "metadata": {},
     "output_type": "execute_result"
    }
   ],
   "source": [
    "ma_list"
   ]
  },
  {
   "cell_type": "markdown",
   "metadata": {},
   "source": []
  },
  {
   "cell_type": "code",
   "execution_count": 128,
   "metadata": {},
   "outputs": [
    {
     "data": {
      "application/vnd.plotly.v1+json": {
       "config": {
        "plotlyServerURL": "https://plot.ly"
       },
       "data": [
        {
         "close": [
          1.18838,
          1.18852,
          1.18846,
          1.18926,
          1.1895,
          1.18936,
          1.18937,
          1.18828,
          1.18842,
          1.19022,
          1.19002,
          1.19106,
          1.19276,
          1.19232,
          1.19168,
          1.19218,
          1.19318,
          1.19392,
          1.19416,
          1.1942,
          1.19364,
          1.19326,
          1.19348,
          1.19336,
          1.19324,
          1.19336,
          1.19296,
          1.19256,
          1.19318,
          1.19234,
          1.19248,
          1.19275,
          1.19053,
          1.18988,
          1.18913,
          1.18846,
          1.18807,
          1.18892,
          1.18728,
          1.18737
         ],
         "decreasing": {
          "fillcolor": "#FF5555",
          "line": {
           "color": "#AA5555"
          }
         },
         "high": [
          1.18902,
          1.18927,
          1.1887,
          1.18933,
          1.18984,
          1.18991,
          1.18997,
          1.18958,
          1.1889,
          1.19062,
          1.19058,
          1.1911,
          1.19306,
          1.19315,
          1.19282,
          1.19276,
          1.19396,
          1.19394,
          1.1947,
          1.19442,
          1.19422,
          1.19378,
          1.19362,
          1.19356,
          1.19358,
          1.19409,
          1.19372,
          1.19332,
          1.19322,
          1.19334,
          1.19258,
          1.1929,
          1.19319,
          1.1908,
          1.19002,
          1.19,
          1.18857,
          1.18951,
          1.18915,
          1.18761
         ],
         "increasing": {
          "fillcolor": "#55FF55",
          "line": {
           "color": "#55AA55"
          }
         },
         "line": {
          "width": 1
         },
         "low": [
          1.18818,
          1.18836,
          1.18752,
          1.18845,
          1.18916,
          1.18931,
          1.18914,
          1.18822,
          1.18746,
          1.18758,
          1.18933,
          1.18994,
          1.19098,
          1.19165,
          1.19108,
          1.19134,
          1.19203,
          1.19286,
          1.19352,
          1.19399,
          1.19356,
          1.19324,
          1.19306,
          1.19318,
          1.19288,
          1.19286,
          1.19266,
          1.1923,
          1.19242,
          1.1923,
          1.19194,
          1.19216,
          1.19028,
          1.1886,
          1.1891,
          1.18824,
          1.18774,
          1.18788,
          1.18706,
          1.18616
         ],
         "opacity": 1,
         "open": [
          1.18848,
          1.1884,
          1.1885,
          1.18845,
          1.18925,
          1.18952,
          1.18935,
          1.18936,
          1.18827,
          1.18842,
          1.19023,
          1.19004,
          1.19105,
          1.19278,
          1.1923,
          1.19169,
          1.19217,
          1.19319,
          1.19393,
          1.19414,
          1.19419,
          1.19362,
          1.19331,
          1.19352,
          1.19338,
          1.19326,
          1.19335,
          1.19298,
          1.19258,
          1.19317,
          1.19232,
          1.1925,
          1.19276,
          1.19054,
          1.18987,
          1.18912,
          1.18847,
          1.18806,
          1.18893,
          1.18726
         ],
         "type": "candlestick",
         "x": [
          "2021-03-21T23:00:00.000000000Z",
          "2021-03-22T00:00:00.000000000Z",
          "2021-03-22T01:00:00.000000000Z",
          "2021-03-22T02:00:00.000000000Z",
          "2021-03-22T03:00:00.000000000Z",
          "2021-03-22T04:00:00.000000000Z",
          "2021-03-22T05:00:00.000000000Z",
          "2021-03-22T06:00:00.000000000Z",
          "2021-03-22T07:00:00.000000000Z",
          "2021-03-22T08:00:00.000000000Z",
          "2021-03-22T09:00:00.000000000Z",
          "2021-03-22T10:00:00.000000000Z",
          "2021-03-22T11:00:00.000000000Z",
          "2021-03-22T12:00:00.000000000Z",
          "2021-03-22T13:00:00.000000000Z",
          "2021-03-22T14:00:00.000000000Z",
          "2021-03-22T15:00:00.000000000Z",
          "2021-03-22T16:00:00.000000000Z",
          "2021-03-22T17:00:00.000000000Z",
          "2021-03-22T18:00:00.000000000Z",
          "2021-03-22T19:00:00.000000000Z",
          "2021-03-22T20:00:00.000000000Z",
          "2021-03-22T21:00:00.000000000Z",
          "2021-03-22T22:00:00.000000000Z",
          "2021-03-22T23:00:00.000000000Z",
          "2021-03-23T00:00:00.000000000Z",
          "2021-03-23T01:00:00.000000000Z",
          "2021-03-23T02:00:00.000000000Z",
          "2021-03-23T03:00:00.000000000Z",
          "2021-03-23T04:00:00.000000000Z",
          "2021-03-23T05:00:00.000000000Z",
          "2021-03-23T06:00:00.000000000Z",
          "2021-03-23T07:00:00.000000000Z",
          "2021-03-23T08:00:00.000000000Z",
          "2021-03-23T09:00:00.000000000Z",
          "2021-03-23T10:00:00.000000000Z",
          "2021-03-23T11:00:00.000000000Z",
          "2021-03-23T12:00:00.000000000Z",
          "2021-03-23T13:00:00.000000000Z",
          "2021-03-23T14:00:00.000000000Z"
         ]
        },
        {
         "line": {
          "shape": "spline",
          "width": 2
         },
         "name": "MA_16",
         "type": "scatter",
         "x": [
          "2021-03-21T23:00:00.000000000Z",
          "2021-03-22T00:00:00.000000000Z",
          "2021-03-22T01:00:00.000000000Z",
          "2021-03-22T02:00:00.000000000Z",
          "2021-03-22T03:00:00.000000000Z",
          "2021-03-22T04:00:00.000000000Z",
          "2021-03-22T05:00:00.000000000Z",
          "2021-03-22T06:00:00.000000000Z",
          "2021-03-22T07:00:00.000000000Z",
          "2021-03-22T08:00:00.000000000Z",
          "2021-03-22T09:00:00.000000000Z",
          "2021-03-22T10:00:00.000000000Z",
          "2021-03-22T11:00:00.000000000Z",
          "2021-03-22T12:00:00.000000000Z",
          "2021-03-22T13:00:00.000000000Z",
          "2021-03-22T14:00:00.000000000Z",
          "2021-03-22T15:00:00.000000000Z",
          "2021-03-22T16:00:00.000000000Z",
          "2021-03-22T17:00:00.000000000Z",
          "2021-03-22T18:00:00.000000000Z",
          "2021-03-22T19:00:00.000000000Z",
          "2021-03-22T20:00:00.000000000Z",
          "2021-03-22T21:00:00.000000000Z",
          "2021-03-22T22:00:00.000000000Z",
          "2021-03-22T23:00:00.000000000Z",
          "2021-03-23T00:00:00.000000000Z",
          "2021-03-23T01:00:00.000000000Z",
          "2021-03-23T02:00:00.000000000Z",
          "2021-03-23T03:00:00.000000000Z",
          "2021-03-23T04:00:00.000000000Z",
          "2021-03-23T05:00:00.000000000Z",
          "2021-03-23T06:00:00.000000000Z",
          "2021-03-23T07:00:00.000000000Z",
          "2021-03-23T08:00:00.000000000Z",
          "2021-03-23T09:00:00.000000000Z",
          "2021-03-23T10:00:00.000000000Z",
          "2021-03-23T11:00:00.000000000Z",
          "2021-03-23T12:00:00.000000000Z",
          "2021-03-23T13:00:00.000000000Z",
          "2021-03-23T14:00:00.000000000Z"
         ],
         "y": [
          1.189836875,
          1.189600625,
          1.189545625,
          1.189511875,
          1.1894856249999999,
          1.189446875,
          1.189524375,
          1.189501875,
          1.189346875,
          1.189313125,
          1.189255625,
          1.189270625,
          1.18941,
          1.18952875,
          1.189754375,
          1.189986875,
          1.190286875,
          1.190624375,
          1.1909806250000001,
          1.191289375,
          1.1915481250000002,
          1.191791875,
          1.19204875,
          1.19236625,
          1.1926675000000002,
          1.1928637500000001,
          1.1930475,
          1.19314125,
          1.1931675000000002,
          1.19316875,
          1.19321875,
          1.193254375,
          1.19308875,
          1.19283625,
          1.192521875,
          1.192163125,
          1.191815,
          1.1915437500000001,
          1.19115625,
          1.190781875
         ]
        },
        {
         "line": {
          "shape": "spline",
          "width": 2
         },
         "name": "MA_64",
         "type": "scatter",
         "x": [
          "2021-03-21T23:00:00.000000000Z",
          "2021-03-22T00:00:00.000000000Z",
          "2021-03-22T01:00:00.000000000Z",
          "2021-03-22T02:00:00.000000000Z",
          "2021-03-22T03:00:00.000000000Z",
          "2021-03-22T04:00:00.000000000Z",
          "2021-03-22T05:00:00.000000000Z",
          "2021-03-22T06:00:00.000000000Z",
          "2021-03-22T07:00:00.000000000Z",
          "2021-03-22T08:00:00.000000000Z",
          "2021-03-22T09:00:00.000000000Z",
          "2021-03-22T10:00:00.000000000Z",
          "2021-03-22T11:00:00.000000000Z",
          "2021-03-22T12:00:00.000000000Z",
          "2021-03-22T13:00:00.000000000Z",
          "2021-03-22T14:00:00.000000000Z",
          "2021-03-22T15:00:00.000000000Z",
          "2021-03-22T16:00:00.000000000Z",
          "2021-03-22T17:00:00.000000000Z",
          "2021-03-22T18:00:00.000000000Z",
          "2021-03-22T19:00:00.000000000Z",
          "2021-03-22T20:00:00.000000000Z",
          "2021-03-22T21:00:00.000000000Z",
          "2021-03-22T22:00:00.000000000Z",
          "2021-03-22T23:00:00.000000000Z",
          "2021-03-23T00:00:00.000000000Z",
          "2021-03-23T01:00:00.000000000Z",
          "2021-03-23T02:00:00.000000000Z",
          "2021-03-23T03:00:00.000000000Z",
          "2021-03-23T04:00:00.000000000Z",
          "2021-03-23T05:00:00.000000000Z",
          "2021-03-23T06:00:00.000000000Z",
          "2021-03-23T07:00:00.000000000Z",
          "2021-03-23T08:00:00.000000000Z",
          "2021-03-23T09:00:00.000000000Z",
          "2021-03-23T10:00:00.000000000Z",
          "2021-03-23T11:00:00.000000000Z",
          "2021-03-23T12:00:00.000000000Z",
          "2021-03-23T13:00:00.000000000Z",
          "2021-03-23T14:00:00.000000000Z"
         ],
         "y": [
          1.192456875,
          1.19243671875,
          1.1923959375000002,
          1.1923665625,
          1.19236875,
          1.1923403125,
          1.1923285937499999,
          1.19228953125,
          1.1922585937499999,
          1.1922595312500002,
          1.19224640625,
          1.19214203125,
          1.19206453125,
          1.19197671875,
          1.1918771875,
          1.1917885937500001,
          1.19170890625,
          1.1916365624999998,
          1.19159328125,
          1.19154828125,
          1.19151265625,
          1.19146765625,
          1.19142046875,
          1.1913485937500001,
          1.19132515625,
          1.19130359375,
          1.19128375,
          1.1912615625,
          1.191246875,
          1.191239375,
          1.1912521875000002,
          1.19126390625,
          1.1912312500000002,
          1.1911975,
          1.191138125,
          1.1910928125000002,
          1.19104671875,
          1.19100484375,
          1.19094015625,
          1.1908721875000001
         ]
        }
       ],
       "layout": {
        "font": {
         "color": "#e1e1e1",
         "size": 10
        },
        "height": 400,
        "margin": {
         "b": 5,
         "l": 5,
         "r": 5,
         "t": 5
        },
        "paper_bgcolor": "#1e1e1e",
        "plot_bgcolor": "#1e1e1e",
        "template": {
         "data": {
          "bar": [
           {
            "error_x": {
             "color": "#2a3f5f"
            },
            "error_y": {
             "color": "#2a3f5f"
            },
            "marker": {
             "line": {
              "color": "#E5ECF6",
              "width": 0.5
             },
             "pattern": {
              "fillmode": "overlay",
              "size": 10,
              "solidity": 0.2
             }
            },
            "type": "bar"
           }
          ],
          "barpolar": [
           {
            "marker": {
             "line": {
              "color": "#E5ECF6",
              "width": 0.5
             },
             "pattern": {
              "fillmode": "overlay",
              "size": 10,
              "solidity": 0.2
             }
            },
            "type": "barpolar"
           }
          ],
          "carpet": [
           {
            "aaxis": {
             "endlinecolor": "#2a3f5f",
             "gridcolor": "white",
             "linecolor": "white",
             "minorgridcolor": "white",
             "startlinecolor": "#2a3f5f"
            },
            "baxis": {
             "endlinecolor": "#2a3f5f",
             "gridcolor": "white",
             "linecolor": "white",
             "minorgridcolor": "white",
             "startlinecolor": "#2a3f5f"
            },
            "type": "carpet"
           }
          ],
          "choropleth": [
           {
            "colorbar": {
             "outlinewidth": 0,
             "ticks": ""
            },
            "type": "choropleth"
           }
          ],
          "contour": [
           {
            "colorbar": {
             "outlinewidth": 0,
             "ticks": ""
            },
            "colorscale": [
             [
              0,
              "#0d0887"
             ],
             [
              0.1111111111111111,
              "#46039f"
             ],
             [
              0.2222222222222222,
              "#7201a8"
             ],
             [
              0.3333333333333333,
              "#9c179e"
             ],
             [
              0.4444444444444444,
              "#bd3786"
             ],
             [
              0.5555555555555556,
              "#d8576b"
             ],
             [
              0.6666666666666666,
              "#ed7953"
             ],
             [
              0.7777777777777778,
              "#fb9f3a"
             ],
             [
              0.8888888888888888,
              "#fdca26"
             ],
             [
              1,
              "#f0f921"
             ]
            ],
            "type": "contour"
           }
          ],
          "contourcarpet": [
           {
            "colorbar": {
             "outlinewidth": 0,
             "ticks": ""
            },
            "type": "contourcarpet"
           }
          ],
          "heatmap": [
           {
            "colorbar": {
             "outlinewidth": 0,
             "ticks": ""
            },
            "colorscale": [
             [
              0,
              "#0d0887"
             ],
             [
              0.1111111111111111,
              "#46039f"
             ],
             [
              0.2222222222222222,
              "#7201a8"
             ],
             [
              0.3333333333333333,
              "#9c179e"
             ],
             [
              0.4444444444444444,
              "#bd3786"
             ],
             [
              0.5555555555555556,
              "#d8576b"
             ],
             [
              0.6666666666666666,
              "#ed7953"
             ],
             [
              0.7777777777777778,
              "#fb9f3a"
             ],
             [
              0.8888888888888888,
              "#fdca26"
             ],
             [
              1,
              "#f0f921"
             ]
            ],
            "type": "heatmap"
           }
          ],
          "heatmapgl": [
           {
            "colorbar": {
             "outlinewidth": 0,
             "ticks": ""
            },
            "colorscale": [
             [
              0,
              "#0d0887"
             ],
             [
              0.1111111111111111,
              "#46039f"
             ],
             [
              0.2222222222222222,
              "#7201a8"
             ],
             [
              0.3333333333333333,
              "#9c179e"
             ],
             [
              0.4444444444444444,
              "#bd3786"
             ],
             [
              0.5555555555555556,
              "#d8576b"
             ],
             [
              0.6666666666666666,
              "#ed7953"
             ],
             [
              0.7777777777777778,
              "#fb9f3a"
             ],
             [
              0.8888888888888888,
              "#fdca26"
             ],
             [
              1,
              "#f0f921"
             ]
            ],
            "type": "heatmapgl"
           }
          ],
          "histogram": [
           {
            "marker": {
             "pattern": {
              "fillmode": "overlay",
              "size": 10,
              "solidity": 0.2
             }
            },
            "type": "histogram"
           }
          ],
          "histogram2d": [
           {
            "colorbar": {
             "outlinewidth": 0,
             "ticks": ""
            },
            "colorscale": [
             [
              0,
              "#0d0887"
             ],
             [
              0.1111111111111111,
              "#46039f"
             ],
             [
              0.2222222222222222,
              "#7201a8"
             ],
             [
              0.3333333333333333,
              "#9c179e"
             ],
             [
              0.4444444444444444,
              "#bd3786"
             ],
             [
              0.5555555555555556,
              "#d8576b"
             ],
             [
              0.6666666666666666,
              "#ed7953"
             ],
             [
              0.7777777777777778,
              "#fb9f3a"
             ],
             [
              0.8888888888888888,
              "#fdca26"
             ],
             [
              1,
              "#f0f921"
             ]
            ],
            "type": "histogram2d"
           }
          ],
          "histogram2dcontour": [
           {
            "colorbar": {
             "outlinewidth": 0,
             "ticks": ""
            },
            "colorscale": [
             [
              0,
              "#0d0887"
             ],
             [
              0.1111111111111111,
              "#46039f"
             ],
             [
              0.2222222222222222,
              "#7201a8"
             ],
             [
              0.3333333333333333,
              "#9c179e"
             ],
             [
              0.4444444444444444,
              "#bd3786"
             ],
             [
              0.5555555555555556,
              "#d8576b"
             ],
             [
              0.6666666666666666,
              "#ed7953"
             ],
             [
              0.7777777777777778,
              "#fb9f3a"
             ],
             [
              0.8888888888888888,
              "#fdca26"
             ],
             [
              1,
              "#f0f921"
             ]
            ],
            "type": "histogram2dcontour"
           }
          ],
          "mesh3d": [
           {
            "colorbar": {
             "outlinewidth": 0,
             "ticks": ""
            },
            "type": "mesh3d"
           }
          ],
          "parcoords": [
           {
            "line": {
             "colorbar": {
              "outlinewidth": 0,
              "ticks": ""
             }
            },
            "type": "parcoords"
           }
          ],
          "pie": [
           {
            "automargin": true,
            "type": "pie"
           }
          ],
          "scatter": [
           {
            "marker": {
             "colorbar": {
              "outlinewidth": 0,
              "ticks": ""
             }
            },
            "type": "scatter"
           }
          ],
          "scatter3d": [
           {
            "line": {
             "colorbar": {
              "outlinewidth": 0,
              "ticks": ""
             }
            },
            "marker": {
             "colorbar": {
              "outlinewidth": 0,
              "ticks": ""
             }
            },
            "type": "scatter3d"
           }
          ],
          "scattercarpet": [
           {
            "marker": {
             "colorbar": {
              "outlinewidth": 0,
              "ticks": ""
             }
            },
            "type": "scattercarpet"
           }
          ],
          "scattergeo": [
           {
            "marker": {
             "colorbar": {
              "outlinewidth": 0,
              "ticks": ""
             }
            },
            "type": "scattergeo"
           }
          ],
          "scattergl": [
           {
            "marker": {
             "colorbar": {
              "outlinewidth": 0,
              "ticks": ""
             }
            },
            "type": "scattergl"
           }
          ],
          "scattermapbox": [
           {
            "marker": {
             "colorbar": {
              "outlinewidth": 0,
              "ticks": ""
             }
            },
            "type": "scattermapbox"
           }
          ],
          "scatterpolar": [
           {
            "marker": {
             "colorbar": {
              "outlinewidth": 0,
              "ticks": ""
             }
            },
            "type": "scatterpolar"
           }
          ],
          "scatterpolargl": [
           {
            "marker": {
             "colorbar": {
              "outlinewidth": 0,
              "ticks": ""
             }
            },
            "type": "scatterpolargl"
           }
          ],
          "scatterternary": [
           {
            "marker": {
             "colorbar": {
              "outlinewidth": 0,
              "ticks": ""
             }
            },
            "type": "scatterternary"
           }
          ],
          "surface": [
           {
            "colorbar": {
             "outlinewidth": 0,
             "ticks": ""
            },
            "colorscale": [
             [
              0,
              "#0d0887"
             ],
             [
              0.1111111111111111,
              "#46039f"
             ],
             [
              0.2222222222222222,
              "#7201a8"
             ],
             [
              0.3333333333333333,
              "#9c179e"
             ],
             [
              0.4444444444444444,
              "#bd3786"
             ],
             [
              0.5555555555555556,
              "#d8576b"
             ],
             [
              0.6666666666666666,
              "#ed7953"
             ],
             [
              0.7777777777777778,
              "#fb9f3a"
             ],
             [
              0.8888888888888888,
              "#fdca26"
             ],
             [
              1,
              "#f0f921"
             ]
            ],
            "type": "surface"
           }
          ],
          "table": [
           {
            "cells": {
             "fill": {
              "color": "#EBF0F8"
             },
             "line": {
              "color": "white"
             }
            },
            "header": {
             "fill": {
              "color": "#C8D4E3"
             },
             "line": {
              "color": "white"
             }
            },
            "type": "table"
           }
          ]
         },
         "layout": {
          "annotationdefaults": {
           "arrowcolor": "#2a3f5f",
           "arrowhead": 0,
           "arrowwidth": 1
          },
          "autotypenumbers": "strict",
          "coloraxis": {
           "colorbar": {
            "outlinewidth": 0,
            "ticks": ""
           }
          },
          "colorscale": {
           "diverging": [
            [
             0,
             "#8e0152"
            ],
            [
             0.1,
             "#c51b7d"
            ],
            [
             0.2,
             "#de77ae"
            ],
            [
             0.3,
             "#f1b6da"
            ],
            [
             0.4,
             "#fde0ef"
            ],
            [
             0.5,
             "#f7f7f7"
            ],
            [
             0.6,
             "#e6f5d0"
            ],
            [
             0.7,
             "#b8e186"
            ],
            [
             0.8,
             "#7fbc41"
            ],
            [
             0.9,
             "#4d9221"
            ],
            [
             1,
             "#276419"
            ]
           ],
           "sequential": [
            [
             0,
             "#0d0887"
            ],
            [
             0.1111111111111111,
             "#46039f"
            ],
            [
             0.2222222222222222,
             "#7201a8"
            ],
            [
             0.3333333333333333,
             "#9c179e"
            ],
            [
             0.4444444444444444,
             "#bd3786"
            ],
            [
             0.5555555555555556,
             "#d8576b"
            ],
            [
             0.6666666666666666,
             "#ed7953"
            ],
            [
             0.7777777777777778,
             "#fb9f3a"
            ],
            [
             0.8888888888888888,
             "#fdca26"
            ],
            [
             1,
             "#f0f921"
            ]
           ],
           "sequentialminus": [
            [
             0,
             "#0d0887"
            ],
            [
             0.1111111111111111,
             "#46039f"
            ],
            [
             0.2222222222222222,
             "#7201a8"
            ],
            [
             0.3333333333333333,
             "#9c179e"
            ],
            [
             0.4444444444444444,
             "#bd3786"
            ],
            [
             0.5555555555555556,
             "#d8576b"
            ],
            [
             0.6666666666666666,
             "#ed7953"
            ],
            [
             0.7777777777777778,
             "#fb9f3a"
            ],
            [
             0.8888888888888888,
             "#fdca26"
            ],
            [
             1,
             "#f0f921"
            ]
           ]
          },
          "colorway": [
           "#636efa",
           "#EF553B",
           "#00cc96",
           "#ab63fa",
           "#FFA15A",
           "#19d3f3",
           "#FF6692",
           "#B6E880",
           "#FF97FF",
           "#FECB52"
          ],
          "font": {
           "color": "#2a3f5f"
          },
          "geo": {
           "bgcolor": "white",
           "lakecolor": "white",
           "landcolor": "#E5ECF6",
           "showlakes": true,
           "showland": true,
           "subunitcolor": "white"
          },
          "hoverlabel": {
           "align": "left"
          },
          "hovermode": "closest",
          "mapbox": {
           "style": "light"
          },
          "paper_bgcolor": "white",
          "plot_bgcolor": "#E5ECF6",
          "polar": {
           "angularaxis": {
            "gridcolor": "white",
            "linecolor": "white",
            "ticks": ""
           },
           "bgcolor": "#E5ECF6",
           "radialaxis": {
            "gridcolor": "white",
            "linecolor": "white",
            "ticks": ""
           }
          },
          "scene": {
           "xaxis": {
            "backgroundcolor": "#E5ECF6",
            "gridcolor": "white",
            "gridwidth": 2,
            "linecolor": "white",
            "showbackground": true,
            "ticks": "",
            "zerolinecolor": "white"
           },
           "yaxis": {
            "backgroundcolor": "#E5ECF6",
            "gridcolor": "white",
            "gridwidth": 2,
            "linecolor": "white",
            "showbackground": true,
            "ticks": "",
            "zerolinecolor": "white"
           },
           "zaxis": {
            "backgroundcolor": "#E5ECF6",
            "gridcolor": "white",
            "gridwidth": 2,
            "linecolor": "white",
            "showbackground": true,
            "ticks": "",
            "zerolinecolor": "white"
           }
          },
          "shapedefaults": {
           "line": {
            "color": "#2a3f5f"
           }
          },
          "ternary": {
           "aaxis": {
            "gridcolor": "white",
            "linecolor": "white",
            "ticks": ""
           },
           "baxis": {
            "gridcolor": "white",
            "linecolor": "white",
            "ticks": ""
           },
           "bgcolor": "#E5ECF6",
           "caxis": {
            "gridcolor": "white",
            "linecolor": "white",
            "ticks": ""
           }
          },
          "title": {
           "x": 0.05
          },
          "xaxis": {
           "automargin": true,
           "gridcolor": "white",
           "linecolor": "white",
           "ticks": "",
           "title": {
            "standoff": 15
           },
           "zerolinecolor": "white",
           "zerolinewidth": 2
          },
          "yaxis": {
           "automargin": true,
           "gridcolor": "white",
           "linecolor": "white",
           "ticks": "",
           "title": {
            "standoff": 15
           },
           "zerolinecolor": "white",
           "zerolinewidth": 2
          }
         }
        },
        "width": 1000,
        "xaxis": {
         "fixedrange": true,
         "gridcolor": "#303030",
         "rangeslider": {
          "visible": false
         },
         "showgrid": true
        },
        "yaxis": {
         "gridcolor": "#303030",
         "showgrid": true
        }
       }
      }
     },
     "metadata": {},
     "output_type": "display_data"
    }
   ],
   "source": [
    "fig = go.Figure()\n",
    "fig.add_trace(go.Candlestick(\n",
    "    x                       = df_plot.time,\n",
    "    open                    = df_plot.mid_o,\n",
    "    high                    = df_plot.mid_h,\n",
    "    low                     = df_plot.mid_l,\n",
    "    close                   = df_plot.mid_c,\n",
    "    line                    = dict(width=1), \n",
    "    opacity                 = 1,\n",
    "    increasing_fillcolor    = \"#55FF55\",\n",
    "    decreasing_fillcolor    = \"#FF5555\",\n",
    "    increasing_line_color   = \"#55AA55\",\n",
    "    decreasing_line_color   = \"#AA5555\"\n",
    "))\n",
    "for ma in ma_list:\n",
    "    col = f\"MA_{ma}\"\n",
    "    fig.add_trace(go.Scatter(x=df_plot.time,\n",
    "        y=df_plot[col],\n",
    "        line=dict(width=2),\n",
    "        line_shape='spline',\n",
    "        name=f'MA_{ma}'\n",
    "        ))\n",
    "\n",
    "fig.update_layout(\n",
    "    width=1000,\n",
    "    height=400,\n",
    "    margin=dict(l=5,r=5,b=5,t=5),\n",
    "    font=dict(size=10,color=\"#e1e1e1\"),\n",
    "    paper_bgcolor=\"#1e1e1e\",\n",
    "    plot_bgcolor=\"#1e1e1e\"\n",
    ")\n",
    "fig.update_xaxes(\n",
    "    gridcolor=\"#303030\",\n",
    "    showgrid=True,fixedrange=True,rangeslider=dict(visible=False)\n",
    ")\n",
    "fig.update_yaxes(\n",
    "    gridcolor=\"#303030\",\n",
    "    showgrid=True\n",
    ")\n",
    "\n",
    "\n",
    "fig.show()"
   ]
  },
  {
   "cell_type": "code",
   "execution_count": 45,
   "metadata": {},
   "outputs": [],
   "source": [
    "df_all = pd.read_pickle(\"his_data/@all_trades.pkl\")"
   ]
  },
  {
   "cell_type": "code",
   "execution_count": 47,
   "metadata": {},
   "outputs": [
    {
     "data": {
      "text/html": [
       "<div>\n",
       "<style scoped>\n",
       "    .dataframe tbody tr th:only-of-type {\n",
       "        vertical-align: middle;\n",
       "    }\n",
       "\n",
       "    .dataframe tbody tr th {\n",
       "        vertical-align: top;\n",
       "    }\n",
       "\n",
       "    .dataframe thead th {\n",
       "        text-align: right;\n",
       "    }\n",
       "</style>\n",
       "<table border=\"1\" class=\"dataframe\">\n",
       "  <thead>\n",
       "    <tr style=\"text-align: right;\">\n",
       "      <th></th>\n",
       "      <th>time</th>\n",
       "      <th>mid_c</th>\n",
       "      <th>DIFF</th>\n",
       "      <th>DIFF_PREV</th>\n",
       "      <th>IS_TRADE</th>\n",
       "      <th>DELTA</th>\n",
       "      <th>GAIN</th>\n",
       "      <th>PAIR</th>\n",
       "      <th>MASHORT</th>\n",
       "      <th>MALONG</th>\n",
       "      <th>MASHORT_VAL</th>\n",
       "      <th>MALONG_VAL</th>\n",
       "      <th>DURATION</th>\n",
       "    </tr>\n",
       "  </thead>\n",
       "  <tbody>\n",
       "    <tr>\n",
       "      <th>10</th>\n",
       "      <td>2021-03-16 12:00:00+00:00</td>\n",
       "      <td>1.38758</td>\n",
       "      <td>0.000439</td>\n",
       "      <td>-0.000924</td>\n",
       "      <td>1</td>\n",
       "      <td>12.2</td>\n",
       "      <td>12.2</td>\n",
       "      <td>GBP_USD</td>\n",
       "      <td>4</td>\n",
       "      <td>8</td>\n",
       "      <td>1.385343</td>\n",
       "      <td>1.384904</td>\n",
       "      <td>14.0</td>\n",
       "    </tr>\n",
       "    <tr>\n",
       "      <th>24</th>\n",
       "      <td>2021-03-17 02:00:00+00:00</td>\n",
       "      <td>1.38880</td>\n",
       "      <td>-0.000152</td>\n",
       "      <td>0.000033</td>\n",
       "      <td>-1</td>\n",
       "      <td>24.6</td>\n",
       "      <td>-24.6</td>\n",
       "      <td>GBP_USD</td>\n",
       "      <td>4</td>\n",
       "      <td>8</td>\n",
       "      <td>1.389263</td>\n",
       "      <td>1.389415</td>\n",
       "      <td>4.0</td>\n",
       "    </tr>\n",
       "    <tr>\n",
       "      <th>28</th>\n",
       "      <td>2021-03-17 06:00:00+00:00</td>\n",
       "      <td>1.39126</td>\n",
       "      <td>0.000093</td>\n",
       "      <td>-0.000353</td>\n",
       "      <td>1</td>\n",
       "      <td>-13.2</td>\n",
       "      <td>-13.2</td>\n",
       "      <td>GBP_USD</td>\n",
       "      <td>4</td>\n",
       "      <td>8</td>\n",
       "      <td>1.389447</td>\n",
       "      <td>1.389355</td>\n",
       "      <td>7.0</td>\n",
       "    </tr>\n",
       "    <tr>\n",
       "      <th>35</th>\n",
       "      <td>2021-03-17 13:00:00+00:00</td>\n",
       "      <td>1.38994</td>\n",
       "      <td>-0.000125</td>\n",
       "      <td>0.000122</td>\n",
       "      <td>-1</td>\n",
       "      <td>64.2</td>\n",
       "      <td>-64.2</td>\n",
       "      <td>GBP_USD</td>\n",
       "      <td>4</td>\n",
       "      <td>8</td>\n",
       "      <td>1.390443</td>\n",
       "      <td>1.390567</td>\n",
       "      <td>6.0</td>\n",
       "    </tr>\n",
       "    <tr>\n",
       "      <th>41</th>\n",
       "      <td>2021-03-17 19:00:00+00:00</td>\n",
       "      <td>1.39636</td>\n",
       "      <td>0.000833</td>\n",
       "      <td>-0.000246</td>\n",
       "      <td>1</td>\n",
       "      <td>-10.9</td>\n",
       "      <td>-10.9</td>\n",
       "      <td>GBP_USD</td>\n",
       "      <td>4</td>\n",
       "      <td>8</td>\n",
       "      <td>1.391068</td>\n",
       "      <td>1.390235</td>\n",
       "      <td>7.0</td>\n",
       "    </tr>\n",
       "    <tr>\n",
       "      <th>...</th>\n",
       "      <td>...</td>\n",
       "      <td>...</td>\n",
       "      <td>...</td>\n",
       "      <td>...</td>\n",
       "      <td>...</td>\n",
       "      <td>...</td>\n",
       "      <td>...</td>\n",
       "      <td>...</td>\n",
       "      <td>...</td>\n",
       "      <td>...</td>\n",
       "      <td>...</td>\n",
       "      <td>...</td>\n",
       "      <td>...</td>\n",
       "    </tr>\n",
       "    <tr>\n",
       "      <th>2109</th>\n",
       "      <td>2021-07-15 23:00:00+00:00</td>\n",
       "      <td>119.59900</td>\n",
       "      <td>-0.011461</td>\n",
       "      <td>0.000887</td>\n",
       "      <td>-1</td>\n",
       "      <td>55.6</td>\n",
       "      <td>-55.6</td>\n",
       "      <td>CHF_JPY</td>\n",
       "      <td>64</td>\n",
       "      <td>256</td>\n",
       "      <td>120.170594</td>\n",
       "      <td>120.182055</td>\n",
       "      <td>238.0</td>\n",
       "    </tr>\n",
       "    <tr>\n",
       "      <th>2251</th>\n",
       "      <td>2021-07-25 21:00:00+00:00</td>\n",
       "      <td>120.15500</td>\n",
       "      <td>0.007102</td>\n",
       "      <td>-0.006414</td>\n",
       "      <td>1</td>\n",
       "      <td>-30.9</td>\n",
       "      <td>-30.9</td>\n",
       "      <td>CHF_JPY</td>\n",
       "      <td>64</td>\n",
       "      <td>256</td>\n",
       "      <td>119.948578</td>\n",
       "      <td>119.941477</td>\n",
       "      <td>359.0</td>\n",
       "    </tr>\n",
       "    <tr>\n",
       "      <th>2514</th>\n",
       "      <td>2021-08-09 20:00:00+00:00</td>\n",
       "      <td>119.84600</td>\n",
       "      <td>-0.003992</td>\n",
       "      <td>0.011254</td>\n",
       "      <td>-1</td>\n",
       "      <td>36.5</td>\n",
       "      <td>-36.5</td>\n",
       "      <td>CHF_JPY</td>\n",
       "      <td>64</td>\n",
       "      <td>256</td>\n",
       "      <td>120.628719</td>\n",
       "      <td>120.632711</td>\n",
       "      <td>339.0</td>\n",
       "    </tr>\n",
       "    <tr>\n",
       "      <th>2757</th>\n",
       "      <td>2021-08-23 23:00:00+00:00</td>\n",
       "      <td>120.21100</td>\n",
       "      <td>0.002141</td>\n",
       "      <td>-0.004832</td>\n",
       "      <td>1</td>\n",
       "      <td>-35.5</td>\n",
       "      <td>-35.5</td>\n",
       "      <td>CHF_JPY</td>\n",
       "      <td>64</td>\n",
       "      <td>256</td>\n",
       "      <td>119.793312</td>\n",
       "      <td>119.791172</td>\n",
       "      <td>325.0</td>\n",
       "    </tr>\n",
       "    <tr>\n",
       "      <th>2986</th>\n",
       "      <td>2021-09-06 12:00:00+00:00</td>\n",
       "      <td>119.85600</td>\n",
       "      <td>-0.000047</td>\n",
       "      <td>0.005430</td>\n",
       "      <td>-1</td>\n",
       "      <td>-16.0</td>\n",
       "      <td>16.0</td>\n",
       "      <td>CHF_JPY</td>\n",
       "      <td>64</td>\n",
       "      <td>256</td>\n",
       "      <td>120.144703</td>\n",
       "      <td>120.144750</td>\n",
       "      <td>430.0</td>\n",
       "    </tr>\n",
       "  </tbody>\n",
       "</table>\n",
       "<p>66593 rows × 13 columns</p>\n",
       "</div>"
      ],
      "text/plain": [
       "                          time      mid_c      DIFF  DIFF_PREV  IS_TRADE  \\\n",
       "10   2021-03-16 12:00:00+00:00    1.38758  0.000439  -0.000924         1   \n",
       "24   2021-03-17 02:00:00+00:00    1.38880 -0.000152   0.000033        -1   \n",
       "28   2021-03-17 06:00:00+00:00    1.39126  0.000093  -0.000353         1   \n",
       "35   2021-03-17 13:00:00+00:00    1.38994 -0.000125   0.000122        -1   \n",
       "41   2021-03-17 19:00:00+00:00    1.39636  0.000833  -0.000246         1   \n",
       "...                        ...        ...       ...        ...       ...   \n",
       "2109 2021-07-15 23:00:00+00:00  119.59900 -0.011461   0.000887        -1   \n",
       "2251 2021-07-25 21:00:00+00:00  120.15500  0.007102  -0.006414         1   \n",
       "2514 2021-08-09 20:00:00+00:00  119.84600 -0.003992   0.011254        -1   \n",
       "2757 2021-08-23 23:00:00+00:00  120.21100  0.002141  -0.004832         1   \n",
       "2986 2021-09-06 12:00:00+00:00  119.85600 -0.000047   0.005430        -1   \n",
       "\n",
       "      DELTA  GAIN     PAIR  MASHORT  MALONG  MASHORT_VAL  MALONG_VAL  DURATION  \n",
       "10     12.2  12.2  GBP_USD        4       8     1.385343    1.384904      14.0  \n",
       "24     24.6 -24.6  GBP_USD        4       8     1.389263    1.389415       4.0  \n",
       "28    -13.2 -13.2  GBP_USD        4       8     1.389447    1.389355       7.0  \n",
       "35     64.2 -64.2  GBP_USD        4       8     1.390443    1.390567       6.0  \n",
       "41    -10.9 -10.9  GBP_USD        4       8     1.391068    1.390235       7.0  \n",
       "...     ...   ...      ...      ...     ...          ...         ...       ...  \n",
       "2109   55.6 -55.6  CHF_JPY       64     256   120.170594  120.182055     238.0  \n",
       "2251  -30.9 -30.9  CHF_JPY       64     256   119.948578  119.941477     359.0  \n",
       "2514   36.5 -36.5  CHF_JPY       64     256   120.628719  120.632711     339.0  \n",
       "2757  -35.5 -35.5  CHF_JPY       64     256   119.793312  119.791172     325.0  \n",
       "2986  -16.0  16.0  CHF_JPY       64     256   120.144703  120.144750     430.0  \n",
       "\n",
       "[66593 rows x 13 columns]"
      ]
     },
     "execution_count": 47,
     "metadata": {},
     "output_type": "execute_result"
    }
   ],
   "source": [
    "df_all"
   ]
  },
  {
   "cell_type": "code",
   "execution_count": 48,
   "metadata": {},
   "outputs": [
    {
     "data": {
      "text/html": [
       "<div>\n",
       "<style scoped>\n",
       "    .dataframe tbody tr th:only-of-type {\n",
       "        vertical-align: middle;\n",
       "    }\n",
       "\n",
       "    .dataframe tbody tr th {\n",
       "        vertical-align: top;\n",
       "    }\n",
       "\n",
       "    .dataframe thead th {\n",
       "        text-align: right;\n",
       "    }\n",
       "</style>\n",
       "<table border=\"1\" class=\"dataframe\">\n",
       "  <thead>\n",
       "    <tr style=\"text-align: right;\">\n",
       "      <th></th>\n",
       "      <th>mid_c</th>\n",
       "      <th>DIFF</th>\n",
       "      <th>DIFF_PREV</th>\n",
       "      <th>IS_TRADE</th>\n",
       "      <th>DELTA</th>\n",
       "      <th>GAIN</th>\n",
       "      <th>MASHORT</th>\n",
       "      <th>MALONG</th>\n",
       "      <th>MASHORT_VAL</th>\n",
       "      <th>MALONG_VAL</th>\n",
       "      <th>DURATION</th>\n",
       "    </tr>\n",
       "  </thead>\n",
       "  <tbody>\n",
       "    <tr>\n",
       "      <th>count</th>\n",
       "      <td>66593.000000</td>\n",
       "      <td>66593.000000</td>\n",
       "      <td>6.659300e+04</td>\n",
       "      <td>66593.000000</td>\n",
       "      <td>66593.000000</td>\n",
       "      <td>66593.000000</td>\n",
       "      <td>66593.000000</td>\n",
       "      <td>66593.000000</td>\n",
       "      <td>66593.000000</td>\n",
       "      <td>66593.000000</td>\n",
       "      <td>66593.000000</td>\n",
       "    </tr>\n",
       "    <tr>\n",
       "      <th>mean</th>\n",
       "      <td>31.772951</td>\n",
       "      <td>0.000012</td>\n",
       "      <td>-7.522636e-06</td>\n",
       "      <td>0.001126</td>\n",
       "      <td>-0.216018</td>\n",
       "      <td>-1.604807</td>\n",
       "      <td>11.930443</td>\n",
       "      <td>62.007839</td>\n",
       "      <td>31.773001</td>\n",
       "      <td>31.772990</td>\n",
       "      <td>49.979863</td>\n",
       "    </tr>\n",
       "    <tr>\n",
       "      <th>std</th>\n",
       "      <td>51.710129</td>\n",
       "      <td>0.013563</td>\n",
       "      <td>1.340940e-02</td>\n",
       "      <td>1.000007</td>\n",
       "      <td>55.003545</td>\n",
       "      <td>54.980553</td>\n",
       "      <td>12.608033</td>\n",
       "      <td>64.844586</td>\n",
       "      <td>51.710573</td>\n",
       "      <td>51.710573</td>\n",
       "      <td>80.052066</td>\n",
       "    </tr>\n",
       "    <tr>\n",
       "      <th>min</th>\n",
       "      <td>0.625440</td>\n",
       "      <td>-0.258875</td>\n",
       "      <td>-2.635156e-01</td>\n",
       "      <td>-1.000000</td>\n",
       "      <td>-580.700000</td>\n",
       "      <td>-375.900000</td>\n",
       "      <td>4.000000</td>\n",
       "      <td>8.000000</td>\n",
       "      <td>0.625738</td>\n",
       "      <td>0.625642</td>\n",
       "      <td>1.000000</td>\n",
       "    </tr>\n",
       "    <tr>\n",
       "      <th>25%</th>\n",
       "      <td>0.909150</td>\n",
       "      <td>-0.000181</td>\n",
       "      <td>-1.781250e-04</td>\n",
       "      <td>-1.000000</td>\n",
       "      <td>-20.100000</td>\n",
       "      <td>-25.300000</td>\n",
       "      <td>4.000000</td>\n",
       "      <td>16.000000</td>\n",
       "      <td>0.909630</td>\n",
       "      <td>0.909646</td>\n",
       "      <td>6.000000</td>\n",
       "    </tr>\n",
       "    <tr>\n",
       "      <th>50%</th>\n",
       "      <td>1.381670</td>\n",
       "      <td>0.000000</td>\n",
       "      <td>-3.125000e-07</td>\n",
       "      <td>1.000000</td>\n",
       "      <td>-0.100000</td>\n",
       "      <td>-9.100000</td>\n",
       "      <td>8.000000</td>\n",
       "      <td>32.000000</td>\n",
       "      <td>1.382097</td>\n",
       "      <td>1.382148</td>\n",
       "      <td>18.000000</td>\n",
       "    </tr>\n",
       "    <tr>\n",
       "      <th>75%</th>\n",
       "      <td>77.716000</td>\n",
       "      <td>0.000178</td>\n",
       "      <td>1.823437e-04</td>\n",
       "      <td>1.000000</td>\n",
       "      <td>19.400000</td>\n",
       "      <td>6.900000</td>\n",
       "      <td>16.000000</td>\n",
       "      <td>96.000000</td>\n",
       "      <td>77.733000</td>\n",
       "      <td>77.738312</td>\n",
       "      <td>66.000000</td>\n",
       "    </tr>\n",
       "    <tr>\n",
       "      <th>max</th>\n",
       "      <td>158.120000</td>\n",
       "      <td>0.204000</td>\n",
       "      <td>2.338594e-01</td>\n",
       "      <td>1.000000</td>\n",
       "      <td>642.000000</td>\n",
       "      <td>642.000000</td>\n",
       "      <td>64.000000</td>\n",
       "      <td>256.000000</td>\n",
       "      <td>158.043250</td>\n",
       "      <td>158.069875</td>\n",
       "      <td>1311.000000</td>\n",
       "    </tr>\n",
       "  </tbody>\n",
       "</table>\n",
       "</div>"
      ],
      "text/plain": [
       "              mid_c          DIFF     DIFF_PREV      IS_TRADE         DELTA  \\\n",
       "count  66593.000000  66593.000000  6.659300e+04  66593.000000  66593.000000   \n",
       "mean      31.772951      0.000012 -7.522636e-06      0.001126     -0.216018   \n",
       "std       51.710129      0.013563  1.340940e-02      1.000007     55.003545   \n",
       "min        0.625440     -0.258875 -2.635156e-01     -1.000000   -580.700000   \n",
       "25%        0.909150     -0.000181 -1.781250e-04     -1.000000    -20.100000   \n",
       "50%        1.381670      0.000000 -3.125000e-07      1.000000     -0.100000   \n",
       "75%       77.716000      0.000178  1.823437e-04      1.000000     19.400000   \n",
       "max      158.120000      0.204000  2.338594e-01      1.000000    642.000000   \n",
       "\n",
       "               GAIN       MASHORT        MALONG   MASHORT_VAL    MALONG_VAL  \\\n",
       "count  66593.000000  66593.000000  66593.000000  66593.000000  66593.000000   \n",
       "mean      -1.604807     11.930443     62.007839     31.773001     31.772990   \n",
       "std       54.980553     12.608033     64.844586     51.710573     51.710573   \n",
       "min     -375.900000      4.000000      8.000000      0.625738      0.625642   \n",
       "25%      -25.300000      4.000000     16.000000      0.909630      0.909646   \n",
       "50%       -9.100000      8.000000     32.000000      1.382097      1.382148   \n",
       "75%        6.900000     16.000000     96.000000     77.733000     77.738312   \n",
       "max      642.000000     64.000000    256.000000    158.043250    158.069875   \n",
       "\n",
       "           DURATION  \n",
       "count  66593.000000  \n",
       "mean      49.979863  \n",
       "std       80.052066  \n",
       "min        1.000000  \n",
       "25%        6.000000  \n",
       "50%       18.000000  \n",
       "75%       66.000000  \n",
       "max     1311.000000  "
      ]
     },
     "execution_count": 48,
     "metadata": {},
     "output_type": "execute_result"
    }
   ],
   "source": [
    "df_all.describe()"
   ]
  },
  {
   "cell_type": "markdown",
   "metadata": {},
   "source": []
  }
 ],
 "metadata": {
  "interpreter": {
   "hash": "2e585390192d7d4363257fb63a24ea440a0d3ae5b1afd3c5688d8c0a2ee5c884"
  },
  "kernelspec": {
   "display_name": "Python 3.8.12 64-bit ('forex-bot-env': conda)",
   "name": "python3"
  },
  "language_info": {
   "codemirror_mode": {
    "name": "ipython",
    "version": 3
   },
   "file_extension": ".py",
   "mimetype": "text/x-python",
   "name": "python",
   "nbconvert_exporter": "python",
   "pygments_lexer": "ipython3",
   "version": "3.9.7"
  },
  "orig_nbformat": 4
 },
 "nbformat": 4,
 "nbformat_minor": 2
}
