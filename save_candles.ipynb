{
 "cells": [
  {
   "cell_type": "markdown",
   "metadata": {},
   "source": []
  },
  {
   "cell_type": "code",
   "execution_count": 119,
   "metadata": {},
   "outputs": [],
   "source": [
    "import requests\n",
    "import defs\n",
    "import pandas as pd"
   ]
  },
  {
   "cell_type": "code",
   "execution_count": 120,
   "metadata": {},
   "outputs": [],
   "source": [
    "ins_df = pd.read_pickle(\"his_data\\@instruments.pkl\")"
   ]
  },
  {
   "cell_type": "code",
   "execution_count": 121,
   "metadata": {},
   "outputs": [
    {
     "data": {
      "text/html": [
       "<div>\n",
       "<style scoped>\n",
       "    .dataframe tbody tr th:only-of-type {\n",
       "        vertical-align: middle;\n",
       "    }\n",
       "\n",
       "    .dataframe tbody tr th {\n",
       "        vertical-align: top;\n",
       "    }\n",
       "\n",
       "    .dataframe thead th {\n",
       "        text-align: right;\n",
       "    }\n",
       "</style>\n",
       "<table border=\"1\" class=\"dataframe\">\n",
       "  <thead>\n",
       "    <tr style=\"text-align: right;\">\n",
       "      <th></th>\n",
       "      <th>name</th>\n",
       "      <th>type</th>\n",
       "      <th>displayName</th>\n",
       "      <th>pipLocation</th>\n",
       "      <th>marginRate</th>\n",
       "    </tr>\n",
       "  </thead>\n",
       "  <tbody>\n",
       "    <tr>\n",
       "      <th>0</th>\n",
       "      <td>EUR_HUF</td>\n",
       "      <td>CURRENCY</td>\n",
       "      <td>EUR/HUF</td>\n",
       "      <td>-2</td>\n",
       "      <td>0.05</td>\n",
       "    </tr>\n",
       "    <tr>\n",
       "      <th>1</th>\n",
       "      <td>FR40_EUR</td>\n",
       "      <td>CFD</td>\n",
       "      <td>France 40</td>\n",
       "      <td>0</td>\n",
       "      <td>0.05</td>\n",
       "    </tr>\n",
       "    <tr>\n",
       "      <th>2</th>\n",
       "      <td>EUR_DKK</td>\n",
       "      <td>CURRENCY</td>\n",
       "      <td>EUR/DKK</td>\n",
       "      <td>-4</td>\n",
       "      <td>0.1</td>\n",
       "    </tr>\n",
       "    <tr>\n",
       "      <th>3</th>\n",
       "      <td>XAU_CHF</td>\n",
       "      <td>METAL</td>\n",
       "      <td>Gold/CHF</td>\n",
       "      <td>-2</td>\n",
       "      <td>0.05</td>\n",
       "    </tr>\n",
       "    <tr>\n",
       "      <th>4</th>\n",
       "      <td>XPD_USD</td>\n",
       "      <td>CFD</td>\n",
       "      <td>Palladium</td>\n",
       "      <td>-2</td>\n",
       "      <td>0.10</td>\n",
       "    </tr>\n",
       "    <tr>\n",
       "      <th>...</th>\n",
       "      <td>...</td>\n",
       "      <td>...</td>\n",
       "      <td>...</td>\n",
       "      <td>...</td>\n",
       "      <td>...</td>\n",
       "    </tr>\n",
       "    <tr>\n",
       "      <th>117</th>\n",
       "      <td>USD_PLN</td>\n",
       "      <td>CURRENCY</td>\n",
       "      <td>USD/PLN</td>\n",
       "      <td>-4</td>\n",
       "      <td>0.05</td>\n",
       "    </tr>\n",
       "    <tr>\n",
       "      <th>118</th>\n",
       "      <td>AU200_AUD</td>\n",
       "      <td>CFD</td>\n",
       "      <td>Australia 200</td>\n",
       "      <td>0</td>\n",
       "      <td>0.05</td>\n",
       "    </tr>\n",
       "    <tr>\n",
       "      <th>119</th>\n",
       "      <td>CAD_HKD</td>\n",
       "      <td>CURRENCY</td>\n",
       "      <td>CAD/HKD</td>\n",
       "      <td>-4</td>\n",
       "      <td>0.1</td>\n",
       "    </tr>\n",
       "    <tr>\n",
       "      <th>120</th>\n",
       "      <td>US30_USD</td>\n",
       "      <td>CFD</td>\n",
       "      <td>US Wall St 30</td>\n",
       "      <td>0</td>\n",
       "      <td>0.05</td>\n",
       "    </tr>\n",
       "    <tr>\n",
       "      <th>121</th>\n",
       "      <td>GBP_CAD</td>\n",
       "      <td>CURRENCY</td>\n",
       "      <td>GBP/CAD</td>\n",
       "      <td>-4</td>\n",
       "      <td>0.0333</td>\n",
       "    </tr>\n",
       "  </tbody>\n",
       "</table>\n",
       "<p>122 rows × 5 columns</p>\n",
       "</div>"
      ],
      "text/plain": [
       "          name      type    displayName  pipLocation marginRate\n",
       "0      EUR_HUF  CURRENCY        EUR/HUF           -2       0.05\n",
       "1     FR40_EUR       CFD      France 40            0       0.05\n",
       "2      EUR_DKK  CURRENCY        EUR/DKK           -4        0.1\n",
       "3      XAU_CHF     METAL       Gold/CHF           -2       0.05\n",
       "4      XPD_USD       CFD      Palladium           -2       0.10\n",
       "..         ...       ...            ...          ...        ...\n",
       "117    USD_PLN  CURRENCY        USD/PLN           -4       0.05\n",
       "118  AU200_AUD       CFD  Australia 200            0       0.05\n",
       "119    CAD_HKD  CURRENCY        CAD/HKD           -4        0.1\n",
       "120   US30_USD       CFD  US Wall St 30            0       0.05\n",
       "121    GBP_CAD  CURRENCY        GBP/CAD           -4     0.0333\n",
       "\n",
       "[122 rows x 5 columns]"
      ]
     },
     "execution_count": 121,
     "metadata": {},
     "output_type": "execute_result"
    }
   ],
   "source": [
    "ins_df"
   ]
  },
  {
   "cell_type": "code",
   "execution_count": 122,
   "metadata": {},
   "outputs": [
    {
     "data": {
      "text/plain": [
       "'EUR'"
      ]
     },
     "execution_count": 122,
     "metadata": {},
     "output_type": "execute_result"
    }
   ],
   "source": [
    "ins_df.iloc[0]['name'][:3]"
   ]
  },
  {
   "cell_type": "code",
   "execution_count": 123,
   "metadata": {},
   "outputs": [
    {
     "data": {
      "text/plain": [
       "'HUF'"
      ]
     },
     "execution_count": 123,
     "metadata": {},
     "output_type": "execute_result"
    }
   ],
   "source": [
    "ins_df.iloc[0]['name'][4:]"
   ]
  },
  {
   "cell_type": "code",
   "execution_count": 124,
   "metadata": {},
   "outputs": [],
   "source": [
    "our_curr = ['EUR', 'USD', 'GBP', 'JPY', 'CHF','NZD','CAD']"
   ]
  },
  {
   "cell_type": "code",
   "execution_count": 125,
   "metadata": {},
   "outputs": [
    {
     "data": {
      "text/plain": [
       "122"
      ]
     },
     "execution_count": 125,
     "metadata": {},
     "output_type": "execute_result"
    }
   ],
   "source": [
    "ins_df.shape[0]"
   ]
  },
  {
   "cell_type": "code",
   "execution_count": 126,
   "metadata": {},
   "outputs": [
    {
     "name": "stdout",
     "output_type": "stream",
     "text": [
      "<class 'pandas.core.frame.DataFrame'>\n",
      "RangeIndex: 122 entries, 0 to 121\n",
      "Data columns (total 5 columns):\n",
      " #   Column       Non-Null Count  Dtype \n",
      "---  ------       --------------  ----- \n",
      " 0   name         122 non-null    object\n",
      " 1   type         122 non-null    object\n",
      " 2   displayName  122 non-null    object\n",
      " 3   pipLocation  122 non-null    int64 \n",
      " 4   marginRate   122 non-null    object\n",
      "dtypes: int64(1), object(4)\n",
      "memory usage: 4.9+ KB\n"
     ]
    }
   ],
   "source": [
    "ins_df.info()"
   ]
  },
  {
   "cell_type": "code",
   "execution_count": 127,
   "metadata": {},
   "outputs": [
    {
     "data": {
      "text/plain": [
       "Index(['name', 'type', 'displayName', 'pipLocation', 'marginRate'], dtype='object')"
      ]
     },
     "execution_count": 127,
     "metadata": {},
     "output_type": "execute_result"
    }
   ],
   "source": [
    "ins_df.columns"
   ]
  },
  {
   "cell_type": "code",
   "execution_count": 128,
   "metadata": {},
   "outputs": [],
   "source": [
    "unique_pairs = ins_df.name.unique()"
   ]
  },
  {
   "cell_type": "code",
   "execution_count": 129,
   "metadata": {},
   "outputs": [
    {
     "data": {
      "text/plain": [
       "array(['EUR_HUF', 'FR40_EUR', 'EUR_DKK', 'XAU_CHF', 'XPD_USD', 'BCO_USD',\n",
       "       'IN50_USD', 'NATGAS_USD', 'USD_MXN', 'GBP_USD', 'CAD_CHF',\n",
       "       'EUR_GBP', 'XAG_SGD', 'JP225_USD', 'XAG_CAD', 'CN50_USD',\n",
       "       'EU50_EUR', 'GBP_CHF', 'USD_THB', 'USD_ZAR', 'XAU_USD', 'XPT_USD',\n",
       "       'XAU_EUR', 'EUR_NOK', 'DE30_EUR', 'GBP_PLN', 'AUD_NZD', 'XAU_HKD',\n",
       "       'EUR_HKD', 'CHF_JPY', 'USD_SEK', 'GBP_SGD', 'GBP_HKD', 'EUR_NZD',\n",
       "       'XAG_AUD', 'WTICO_USD', 'XAG_NZD', 'SGD_CHF', 'AUD_SGD', 'EUR_JPY',\n",
       "       'TWIX_USD', 'USD_CHF', 'USD_TRY', 'GBP_JPY', 'EUR_CZK', 'EUR_TRY',\n",
       "       'USD_JPY', 'GBP_ZAR', 'SGD_JPY', 'XAU_SGD', 'USD_CZK', 'XAU_JPY',\n",
       "       'XAG_JPY', 'ZAR_JPY', 'TRY_JPY', 'USD_DKK', 'EUR_PLN', 'SUGAR_USD',\n",
       "       'AUD_CAD', 'USD_HKD', 'CAD_SGD', 'US2000_USD', 'DE10YB_EUR',\n",
       "       'USB02Y_USD', 'USB05Y_USD', 'HK33_HKD', 'USB10Y_USD', 'GBP_NZD',\n",
       "       'USD_CNH', 'XAU_NZD', 'NZD_USD', 'XAG_GBP', 'XAG_EUR', 'CORN_USD',\n",
       "       'XAG_USD', 'UK100_GBP', 'NZD_HKD', 'USD_NOK', 'SPX500_USD',\n",
       "       'NZD_SGD', 'XAU_AUD', 'WHEAT_USD', 'XCU_USD', 'CAD_JPY', 'HKD_JPY',\n",
       "       'CHF_ZAR', 'USD_SGD', 'EUR_SEK', 'XAG_CHF', 'AUD_CHF', 'NZD_CHF',\n",
       "       'XAU_XAG', 'AUD_HKD', 'NAS100_USD', 'AUD_JPY', 'EUR_ZAR',\n",
       "       'XAU_CAD', 'EUR_AUD', 'NZD_JPY', 'XAG_HKD', 'XAU_GBP', 'CHF_HKD',\n",
       "       'USD_CAD', 'USD_INR', 'UK10YB_GBP', 'EUR_CHF', 'NL25_EUR',\n",
       "       'EUR_CAD', 'USD_HUF', 'USB30Y_USD', 'NZD_CAD', 'EUR_SGD',\n",
       "       'AUD_USD', 'SOYBN_USD', 'EUR_USD', 'SG30_SGD', 'GBP_AUD',\n",
       "       'USD_PLN', 'AU200_AUD', 'CAD_HKD', 'US30_USD', 'GBP_CAD'],\n",
       "      dtype=object)"
      ]
     },
     "execution_count": 129,
     "metadata": {},
     "output_type": "execute_result"
    }
   ],
   "source": [
    "unique_pairs"
   ]
  },
  {
   "cell_type": "code",
   "execution_count": 130,
   "metadata": {},
   "outputs": [
    {
     "name": "stdout",
     "output_type": "stream",
     "text": [
      "EUR_USD\n",
      "EUR_GBP\n",
      "EUR_JPY\n",
      "EUR_CHF\n",
      "EUR_NZD\n",
      "EUR_CAD\n",
      "USD_JPY\n",
      "USD_CHF\n",
      "USD_CAD\n",
      "GBP_USD\n",
      "GBP_JPY\n",
      "GBP_CHF\n",
      "GBP_NZD\n",
      "GBP_CAD\n",
      "CHF_JPY\n",
      "NZD_USD\n",
      "NZD_JPY\n",
      "NZD_CHF\n",
      "NZD_CAD\n",
      "CAD_JPY\n",
      "CAD_CHF\n"
     ]
    }
   ],
   "source": [
    "for p1 in our_curr:\n",
    "    for p2 in our_curr:\n",
    "        pair = f\"{p1}_{p2}\"\n",
    "        if pair in unique_pairs:\n",
    "            print(pair)"
   ]
  },
  {
   "cell_type": "code",
   "execution_count": 131,
   "metadata": {},
   "outputs": [],
   "source": [
    "session = requests.Session()"
   ]
  },
  {
   "cell_type": "code",
   "execution_count": 132,
   "metadata": {},
   "outputs": [],
   "source": [
    "def fetch_candles(pair_name, count, granularity):\n",
    "    url = f\"{defs.OANDA_URL}/instruments/{pair_name}/candles\"\n",
    "    params = dict(\n",
    "        count = count,\n",
    "        granularity = granularity,\n",
    "        price = \"MBA\"\n",
    "    )\n",
    "    response = session.get(url, params=params, headers=defs.SECURE_HEADER)\n",
    "    return response.status_code, response.json()"
   ]
  },
  {
   "cell_type": "code",
   "execution_count": 133,
   "metadata": {},
   "outputs": [],
   "source": [
    "code, response_candles = fetch_candles(\"EUR_GBP\",10,\"H1\")"
   ]
  },
  {
   "cell_type": "code",
   "execution_count": 134,
   "metadata": {},
   "outputs": [
    {
     "data": {
      "text/plain": [
       "200"
      ]
     },
     "execution_count": 134,
     "metadata": {},
     "output_type": "execute_result"
    }
   ],
   "source": [
    "code"
   ]
  },
  {
   "cell_type": "code",
   "execution_count": 135,
   "metadata": {},
   "outputs": [
    {
     "data": {
      "text/plain": [
       "{'instrument': 'EUR_GBP',\n",
       " 'granularity': 'H1',\n",
       " 'candles': [{'complete': True,\n",
       "   'volume': 715,\n",
       "   'time': '2021-11-03T10:00:00.000000000Z',\n",
       "   'bid': {'o': '0.85068', 'h': '0.85085', 'l': '0.84993', 'c': '0.85064'},\n",
       "   'mid': {'o': '0.85076', 'h': '0.85092', 'l': '0.85000', 'c': '0.85074'},\n",
       "   'ask': {'o': '0.85083', 'h': '0.85099', 'l': '0.85008', 'c': '0.85083'}},\n",
       "  {'complete': True,\n",
       "   'volume': 652,\n",
       "   'time': '2021-11-03T11:00:00.000000000Z',\n",
       "   'bid': {'o': '0.85067', 'h': '0.85067', 'l': '0.84851', 'c': '0.84859'},\n",
       "   'mid': {'o': '0.85076', 'h': '0.85076', 'l': '0.84858', 'c': '0.84867'},\n",
       "   'ask': {'o': '0.85084', 'h': '0.85084', 'l': '0.84865', 'c': '0.84875'}},\n",
       "  {'complete': True,\n",
       "   'volume': 1177,\n",
       "   'time': '2021-11-03T12:00:00.000000000Z',\n",
       "   'bid': {'o': '0.84861', 'h': '0.84877', 'l': '0.84774', 'c': '0.84809'},\n",
       "   'mid': {'o': '0.84870', 'h': '0.84884', 'l': '0.84783', 'c': '0.84816'},\n",
       "   'ask': {'o': '0.84878', 'h': '0.84892', 'l': '0.84791', 'c': '0.84824'}},\n",
       "  {'complete': True,\n",
       "   'volume': 894,\n",
       "   'time': '2021-11-03T13:00:00.000000000Z',\n",
       "   'bid': {'o': '0.84812', 'h': '0.84850', 'l': '0.84787', 'c': '0.84787'},\n",
       "   'mid': {'o': '0.84819', 'h': '0.84858', 'l': '0.84797', 'c': '0.84802'},\n",
       "   'ask': {'o': '0.84826', 'h': '0.84866', 'l': '0.84804', 'c': '0.84816'}},\n",
       "  {'complete': True,\n",
       "   'volume': 1257,\n",
       "   'time': '2021-11-03T14:00:00.000000000Z',\n",
       "   'bid': {'o': '0.84791', 'h': '0.84816', 'l': '0.84719', 'c': '0.84752'},\n",
       "   'mid': {'o': '0.84805', 'h': '0.84823', 'l': '0.84726', 'c': '0.84760'},\n",
       "   'ask': {'o': '0.84819', 'h': '0.84831', 'l': '0.84734', 'c': '0.84767'}},\n",
       "  {'complete': True,\n",
       "   'volume': 862,\n",
       "   'time': '2021-11-03T15:00:00.000000000Z',\n",
       "   'bid': {'o': '0.84750', 'h': '0.84806', 'l': '0.84739', 'c': '0.84804'},\n",
       "   'mid': {'o': '0.84758', 'h': '0.84814', 'l': '0.84746', 'c': '0.84812'},\n",
       "   'ask': {'o': '0.84765', 'h': '0.84823', 'l': '0.84752', 'c': '0.84820'}},\n",
       "  {'complete': True,\n",
       "   'volume': 577,\n",
       "   'time': '2021-11-03T16:00:00.000000000Z',\n",
       "   'bid': {'o': '0.84806', 'h': '0.84806', 'l': '0.84745', 'c': '0.84765'},\n",
       "   'mid': {'o': '0.84814', 'h': '0.84814', 'l': '0.84754', 'c': '0.84772'},\n",
       "   'ask': {'o': '0.84822', 'h': '0.84822', 'l': '0.84761', 'c': '0.84780'}},\n",
       "  {'complete': True,\n",
       "   'volume': 405,\n",
       "   'time': '2021-11-03T17:00:00.000000000Z',\n",
       "   'bid': {'o': '0.84768', 'h': '0.84814', 'l': '0.84735', 'c': '0.84783'},\n",
       "   'mid': {'o': '0.84775', 'h': '0.84826', 'l': '0.84742', 'c': '0.84808'},\n",
       "   'ask': {'o': '0.84782', 'h': '0.84839', 'l': '0.84750', 'c': '0.84833'}},\n",
       "  {'complete': True,\n",
       "   'volume': 4310,\n",
       "   'time': '2021-11-03T18:00:00.000000000Z',\n",
       "   'bid': {'o': '0.84775', 'h': '0.84874', 'l': '0.84753', 'c': '0.84873'},\n",
       "   'mid': {'o': '0.84804', 'h': '0.84884', 'l': '0.84780', 'c': '0.84882'},\n",
       "   'ask': {'o': '0.84833', 'h': '0.84894', 'l': '0.84790', 'c': '0.84892'}},\n",
       "  {'complete': False,\n",
       "   'volume': 1125,\n",
       "   'time': '2021-11-03T19:00:00.000000000Z',\n",
       "   'bid': {'o': '0.84870', 'h': '0.84870', 'l': '0.84801', 'c': '0.84849'},\n",
       "   'mid': {'o': '0.84880', 'h': '0.84880', 'l': '0.84809', 'c': '0.84856'},\n",
       "   'ask': {'o': '0.84890', 'h': '0.84890', 'l': '0.84817', 'c': '0.84864'}}]}"
      ]
     },
     "execution_count": 135,
     "metadata": {},
     "output_type": "execute_result"
    }
   ],
   "source": [
    "response_candles"
   ]
  },
  {
   "cell_type": "code",
   "execution_count": 136,
   "metadata": {},
   "outputs": [],
   "source": [
    "def get_candles_df(json_response):\n",
    "\n",
    "    prices = ['mid', 'bid', 'ask']\n",
    "    ohlc = ['o','h','l','c']\n",
    "    our_data = []\n",
    "    for candle in json_response['candles']:\n",
    "        if candle['complete']==False:\n",
    "            continue\n",
    "        new_dict = {}\n",
    "        new_dict['time'] = candle['time']\n",
    "        new_dict['volume'] = candle['volume']\n",
    "        for price in prices:\n",
    "            for oh in ohlc:\n",
    "                new_dict[f\"{price}_{oh}\"] = candle[price][oh]\n",
    "        our_data.append(new_dict)\n",
    "    return pd.DataFrame.from_dict(our_data)\n",
    "\n"
   ]
  },
  {
   "cell_type": "code",
   "execution_count": 159,
   "metadata": {},
   "outputs": [],
   "source": [
    "candles_df = get_candles_df(response_candles)"
   ]
  },
  {
   "cell_type": "code",
   "execution_count": 160,
   "metadata": {},
   "outputs": [
    {
     "data": {
      "text/html": [
       "<div>\n",
       "<style scoped>\n",
       "    .dataframe tbody tr th:only-of-type {\n",
       "        vertical-align: middle;\n",
       "    }\n",
       "\n",
       "    .dataframe tbody tr th {\n",
       "        vertical-align: top;\n",
       "    }\n",
       "\n",
       "    .dataframe thead th {\n",
       "        text-align: right;\n",
       "    }\n",
       "</style>\n",
       "<table border=\"1\" class=\"dataframe\">\n",
       "  <thead>\n",
       "    <tr style=\"text-align: right;\">\n",
       "      <th></th>\n",
       "      <th>time</th>\n",
       "      <th>volume</th>\n",
       "      <th>mid_o</th>\n",
       "      <th>mid_h</th>\n",
       "      <th>mid_l</th>\n",
       "      <th>mid_c</th>\n",
       "      <th>bid_o</th>\n",
       "      <th>bid_h</th>\n",
       "      <th>bid_l</th>\n",
       "      <th>bid_c</th>\n",
       "      <th>ask_o</th>\n",
       "      <th>ask_h</th>\n",
       "      <th>ask_l</th>\n",
       "      <th>ask_c</th>\n",
       "    </tr>\n",
       "  </thead>\n",
       "  <tbody>\n",
       "    <tr>\n",
       "      <th>0</th>\n",
       "      <td>2021-11-03T10:00:00.000000000Z</td>\n",
       "      <td>715</td>\n",
       "      <td>0.85076</td>\n",
       "      <td>0.85092</td>\n",
       "      <td>0.85000</td>\n",
       "      <td>0.85074</td>\n",
       "      <td>0.85068</td>\n",
       "      <td>0.85085</td>\n",
       "      <td>0.84993</td>\n",
       "      <td>0.85064</td>\n",
       "      <td>0.85083</td>\n",
       "      <td>0.85099</td>\n",
       "      <td>0.85008</td>\n",
       "      <td>0.85083</td>\n",
       "    </tr>\n",
       "    <tr>\n",
       "      <th>1</th>\n",
       "      <td>2021-11-03T11:00:00.000000000Z</td>\n",
       "      <td>652</td>\n",
       "      <td>0.85076</td>\n",
       "      <td>0.85076</td>\n",
       "      <td>0.84858</td>\n",
       "      <td>0.84867</td>\n",
       "      <td>0.85067</td>\n",
       "      <td>0.85067</td>\n",
       "      <td>0.84851</td>\n",
       "      <td>0.84859</td>\n",
       "      <td>0.85084</td>\n",
       "      <td>0.85084</td>\n",
       "      <td>0.84865</td>\n",
       "      <td>0.84875</td>\n",
       "    </tr>\n",
       "    <tr>\n",
       "      <th>2</th>\n",
       "      <td>2021-11-03T12:00:00.000000000Z</td>\n",
       "      <td>1177</td>\n",
       "      <td>0.84870</td>\n",
       "      <td>0.84884</td>\n",
       "      <td>0.84783</td>\n",
       "      <td>0.84816</td>\n",
       "      <td>0.84861</td>\n",
       "      <td>0.84877</td>\n",
       "      <td>0.84774</td>\n",
       "      <td>0.84809</td>\n",
       "      <td>0.84878</td>\n",
       "      <td>0.84892</td>\n",
       "      <td>0.84791</td>\n",
       "      <td>0.84824</td>\n",
       "    </tr>\n",
       "    <tr>\n",
       "      <th>3</th>\n",
       "      <td>2021-11-03T13:00:00.000000000Z</td>\n",
       "      <td>894</td>\n",
       "      <td>0.84819</td>\n",
       "      <td>0.84858</td>\n",
       "      <td>0.84797</td>\n",
       "      <td>0.84802</td>\n",
       "      <td>0.84812</td>\n",
       "      <td>0.84850</td>\n",
       "      <td>0.84787</td>\n",
       "      <td>0.84787</td>\n",
       "      <td>0.84826</td>\n",
       "      <td>0.84866</td>\n",
       "      <td>0.84804</td>\n",
       "      <td>0.84816</td>\n",
       "    </tr>\n",
       "    <tr>\n",
       "      <th>4</th>\n",
       "      <td>2021-11-03T14:00:00.000000000Z</td>\n",
       "      <td>1257</td>\n",
       "      <td>0.84805</td>\n",
       "      <td>0.84823</td>\n",
       "      <td>0.84726</td>\n",
       "      <td>0.84760</td>\n",
       "      <td>0.84791</td>\n",
       "      <td>0.84816</td>\n",
       "      <td>0.84719</td>\n",
       "      <td>0.84752</td>\n",
       "      <td>0.84819</td>\n",
       "      <td>0.84831</td>\n",
       "      <td>0.84734</td>\n",
       "      <td>0.84767</td>\n",
       "    </tr>\n",
       "    <tr>\n",
       "      <th>5</th>\n",
       "      <td>2021-11-03T15:00:00.000000000Z</td>\n",
       "      <td>862</td>\n",
       "      <td>0.84758</td>\n",
       "      <td>0.84814</td>\n",
       "      <td>0.84746</td>\n",
       "      <td>0.84812</td>\n",
       "      <td>0.84750</td>\n",
       "      <td>0.84806</td>\n",
       "      <td>0.84739</td>\n",
       "      <td>0.84804</td>\n",
       "      <td>0.84765</td>\n",
       "      <td>0.84823</td>\n",
       "      <td>0.84752</td>\n",
       "      <td>0.84820</td>\n",
       "    </tr>\n",
       "    <tr>\n",
       "      <th>6</th>\n",
       "      <td>2021-11-03T16:00:00.000000000Z</td>\n",
       "      <td>577</td>\n",
       "      <td>0.84814</td>\n",
       "      <td>0.84814</td>\n",
       "      <td>0.84754</td>\n",
       "      <td>0.84772</td>\n",
       "      <td>0.84806</td>\n",
       "      <td>0.84806</td>\n",
       "      <td>0.84745</td>\n",
       "      <td>0.84765</td>\n",
       "      <td>0.84822</td>\n",
       "      <td>0.84822</td>\n",
       "      <td>0.84761</td>\n",
       "      <td>0.84780</td>\n",
       "    </tr>\n",
       "    <tr>\n",
       "      <th>7</th>\n",
       "      <td>2021-11-03T17:00:00.000000000Z</td>\n",
       "      <td>405</td>\n",
       "      <td>0.84775</td>\n",
       "      <td>0.84826</td>\n",
       "      <td>0.84742</td>\n",
       "      <td>0.84808</td>\n",
       "      <td>0.84768</td>\n",
       "      <td>0.84814</td>\n",
       "      <td>0.84735</td>\n",
       "      <td>0.84783</td>\n",
       "      <td>0.84782</td>\n",
       "      <td>0.84839</td>\n",
       "      <td>0.84750</td>\n",
       "      <td>0.84833</td>\n",
       "    </tr>\n",
       "    <tr>\n",
       "      <th>8</th>\n",
       "      <td>2021-11-03T18:00:00.000000000Z</td>\n",
       "      <td>4310</td>\n",
       "      <td>0.84804</td>\n",
       "      <td>0.84884</td>\n",
       "      <td>0.84780</td>\n",
       "      <td>0.84882</td>\n",
       "      <td>0.84775</td>\n",
       "      <td>0.84874</td>\n",
       "      <td>0.84753</td>\n",
       "      <td>0.84873</td>\n",
       "      <td>0.84833</td>\n",
       "      <td>0.84894</td>\n",
       "      <td>0.84790</td>\n",
       "      <td>0.84892</td>\n",
       "    </tr>\n",
       "  </tbody>\n",
       "</table>\n",
       "</div>"
      ],
      "text/plain": [
       "                             time  volume    mid_o    mid_h    mid_l    mid_c  \\\n",
       "0  2021-11-03T10:00:00.000000000Z     715  0.85076  0.85092  0.85000  0.85074   \n",
       "1  2021-11-03T11:00:00.000000000Z     652  0.85076  0.85076  0.84858  0.84867   \n",
       "2  2021-11-03T12:00:00.000000000Z    1177  0.84870  0.84884  0.84783  0.84816   \n",
       "3  2021-11-03T13:00:00.000000000Z     894  0.84819  0.84858  0.84797  0.84802   \n",
       "4  2021-11-03T14:00:00.000000000Z    1257  0.84805  0.84823  0.84726  0.84760   \n",
       "5  2021-11-03T15:00:00.000000000Z     862  0.84758  0.84814  0.84746  0.84812   \n",
       "6  2021-11-03T16:00:00.000000000Z     577  0.84814  0.84814  0.84754  0.84772   \n",
       "7  2021-11-03T17:00:00.000000000Z     405  0.84775  0.84826  0.84742  0.84808   \n",
       "8  2021-11-03T18:00:00.000000000Z    4310  0.84804  0.84884  0.84780  0.84882   \n",
       "\n",
       "     bid_o    bid_h    bid_l    bid_c    ask_o    ask_h    ask_l    ask_c  \n",
       "0  0.85068  0.85085  0.84993  0.85064  0.85083  0.85099  0.85008  0.85083  \n",
       "1  0.85067  0.85067  0.84851  0.84859  0.85084  0.85084  0.84865  0.84875  \n",
       "2  0.84861  0.84877  0.84774  0.84809  0.84878  0.84892  0.84791  0.84824  \n",
       "3  0.84812  0.84850  0.84787  0.84787  0.84826  0.84866  0.84804  0.84816  \n",
       "4  0.84791  0.84816  0.84719  0.84752  0.84819  0.84831  0.84734  0.84767  \n",
       "5  0.84750  0.84806  0.84739  0.84804  0.84765  0.84823  0.84752  0.84820  \n",
       "6  0.84806  0.84806  0.84745  0.84765  0.84822  0.84822  0.84761  0.84780  \n",
       "7  0.84768  0.84814  0.84735  0.84783  0.84782  0.84839  0.84750  0.84833  \n",
       "8  0.84775  0.84874  0.84753  0.84873  0.84833  0.84894  0.84790  0.84892  "
      ]
     },
     "execution_count": 160,
     "metadata": {},
     "output_type": "execute_result"
    }
   ],
   "source": [
    "candles_df"
   ]
  },
  {
   "cell_type": "code",
   "execution_count": 139,
   "metadata": {},
   "outputs": [
    {
     "data": {
      "text/html": [
       "<div>\n",
       "<style scoped>\n",
       "    .dataframe tbody tr th:only-of-type {\n",
       "        vertical-align: middle;\n",
       "    }\n",
       "\n",
       "    .dataframe tbody tr th {\n",
       "        vertical-align: top;\n",
       "    }\n",
       "\n",
       "    .dataframe thead th {\n",
       "        text-align: right;\n",
       "    }\n",
       "</style>\n",
       "<table border=\"1\" class=\"dataframe\">\n",
       "  <thead>\n",
       "    <tr style=\"text-align: right;\">\n",
       "      <th></th>\n",
       "      <th>time</th>\n",
       "      <th>volume</th>\n",
       "      <th>mid_o</th>\n",
       "      <th>mid_h</th>\n",
       "      <th>mid_l</th>\n",
       "      <th>mid_c</th>\n",
       "      <th>bid_o</th>\n",
       "      <th>bid_h</th>\n",
       "      <th>bid_l</th>\n",
       "      <th>bid_c</th>\n",
       "      <th>ask_o</th>\n",
       "      <th>ask_h</th>\n",
       "      <th>ask_l</th>\n",
       "      <th>ask_c</th>\n",
       "    </tr>\n",
       "  </thead>\n",
       "  <tbody>\n",
       "    <tr>\n",
       "      <th>0</th>\n",
       "      <td>2021-11-03T10:00:00.000000000Z</td>\n",
       "      <td>715</td>\n",
       "      <td>0.85076</td>\n",
       "      <td>0.85092</td>\n",
       "      <td>0.85000</td>\n",
       "      <td>0.85074</td>\n",
       "      <td>0.85068</td>\n",
       "      <td>0.85085</td>\n",
       "      <td>0.84993</td>\n",
       "      <td>0.85064</td>\n",
       "      <td>0.85083</td>\n",
       "      <td>0.85099</td>\n",
       "      <td>0.85008</td>\n",
       "      <td>0.85083</td>\n",
       "    </tr>\n",
       "    <tr>\n",
       "      <th>1</th>\n",
       "      <td>2021-11-03T11:00:00.000000000Z</td>\n",
       "      <td>652</td>\n",
       "      <td>0.85076</td>\n",
       "      <td>0.85076</td>\n",
       "      <td>0.84858</td>\n",
       "      <td>0.84867</td>\n",
       "      <td>0.85067</td>\n",
       "      <td>0.85067</td>\n",
       "      <td>0.84851</td>\n",
       "      <td>0.84859</td>\n",
       "      <td>0.85084</td>\n",
       "      <td>0.85084</td>\n",
       "      <td>0.84865</td>\n",
       "      <td>0.84875</td>\n",
       "    </tr>\n",
       "    <tr>\n",
       "      <th>2</th>\n",
       "      <td>2021-11-03T12:00:00.000000000Z</td>\n",
       "      <td>1177</td>\n",
       "      <td>0.84870</td>\n",
       "      <td>0.84884</td>\n",
       "      <td>0.84783</td>\n",
       "      <td>0.84816</td>\n",
       "      <td>0.84861</td>\n",
       "      <td>0.84877</td>\n",
       "      <td>0.84774</td>\n",
       "      <td>0.84809</td>\n",
       "      <td>0.84878</td>\n",
       "      <td>0.84892</td>\n",
       "      <td>0.84791</td>\n",
       "      <td>0.84824</td>\n",
       "    </tr>\n",
       "    <tr>\n",
       "      <th>3</th>\n",
       "      <td>2021-11-03T13:00:00.000000000Z</td>\n",
       "      <td>894</td>\n",
       "      <td>0.84819</td>\n",
       "      <td>0.84858</td>\n",
       "      <td>0.84797</td>\n",
       "      <td>0.84802</td>\n",
       "      <td>0.84812</td>\n",
       "      <td>0.84850</td>\n",
       "      <td>0.84787</td>\n",
       "      <td>0.84787</td>\n",
       "      <td>0.84826</td>\n",
       "      <td>0.84866</td>\n",
       "      <td>0.84804</td>\n",
       "      <td>0.84816</td>\n",
       "    </tr>\n",
       "    <tr>\n",
       "      <th>4</th>\n",
       "      <td>2021-11-03T14:00:00.000000000Z</td>\n",
       "      <td>1257</td>\n",
       "      <td>0.84805</td>\n",
       "      <td>0.84823</td>\n",
       "      <td>0.84726</td>\n",
       "      <td>0.84760</td>\n",
       "      <td>0.84791</td>\n",
       "      <td>0.84816</td>\n",
       "      <td>0.84719</td>\n",
       "      <td>0.84752</td>\n",
       "      <td>0.84819</td>\n",
       "      <td>0.84831</td>\n",
       "      <td>0.84734</td>\n",
       "      <td>0.84767</td>\n",
       "    </tr>\n",
       "  </tbody>\n",
       "</table>\n",
       "</div>"
      ],
      "text/plain": [
       "                             time  volume    mid_o    mid_h    mid_l    mid_c  \\\n",
       "0  2021-11-03T10:00:00.000000000Z     715  0.85076  0.85092  0.85000  0.85074   \n",
       "1  2021-11-03T11:00:00.000000000Z     652  0.85076  0.85076  0.84858  0.84867   \n",
       "2  2021-11-03T12:00:00.000000000Z    1177  0.84870  0.84884  0.84783  0.84816   \n",
       "3  2021-11-03T13:00:00.000000000Z     894  0.84819  0.84858  0.84797  0.84802   \n",
       "4  2021-11-03T14:00:00.000000000Z    1257  0.84805  0.84823  0.84726  0.84760   \n",
       "\n",
       "     bid_o    bid_h    bid_l    bid_c    ask_o    ask_h    ask_l    ask_c  \n",
       "0  0.85068  0.85085  0.84993  0.85064  0.85083  0.85099  0.85008  0.85083  \n",
       "1  0.85067  0.85067  0.84851  0.84859  0.85084  0.85084  0.84865  0.84875  \n",
       "2  0.84861  0.84877  0.84774  0.84809  0.84878  0.84892  0.84791  0.84824  \n",
       "3  0.84812  0.84850  0.84787  0.84787  0.84826  0.84866  0.84804  0.84816  \n",
       "4  0.84791  0.84816  0.84719  0.84752  0.84819  0.84831  0.84734  0.84767  "
      ]
     },
     "execution_count": 139,
     "metadata": {},
     "output_type": "execute_result"
    }
   ],
   "source": [
    "candles_df.head()"
   ]
  },
  {
   "cell_type": "code",
   "execution_count": 140,
   "metadata": {},
   "outputs": [],
   "source": [
    "candles_df.to_pickle(\"his_data/EUR_USD_H1_09_candles.pkl\")"
   ]
  },
  {
   "cell_type": "code",
   "execution_count": 141,
   "metadata": {},
   "outputs": [],
   "source": [
    "def save_df_to_file(df, pair, granularity):\n",
    "    df.to_pickle(f\"his_data/{pair}_{granularity}.pkl\")    "
   ]
  },
  {
   "cell_type": "code",
   "execution_count": 142,
   "metadata": {},
   "outputs": [],
   "source": [
    "def create_data(pair, granularity):\n",
    "    code, json_data = fetch_candles(pair, 4001, granularity)\n",
    "    if code != 200:\n",
    "        print(pair, \"Error\")\n",
    "        return\n",
    "    df = get_candles_df(json_data)\n",
    "    print(f\"{pair} loaded {df.shape[0]} candles from {df.time.min()} to {df.time.max()}\")\n",
    "    save_df_to_file(df, pair, granularity)"
   ]
  },
  {
   "cell_type": "code",
   "execution_count": 143,
   "metadata": {},
   "outputs": [
    {
     "name": "stdout",
     "output_type": "stream",
     "text": [
      "EUR_USD loaded 4000 candles from 2021-03-16T03:00:00.000000000Z to 2021-11-03T18:00:00.000000000Z\n",
      "EUR_GBP loaded 4000 candles from 2021-03-16T03:00:00.000000000Z to 2021-11-03T18:00:00.000000000Z\n",
      "EUR_JPY loaded 4000 candles from 2021-03-16T02:00:00.000000000Z to 2021-11-03T18:00:00.000000000Z\n",
      "EUR_CHF loaded 4000 candles from 2021-03-16T03:00:00.000000000Z to 2021-11-03T18:00:00.000000000Z\n",
      "EUR_NZD loaded 4000 candles from 2021-03-16T03:00:00.000000000Z to 2021-11-03T18:00:00.000000000Z\n",
      "EUR_CAD loaded 4000 candles from 2021-03-16T03:00:00.000000000Z to 2021-11-03T18:00:00.000000000Z\n",
      "USD_JPY loaded 4000 candles from 2021-03-16T03:00:00.000000000Z to 2021-11-03T18:00:00.000000000Z\n",
      "USD_CHF loaded 4000 candles from 2021-03-16T03:00:00.000000000Z to 2021-11-03T18:00:00.000000000Z\n",
      "USD_CAD loaded 4000 candles from 2021-03-16T03:00:00.000000000Z to 2021-11-03T18:00:00.000000000Z\n",
      "GBP_USD loaded 4000 candles from 2021-03-16T02:00:00.000000000Z to 2021-11-03T18:00:00.000000000Z\n",
      "GBP_JPY loaded 4000 candles from 2021-03-16T03:00:00.000000000Z to 2021-11-03T18:00:00.000000000Z\n",
      "GBP_CHF loaded 4000 candles from 2021-03-16T02:00:00.000000000Z to 2021-11-03T18:00:00.000000000Z\n",
      "GBP_NZD loaded 4000 candles from 2021-03-16T03:00:00.000000000Z to 2021-11-03T18:00:00.000000000Z\n",
      "GBP_CAD loaded 4000 candles from 2021-03-16T03:00:00.000000000Z to 2021-11-03T18:00:00.000000000Z\n",
      "CHF_JPY loaded 4000 candles from 2021-03-16T02:00:00.000000000Z to 2021-11-03T18:00:00.000000000Z\n",
      "NZD_USD loaded 4000 candles from 2021-03-16T03:00:00.000000000Z to 2021-11-03T18:00:00.000000000Z\n",
      "NZD_JPY loaded 4000 candles from 2021-03-16T03:00:00.000000000Z to 2021-11-03T18:00:00.000000000Z\n",
      "NZD_CHF loaded 4000 candles from 2021-03-16T03:00:00.000000000Z to 2021-11-03T18:00:00.000000000Z\n",
      "NZD_CAD loaded 4000 candles from 2021-03-16T02:00:00.000000000Z to 2021-11-03T18:00:00.000000000Z\n",
      "CAD_JPY loaded 4000 candles from 2021-03-16T03:00:00.000000000Z to 2021-11-03T18:00:00.000000000Z\n",
      "CAD_CHF loaded 4000 candles from 2021-03-16T03:00:00.000000000Z to 2021-11-03T18:00:00.000000000Z\n"
     ]
    }
   ],
   "source": [
    "for p1 in our_curr:\n",
    "    for p2 in our_curr:\n",
    "        pair = f\"{p1}_{p2}\"\n",
    "        if pair in unique_pairs:\n",
    "            create_data(pair, \"H1\")"
   ]
  },
  {
   "cell_type": "code",
   "execution_count": 144,
   "metadata": {},
   "outputs": [
    {
     "data": {
      "text/plain": [
       "{'instrument': 'EUR_GBP',\n",
       " 'granularity': 'H1',\n",
       " 'candles': [{'complete': True,\n",
       "   'volume': 715,\n",
       "   'time': '2021-11-03T10:00:00.000000000Z',\n",
       "   'bid': {'o': '0.85068', 'h': '0.85085', 'l': '0.84993', 'c': '0.85064'},\n",
       "   'mid': {'o': '0.85076', 'h': '0.85092', 'l': '0.85000', 'c': '0.85074'},\n",
       "   'ask': {'o': '0.85083', 'h': '0.85099', 'l': '0.85008', 'c': '0.85083'}},\n",
       "  {'complete': True,\n",
       "   'volume': 652,\n",
       "   'time': '2021-11-03T11:00:00.000000000Z',\n",
       "   'bid': {'o': '0.85067', 'h': '0.85067', 'l': '0.84851', 'c': '0.84859'},\n",
       "   'mid': {'o': '0.85076', 'h': '0.85076', 'l': '0.84858', 'c': '0.84867'},\n",
       "   'ask': {'o': '0.85084', 'h': '0.85084', 'l': '0.84865', 'c': '0.84875'}},\n",
       "  {'complete': True,\n",
       "   'volume': 1177,\n",
       "   'time': '2021-11-03T12:00:00.000000000Z',\n",
       "   'bid': {'o': '0.84861', 'h': '0.84877', 'l': '0.84774', 'c': '0.84809'},\n",
       "   'mid': {'o': '0.84870', 'h': '0.84884', 'l': '0.84783', 'c': '0.84816'},\n",
       "   'ask': {'o': '0.84878', 'h': '0.84892', 'l': '0.84791', 'c': '0.84824'}},\n",
       "  {'complete': True,\n",
       "   'volume': 894,\n",
       "   'time': '2021-11-03T13:00:00.000000000Z',\n",
       "   'bid': {'o': '0.84812', 'h': '0.84850', 'l': '0.84787', 'c': '0.84787'},\n",
       "   'mid': {'o': '0.84819', 'h': '0.84858', 'l': '0.84797', 'c': '0.84802'},\n",
       "   'ask': {'o': '0.84826', 'h': '0.84866', 'l': '0.84804', 'c': '0.84816'}},\n",
       "  {'complete': True,\n",
       "   'volume': 1257,\n",
       "   'time': '2021-11-03T14:00:00.000000000Z',\n",
       "   'bid': {'o': '0.84791', 'h': '0.84816', 'l': '0.84719', 'c': '0.84752'},\n",
       "   'mid': {'o': '0.84805', 'h': '0.84823', 'l': '0.84726', 'c': '0.84760'},\n",
       "   'ask': {'o': '0.84819', 'h': '0.84831', 'l': '0.84734', 'c': '0.84767'}},\n",
       "  {'complete': True,\n",
       "   'volume': 862,\n",
       "   'time': '2021-11-03T15:00:00.000000000Z',\n",
       "   'bid': {'o': '0.84750', 'h': '0.84806', 'l': '0.84739', 'c': '0.84804'},\n",
       "   'mid': {'o': '0.84758', 'h': '0.84814', 'l': '0.84746', 'c': '0.84812'},\n",
       "   'ask': {'o': '0.84765', 'h': '0.84823', 'l': '0.84752', 'c': '0.84820'}},\n",
       "  {'complete': True,\n",
       "   'volume': 577,\n",
       "   'time': '2021-11-03T16:00:00.000000000Z',\n",
       "   'bid': {'o': '0.84806', 'h': '0.84806', 'l': '0.84745', 'c': '0.84765'},\n",
       "   'mid': {'o': '0.84814', 'h': '0.84814', 'l': '0.84754', 'c': '0.84772'},\n",
       "   'ask': {'o': '0.84822', 'h': '0.84822', 'l': '0.84761', 'c': '0.84780'}},\n",
       "  {'complete': True,\n",
       "   'volume': 405,\n",
       "   'time': '2021-11-03T17:00:00.000000000Z',\n",
       "   'bid': {'o': '0.84768', 'h': '0.84814', 'l': '0.84735', 'c': '0.84783'},\n",
       "   'mid': {'o': '0.84775', 'h': '0.84826', 'l': '0.84742', 'c': '0.84808'},\n",
       "   'ask': {'o': '0.84782', 'h': '0.84839', 'l': '0.84750', 'c': '0.84833'}},\n",
       "  {'complete': True,\n",
       "   'volume': 4310,\n",
       "   'time': '2021-11-03T18:00:00.000000000Z',\n",
       "   'bid': {'o': '0.84775', 'h': '0.84874', 'l': '0.84753', 'c': '0.84873'},\n",
       "   'mid': {'o': '0.84804', 'h': '0.84884', 'l': '0.84780', 'c': '0.84882'},\n",
       "   'ask': {'o': '0.84833', 'h': '0.84894', 'l': '0.84790', 'c': '0.84892'}},\n",
       "  {'complete': False,\n",
       "   'volume': 1125,\n",
       "   'time': '2021-11-03T19:00:00.000000000Z',\n",
       "   'bid': {'o': '0.84870', 'h': '0.84870', 'l': '0.84801', 'c': '0.84849'},\n",
       "   'mid': {'o': '0.84880', 'h': '0.84880', 'l': '0.84809', 'c': '0.84856'},\n",
       "   'ask': {'o': '0.84890', 'h': '0.84890', 'l': '0.84817', 'c': '0.84864'}}]}"
      ]
     },
     "execution_count": 144,
     "metadata": {},
     "output_type": "execute_result"
    }
   ],
   "source": [
    "response_candles"
   ]
  },
  {
   "cell_type": "code",
   "execution_count": 145,
   "metadata": {},
   "outputs": [
    {
     "data": {
      "text/plain": [
       "{'instrument': 'EUR_GBP',\n",
       " 'granularity': 'H1',\n",
       " 'candles': [{'complete': True,\n",
       "   'volume': 715,\n",
       "   'time': '2021-11-03T10:00:00.000000000Z',\n",
       "   'bid': {'o': '0.85068', 'h': '0.85085', 'l': '0.84993', 'c': '0.85064'},\n",
       "   'mid': {'o': '0.85076', 'h': '0.85092', 'l': '0.85000', 'c': '0.85074'},\n",
       "   'ask': {'o': '0.85083', 'h': '0.85099', 'l': '0.85008', 'c': '0.85083'}},\n",
       "  {'complete': True,\n",
       "   'volume': 652,\n",
       "   'time': '2021-11-03T11:00:00.000000000Z',\n",
       "   'bid': {'o': '0.85067', 'h': '0.85067', 'l': '0.84851', 'c': '0.84859'},\n",
       "   'mid': {'o': '0.85076', 'h': '0.85076', 'l': '0.84858', 'c': '0.84867'},\n",
       "   'ask': {'o': '0.85084', 'h': '0.85084', 'l': '0.84865', 'c': '0.84875'}},\n",
       "  {'complete': True,\n",
       "   'volume': 1177,\n",
       "   'time': '2021-11-03T12:00:00.000000000Z',\n",
       "   'bid': {'o': '0.84861', 'h': '0.84877', 'l': '0.84774', 'c': '0.84809'},\n",
       "   'mid': {'o': '0.84870', 'h': '0.84884', 'l': '0.84783', 'c': '0.84816'},\n",
       "   'ask': {'o': '0.84878', 'h': '0.84892', 'l': '0.84791', 'c': '0.84824'}},\n",
       "  {'complete': True,\n",
       "   'volume': 894,\n",
       "   'time': '2021-11-03T13:00:00.000000000Z',\n",
       "   'bid': {'o': '0.84812', 'h': '0.84850', 'l': '0.84787', 'c': '0.84787'},\n",
       "   'mid': {'o': '0.84819', 'h': '0.84858', 'l': '0.84797', 'c': '0.84802'},\n",
       "   'ask': {'o': '0.84826', 'h': '0.84866', 'l': '0.84804', 'c': '0.84816'}},\n",
       "  {'complete': True,\n",
       "   'volume': 1257,\n",
       "   'time': '2021-11-03T14:00:00.000000000Z',\n",
       "   'bid': {'o': '0.84791', 'h': '0.84816', 'l': '0.84719', 'c': '0.84752'},\n",
       "   'mid': {'o': '0.84805', 'h': '0.84823', 'l': '0.84726', 'c': '0.84760'},\n",
       "   'ask': {'o': '0.84819', 'h': '0.84831', 'l': '0.84734', 'c': '0.84767'}},\n",
       "  {'complete': True,\n",
       "   'volume': 862,\n",
       "   'time': '2021-11-03T15:00:00.000000000Z',\n",
       "   'bid': {'o': '0.84750', 'h': '0.84806', 'l': '0.84739', 'c': '0.84804'},\n",
       "   'mid': {'o': '0.84758', 'h': '0.84814', 'l': '0.84746', 'c': '0.84812'},\n",
       "   'ask': {'o': '0.84765', 'h': '0.84823', 'l': '0.84752', 'c': '0.84820'}},\n",
       "  {'complete': True,\n",
       "   'volume': 577,\n",
       "   'time': '2021-11-03T16:00:00.000000000Z',\n",
       "   'bid': {'o': '0.84806', 'h': '0.84806', 'l': '0.84745', 'c': '0.84765'},\n",
       "   'mid': {'o': '0.84814', 'h': '0.84814', 'l': '0.84754', 'c': '0.84772'},\n",
       "   'ask': {'o': '0.84822', 'h': '0.84822', 'l': '0.84761', 'c': '0.84780'}},\n",
       "  {'complete': True,\n",
       "   'volume': 405,\n",
       "   'time': '2021-11-03T17:00:00.000000000Z',\n",
       "   'bid': {'o': '0.84768', 'h': '0.84814', 'l': '0.84735', 'c': '0.84783'},\n",
       "   'mid': {'o': '0.84775', 'h': '0.84826', 'l': '0.84742', 'c': '0.84808'},\n",
       "   'ask': {'o': '0.84782', 'h': '0.84839', 'l': '0.84750', 'c': '0.84833'}},\n",
       "  {'complete': True,\n",
       "   'volume': 4310,\n",
       "   'time': '2021-11-03T18:00:00.000000000Z',\n",
       "   'bid': {'o': '0.84775', 'h': '0.84874', 'l': '0.84753', 'c': '0.84873'},\n",
       "   'mid': {'o': '0.84804', 'h': '0.84884', 'l': '0.84780', 'c': '0.84882'},\n",
       "   'ask': {'o': '0.84833', 'h': '0.84894', 'l': '0.84790', 'c': '0.84892'}},\n",
       "  {'complete': False,\n",
       "   'volume': 1125,\n",
       "   'time': '2021-11-03T19:00:00.000000000Z',\n",
       "   'bid': {'o': '0.84870', 'h': '0.84870', 'l': '0.84801', 'c': '0.84849'},\n",
       "   'mid': {'o': '0.84880', 'h': '0.84880', 'l': '0.84809', 'c': '0.84856'},\n",
       "   'ask': {'o': '0.84890', 'h': '0.84890', 'l': '0.84817', 'c': '0.84864'}}]}"
      ]
     },
     "execution_count": 145,
     "metadata": {},
     "output_type": "execute_result"
    }
   ],
   "source": [
    "response_candles"
   ]
  },
  {
   "cell_type": "code",
   "execution_count": 146,
   "metadata": {},
   "outputs": [],
   "source": [
    "data_candles = response_candles"
   ]
  },
  {
   "cell_type": "code",
   "execution_count": 147,
   "metadata": {},
   "outputs": [
    {
     "data": {
      "text/plain": [
       "{'instrument': 'EUR_GBP',\n",
       " 'granularity': 'H1',\n",
       " 'candles': [{'complete': True,\n",
       "   'volume': 715,\n",
       "   'time': '2021-11-03T10:00:00.000000000Z',\n",
       "   'bid': {'o': '0.85068', 'h': '0.85085', 'l': '0.84993', 'c': '0.85064'},\n",
       "   'mid': {'o': '0.85076', 'h': '0.85092', 'l': '0.85000', 'c': '0.85074'},\n",
       "   'ask': {'o': '0.85083', 'h': '0.85099', 'l': '0.85008', 'c': '0.85083'}},\n",
       "  {'complete': True,\n",
       "   'volume': 652,\n",
       "   'time': '2021-11-03T11:00:00.000000000Z',\n",
       "   'bid': {'o': '0.85067', 'h': '0.85067', 'l': '0.84851', 'c': '0.84859'},\n",
       "   'mid': {'o': '0.85076', 'h': '0.85076', 'l': '0.84858', 'c': '0.84867'},\n",
       "   'ask': {'o': '0.85084', 'h': '0.85084', 'l': '0.84865', 'c': '0.84875'}},\n",
       "  {'complete': True,\n",
       "   'volume': 1177,\n",
       "   'time': '2021-11-03T12:00:00.000000000Z',\n",
       "   'bid': {'o': '0.84861', 'h': '0.84877', 'l': '0.84774', 'c': '0.84809'},\n",
       "   'mid': {'o': '0.84870', 'h': '0.84884', 'l': '0.84783', 'c': '0.84816'},\n",
       "   'ask': {'o': '0.84878', 'h': '0.84892', 'l': '0.84791', 'c': '0.84824'}},\n",
       "  {'complete': True,\n",
       "   'volume': 894,\n",
       "   'time': '2021-11-03T13:00:00.000000000Z',\n",
       "   'bid': {'o': '0.84812', 'h': '0.84850', 'l': '0.84787', 'c': '0.84787'},\n",
       "   'mid': {'o': '0.84819', 'h': '0.84858', 'l': '0.84797', 'c': '0.84802'},\n",
       "   'ask': {'o': '0.84826', 'h': '0.84866', 'l': '0.84804', 'c': '0.84816'}},\n",
       "  {'complete': True,\n",
       "   'volume': 1257,\n",
       "   'time': '2021-11-03T14:00:00.000000000Z',\n",
       "   'bid': {'o': '0.84791', 'h': '0.84816', 'l': '0.84719', 'c': '0.84752'},\n",
       "   'mid': {'o': '0.84805', 'h': '0.84823', 'l': '0.84726', 'c': '0.84760'},\n",
       "   'ask': {'o': '0.84819', 'h': '0.84831', 'l': '0.84734', 'c': '0.84767'}},\n",
       "  {'complete': True,\n",
       "   'volume': 862,\n",
       "   'time': '2021-11-03T15:00:00.000000000Z',\n",
       "   'bid': {'o': '0.84750', 'h': '0.84806', 'l': '0.84739', 'c': '0.84804'},\n",
       "   'mid': {'o': '0.84758', 'h': '0.84814', 'l': '0.84746', 'c': '0.84812'},\n",
       "   'ask': {'o': '0.84765', 'h': '0.84823', 'l': '0.84752', 'c': '0.84820'}},\n",
       "  {'complete': True,\n",
       "   'volume': 577,\n",
       "   'time': '2021-11-03T16:00:00.000000000Z',\n",
       "   'bid': {'o': '0.84806', 'h': '0.84806', 'l': '0.84745', 'c': '0.84765'},\n",
       "   'mid': {'o': '0.84814', 'h': '0.84814', 'l': '0.84754', 'c': '0.84772'},\n",
       "   'ask': {'o': '0.84822', 'h': '0.84822', 'l': '0.84761', 'c': '0.84780'}},\n",
       "  {'complete': True,\n",
       "   'volume': 405,\n",
       "   'time': '2021-11-03T17:00:00.000000000Z',\n",
       "   'bid': {'o': '0.84768', 'h': '0.84814', 'l': '0.84735', 'c': '0.84783'},\n",
       "   'mid': {'o': '0.84775', 'h': '0.84826', 'l': '0.84742', 'c': '0.84808'},\n",
       "   'ask': {'o': '0.84782', 'h': '0.84839', 'l': '0.84750', 'c': '0.84833'}},\n",
       "  {'complete': True,\n",
       "   'volume': 4310,\n",
       "   'time': '2021-11-03T18:00:00.000000000Z',\n",
       "   'bid': {'o': '0.84775', 'h': '0.84874', 'l': '0.84753', 'c': '0.84873'},\n",
       "   'mid': {'o': '0.84804', 'h': '0.84884', 'l': '0.84780', 'c': '0.84882'},\n",
       "   'ask': {'o': '0.84833', 'h': '0.84894', 'l': '0.84790', 'c': '0.84892'}},\n",
       "  {'complete': False,\n",
       "   'volume': 1125,\n",
       "   'time': '2021-11-03T19:00:00.000000000Z',\n",
       "   'bid': {'o': '0.84870', 'h': '0.84870', 'l': '0.84801', 'c': '0.84849'},\n",
       "   'mid': {'o': '0.84880', 'h': '0.84880', 'l': '0.84809', 'c': '0.84856'},\n",
       "   'ask': {'o': '0.84890', 'h': '0.84890', 'l': '0.84817', 'c': '0.84864'}}]}"
      ]
     },
     "execution_count": 147,
     "metadata": {},
     "output_type": "execute_result"
    }
   ],
   "source": [
    "data_candles"
   ]
  },
  {
   "cell_type": "code",
   "execution_count": 148,
   "metadata": {},
   "outputs": [
    {
     "name": "stdout",
     "output_type": "stream",
     "text": [
      "{'complete': True, 'volume': 715, 'time': '2021-11-03T10:00:00.000000000Z', 'bid': {'o': '0.85068', 'h': '0.85085', 'l': '0.84993', 'c': '0.85064'}, 'mid': {'o': '0.85076', 'h': '0.85092', 'l': '0.85000', 'c': '0.85074'}, 'ask': {'o': '0.85083', 'h': '0.85099', 'l': '0.85008', 'c': '0.85083'}}\n",
      "{'complete': True, 'volume': 652, 'time': '2021-11-03T11:00:00.000000000Z', 'bid': {'o': '0.85067', 'h': '0.85067', 'l': '0.84851', 'c': '0.84859'}, 'mid': {'o': '0.85076', 'h': '0.85076', 'l': '0.84858', 'c': '0.84867'}, 'ask': {'o': '0.85084', 'h': '0.85084', 'l': '0.84865', 'c': '0.84875'}}\n",
      "{'complete': True, 'volume': 1177, 'time': '2021-11-03T12:00:00.000000000Z', 'bid': {'o': '0.84861', 'h': '0.84877', 'l': '0.84774', 'c': '0.84809'}, 'mid': {'o': '0.84870', 'h': '0.84884', 'l': '0.84783', 'c': '0.84816'}, 'ask': {'o': '0.84878', 'h': '0.84892', 'l': '0.84791', 'c': '0.84824'}}\n",
      "{'complete': True, 'volume': 894, 'time': '2021-11-03T13:00:00.000000000Z', 'bid': {'o': '0.84812', 'h': '0.84850', 'l': '0.84787', 'c': '0.84787'}, 'mid': {'o': '0.84819', 'h': '0.84858', 'l': '0.84797', 'c': '0.84802'}, 'ask': {'o': '0.84826', 'h': '0.84866', 'l': '0.84804', 'c': '0.84816'}}\n",
      "{'complete': True, 'volume': 1257, 'time': '2021-11-03T14:00:00.000000000Z', 'bid': {'o': '0.84791', 'h': '0.84816', 'l': '0.84719', 'c': '0.84752'}, 'mid': {'o': '0.84805', 'h': '0.84823', 'l': '0.84726', 'c': '0.84760'}, 'ask': {'o': '0.84819', 'h': '0.84831', 'l': '0.84734', 'c': '0.84767'}}\n",
      "{'complete': True, 'volume': 862, 'time': '2021-11-03T15:00:00.000000000Z', 'bid': {'o': '0.84750', 'h': '0.84806', 'l': '0.84739', 'c': '0.84804'}, 'mid': {'o': '0.84758', 'h': '0.84814', 'l': '0.84746', 'c': '0.84812'}, 'ask': {'o': '0.84765', 'h': '0.84823', 'l': '0.84752', 'c': '0.84820'}}\n",
      "{'complete': True, 'volume': 577, 'time': '2021-11-03T16:00:00.000000000Z', 'bid': {'o': '0.84806', 'h': '0.84806', 'l': '0.84745', 'c': '0.84765'}, 'mid': {'o': '0.84814', 'h': '0.84814', 'l': '0.84754', 'c': '0.84772'}, 'ask': {'o': '0.84822', 'h': '0.84822', 'l': '0.84761', 'c': '0.84780'}}\n",
      "{'complete': True, 'volume': 405, 'time': '2021-11-03T17:00:00.000000000Z', 'bid': {'o': '0.84768', 'h': '0.84814', 'l': '0.84735', 'c': '0.84783'}, 'mid': {'o': '0.84775', 'h': '0.84826', 'l': '0.84742', 'c': '0.84808'}, 'ask': {'o': '0.84782', 'h': '0.84839', 'l': '0.84750', 'c': '0.84833'}}\n",
      "{'complete': True, 'volume': 4310, 'time': '2021-11-03T18:00:00.000000000Z', 'bid': {'o': '0.84775', 'h': '0.84874', 'l': '0.84753', 'c': '0.84873'}, 'mid': {'o': '0.84804', 'h': '0.84884', 'l': '0.84780', 'c': '0.84882'}, 'ask': {'o': '0.84833', 'h': '0.84894', 'l': '0.84790', 'c': '0.84892'}}\n",
      "{'complete': False, 'volume': 1125, 'time': '2021-11-03T19:00:00.000000000Z', 'bid': {'o': '0.84870', 'h': '0.84870', 'l': '0.84801', 'c': '0.84849'}, 'mid': {'o': '0.84880', 'h': '0.84880', 'l': '0.84809', 'c': '0.84856'}, 'ask': {'o': '0.84890', 'h': '0.84890', 'l': '0.84817', 'c': '0.84864'}}\n"
     ]
    }
   ],
   "source": [
    "for candle in data_candles['candles']:\n",
    "    print(candle)"
   ]
  },
  {
   "cell_type": "code",
   "execution_count": 149,
   "metadata": {},
   "outputs": [
    {
     "data": {
      "text/plain": [
       "dict_keys(['instrument', 'granularity', 'candles'])"
      ]
     },
     "execution_count": 149,
     "metadata": {},
     "output_type": "execute_result"
    }
   ],
   "source": [
    "data_candles.keys()"
   ]
  },
  {
   "cell_type": "code",
   "execution_count": 150,
   "metadata": {},
   "outputs": [
    {
     "data": {
      "text/plain": [
       "10"
      ]
     },
     "execution_count": 150,
     "metadata": {},
     "output_type": "execute_result"
    }
   ],
   "source": [
    "len(data_candles[\"candles\"])"
   ]
  },
  {
   "cell_type": "code",
   "execution_count": 151,
   "metadata": {},
   "outputs": [
    {
     "name": "stdout",
     "output_type": "stream",
     "text": [
      "mid_o\n",
      "mid_h\n",
      "mid_l\n",
      "mid_c\n",
      "bid_o\n",
      "bid_h\n",
      "bid_l\n",
      "bid_c\n",
      "ask_o\n",
      "ask_h\n",
      "ask_l\n",
      "ask_c\n"
     ]
    }
   ],
   "source": [
    "price_types = ['mid', 'bid', 'ask']\n",
    "ohlc = ['o','h','l','c']\n",
    "for price_type in price_types:\n",
    "    for tag in ohlc:\n",
    "        print(f\"{price_type}_{tag}\")"
   ]
  },
  {
   "cell_type": "code",
   "execution_count": 152,
   "metadata": {},
   "outputs": [
    {
     "data": {
      "text/plain": [
       "{'complete': True,\n",
       " 'volume': 715,\n",
       " 'time': '2021-11-03T10:00:00.000000000Z',\n",
       " 'bid': {'o': '0.85068', 'h': '0.85085', 'l': '0.84993', 'c': '0.85064'},\n",
       " 'mid': {'o': '0.85076', 'h': '0.85092', 'l': '0.85000', 'c': '0.85074'},\n",
       " 'ask': {'o': '0.85083', 'h': '0.85099', 'l': '0.85008', 'c': '0.85083'}}"
      ]
     },
     "execution_count": 152,
     "metadata": {},
     "output_type": "execute_result"
    }
   ],
   "source": [
    "data_candles['candles'][0]"
   ]
  },
  {
   "cell_type": "code",
   "execution_count": 153,
   "metadata": {},
   "outputs": [
    {
     "name": "stdout",
     "output_type": "stream",
     "text": [
      "Incomplete candle found.\n"
     ]
    }
   ],
   "source": [
    "our_data = []\n",
    "price_types = ['mid', 'bid', 'ask']\n",
    "ohlc = ['o','h','l','c']\n",
    "\n",
    "for candle in data_candles['candles']:\n",
    "    if candle['complete'] == False:\n",
    "        print(\"Incomplete candle found.\")\n",
    "        continue\n",
    "    new_dict = {}\n",
    "    new_dict['time'] = candle['time']\n",
    "    new_dict['volume'] = candle['volume']\n",
    "    \n",
    "    for price_type in price_types:\n",
    "        for tag in ohlc:\n",
    "            new_dict[f\"{price_type}_{tag}\"] = candle[price_type][tag]\n",
    "    \n",
    "    our_data.append(new_dict)\n",
    "            \n",
    "    "
   ]
  },
  {
   "cell_type": "code",
   "execution_count": 154,
   "metadata": {},
   "outputs": [
    {
     "data": {
      "text/plain": [
       "{'time': '2021-11-03T10:00:00.000000000Z',\n",
       " 'volume': 715,\n",
       " 'mid_o': '0.85076',\n",
       " 'mid_h': '0.85092',\n",
       " 'mid_l': '0.85000',\n",
       " 'mid_c': '0.85074',\n",
       " 'bid_o': '0.85068',\n",
       " 'bid_h': '0.85085',\n",
       " 'bid_l': '0.84993',\n",
       " 'bid_c': '0.85064',\n",
       " 'ask_o': '0.85083',\n",
       " 'ask_h': '0.85099',\n",
       " 'ask_l': '0.85008',\n",
       " 'ask_c': '0.85083'}"
      ]
     },
     "execution_count": 154,
     "metadata": {},
     "output_type": "execute_result"
    }
   ],
   "source": [
    "our_data[0]\n"
   ]
  },
  {
   "cell_type": "code",
   "execution_count": 155,
   "metadata": {},
   "outputs": [],
   "source": [
    "candles_df = pd.DataFrame.from_dict(our_data)"
   ]
  },
  {
   "cell_type": "code",
   "execution_count": 156,
   "metadata": {},
   "outputs": [
    {
     "data": {
      "text/html": [
       "<div>\n",
       "<style scoped>\n",
       "    .dataframe tbody tr th:only-of-type {\n",
       "        vertical-align: middle;\n",
       "    }\n",
       "\n",
       "    .dataframe tbody tr th {\n",
       "        vertical-align: top;\n",
       "    }\n",
       "\n",
       "    .dataframe thead th {\n",
       "        text-align: right;\n",
       "    }\n",
       "</style>\n",
       "<table border=\"1\" class=\"dataframe\">\n",
       "  <thead>\n",
       "    <tr style=\"text-align: right;\">\n",
       "      <th></th>\n",
       "      <th>time</th>\n",
       "      <th>volume</th>\n",
       "      <th>mid_o</th>\n",
       "      <th>mid_h</th>\n",
       "      <th>mid_l</th>\n",
       "      <th>mid_c</th>\n",
       "      <th>bid_o</th>\n",
       "      <th>bid_h</th>\n",
       "      <th>bid_l</th>\n",
       "      <th>bid_c</th>\n",
       "      <th>ask_o</th>\n",
       "      <th>ask_h</th>\n",
       "      <th>ask_l</th>\n",
       "      <th>ask_c</th>\n",
       "    </tr>\n",
       "  </thead>\n",
       "  <tbody>\n",
       "    <tr>\n",
       "      <th>0</th>\n",
       "      <td>2021-11-03T10:00:00.000000000Z</td>\n",
       "      <td>715</td>\n",
       "      <td>0.85076</td>\n",
       "      <td>0.85092</td>\n",
       "      <td>0.85000</td>\n",
       "      <td>0.85074</td>\n",
       "      <td>0.85068</td>\n",
       "      <td>0.85085</td>\n",
       "      <td>0.84993</td>\n",
       "      <td>0.85064</td>\n",
       "      <td>0.85083</td>\n",
       "      <td>0.85099</td>\n",
       "      <td>0.85008</td>\n",
       "      <td>0.85083</td>\n",
       "    </tr>\n",
       "    <tr>\n",
       "      <th>1</th>\n",
       "      <td>2021-11-03T11:00:00.000000000Z</td>\n",
       "      <td>652</td>\n",
       "      <td>0.85076</td>\n",
       "      <td>0.85076</td>\n",
       "      <td>0.84858</td>\n",
       "      <td>0.84867</td>\n",
       "      <td>0.85067</td>\n",
       "      <td>0.85067</td>\n",
       "      <td>0.84851</td>\n",
       "      <td>0.84859</td>\n",
       "      <td>0.85084</td>\n",
       "      <td>0.85084</td>\n",
       "      <td>0.84865</td>\n",
       "      <td>0.84875</td>\n",
       "    </tr>\n",
       "    <tr>\n",
       "      <th>2</th>\n",
       "      <td>2021-11-03T12:00:00.000000000Z</td>\n",
       "      <td>1177</td>\n",
       "      <td>0.84870</td>\n",
       "      <td>0.84884</td>\n",
       "      <td>0.84783</td>\n",
       "      <td>0.84816</td>\n",
       "      <td>0.84861</td>\n",
       "      <td>0.84877</td>\n",
       "      <td>0.84774</td>\n",
       "      <td>0.84809</td>\n",
       "      <td>0.84878</td>\n",
       "      <td>0.84892</td>\n",
       "      <td>0.84791</td>\n",
       "      <td>0.84824</td>\n",
       "    </tr>\n",
       "    <tr>\n",
       "      <th>3</th>\n",
       "      <td>2021-11-03T13:00:00.000000000Z</td>\n",
       "      <td>894</td>\n",
       "      <td>0.84819</td>\n",
       "      <td>0.84858</td>\n",
       "      <td>0.84797</td>\n",
       "      <td>0.84802</td>\n",
       "      <td>0.84812</td>\n",
       "      <td>0.84850</td>\n",
       "      <td>0.84787</td>\n",
       "      <td>0.84787</td>\n",
       "      <td>0.84826</td>\n",
       "      <td>0.84866</td>\n",
       "      <td>0.84804</td>\n",
       "      <td>0.84816</td>\n",
       "    </tr>\n",
       "    <tr>\n",
       "      <th>4</th>\n",
       "      <td>2021-11-03T14:00:00.000000000Z</td>\n",
       "      <td>1257</td>\n",
       "      <td>0.84805</td>\n",
       "      <td>0.84823</td>\n",
       "      <td>0.84726</td>\n",
       "      <td>0.84760</td>\n",
       "      <td>0.84791</td>\n",
       "      <td>0.84816</td>\n",
       "      <td>0.84719</td>\n",
       "      <td>0.84752</td>\n",
       "      <td>0.84819</td>\n",
       "      <td>0.84831</td>\n",
       "      <td>0.84734</td>\n",
       "      <td>0.84767</td>\n",
       "    </tr>\n",
       "    <tr>\n",
       "      <th>5</th>\n",
       "      <td>2021-11-03T15:00:00.000000000Z</td>\n",
       "      <td>862</td>\n",
       "      <td>0.84758</td>\n",
       "      <td>0.84814</td>\n",
       "      <td>0.84746</td>\n",
       "      <td>0.84812</td>\n",
       "      <td>0.84750</td>\n",
       "      <td>0.84806</td>\n",
       "      <td>0.84739</td>\n",
       "      <td>0.84804</td>\n",
       "      <td>0.84765</td>\n",
       "      <td>0.84823</td>\n",
       "      <td>0.84752</td>\n",
       "      <td>0.84820</td>\n",
       "    </tr>\n",
       "    <tr>\n",
       "      <th>6</th>\n",
       "      <td>2021-11-03T16:00:00.000000000Z</td>\n",
       "      <td>577</td>\n",
       "      <td>0.84814</td>\n",
       "      <td>0.84814</td>\n",
       "      <td>0.84754</td>\n",
       "      <td>0.84772</td>\n",
       "      <td>0.84806</td>\n",
       "      <td>0.84806</td>\n",
       "      <td>0.84745</td>\n",
       "      <td>0.84765</td>\n",
       "      <td>0.84822</td>\n",
       "      <td>0.84822</td>\n",
       "      <td>0.84761</td>\n",
       "      <td>0.84780</td>\n",
       "    </tr>\n",
       "    <tr>\n",
       "      <th>7</th>\n",
       "      <td>2021-11-03T17:00:00.000000000Z</td>\n",
       "      <td>405</td>\n",
       "      <td>0.84775</td>\n",
       "      <td>0.84826</td>\n",
       "      <td>0.84742</td>\n",
       "      <td>0.84808</td>\n",
       "      <td>0.84768</td>\n",
       "      <td>0.84814</td>\n",
       "      <td>0.84735</td>\n",
       "      <td>0.84783</td>\n",
       "      <td>0.84782</td>\n",
       "      <td>0.84839</td>\n",
       "      <td>0.84750</td>\n",
       "      <td>0.84833</td>\n",
       "    </tr>\n",
       "    <tr>\n",
       "      <th>8</th>\n",
       "      <td>2021-11-03T18:00:00.000000000Z</td>\n",
       "      <td>4310</td>\n",
       "      <td>0.84804</td>\n",
       "      <td>0.84884</td>\n",
       "      <td>0.84780</td>\n",
       "      <td>0.84882</td>\n",
       "      <td>0.84775</td>\n",
       "      <td>0.84874</td>\n",
       "      <td>0.84753</td>\n",
       "      <td>0.84873</td>\n",
       "      <td>0.84833</td>\n",
       "      <td>0.84894</td>\n",
       "      <td>0.84790</td>\n",
       "      <td>0.84892</td>\n",
       "    </tr>\n",
       "  </tbody>\n",
       "</table>\n",
       "</div>"
      ],
      "text/plain": [
       "                             time  volume    mid_o    mid_h    mid_l    mid_c  \\\n",
       "0  2021-11-03T10:00:00.000000000Z     715  0.85076  0.85092  0.85000  0.85074   \n",
       "1  2021-11-03T11:00:00.000000000Z     652  0.85076  0.85076  0.84858  0.84867   \n",
       "2  2021-11-03T12:00:00.000000000Z    1177  0.84870  0.84884  0.84783  0.84816   \n",
       "3  2021-11-03T13:00:00.000000000Z     894  0.84819  0.84858  0.84797  0.84802   \n",
       "4  2021-11-03T14:00:00.000000000Z    1257  0.84805  0.84823  0.84726  0.84760   \n",
       "5  2021-11-03T15:00:00.000000000Z     862  0.84758  0.84814  0.84746  0.84812   \n",
       "6  2021-11-03T16:00:00.000000000Z     577  0.84814  0.84814  0.84754  0.84772   \n",
       "7  2021-11-03T17:00:00.000000000Z     405  0.84775  0.84826  0.84742  0.84808   \n",
       "8  2021-11-03T18:00:00.000000000Z    4310  0.84804  0.84884  0.84780  0.84882   \n",
       "\n",
       "     bid_o    bid_h    bid_l    bid_c    ask_o    ask_h    ask_l    ask_c  \n",
       "0  0.85068  0.85085  0.84993  0.85064  0.85083  0.85099  0.85008  0.85083  \n",
       "1  0.85067  0.85067  0.84851  0.84859  0.85084  0.85084  0.84865  0.84875  \n",
       "2  0.84861  0.84877  0.84774  0.84809  0.84878  0.84892  0.84791  0.84824  \n",
       "3  0.84812  0.84850  0.84787  0.84787  0.84826  0.84866  0.84804  0.84816  \n",
       "4  0.84791  0.84816  0.84719  0.84752  0.84819  0.84831  0.84734  0.84767  \n",
       "5  0.84750  0.84806  0.84739  0.84804  0.84765  0.84823  0.84752  0.84820  \n",
       "6  0.84806  0.84806  0.84745  0.84765  0.84822  0.84822  0.84761  0.84780  \n",
       "7  0.84768  0.84814  0.84735  0.84783  0.84782  0.84839  0.84750  0.84833  \n",
       "8  0.84775  0.84874  0.84753  0.84873  0.84833  0.84894  0.84790  0.84892  "
      ]
     },
     "execution_count": 156,
     "metadata": {},
     "output_type": "execute_result"
    }
   ],
   "source": [
    "candles_df"
   ]
  },
  {
   "cell_type": "code",
   "execution_count": 157,
   "metadata": {},
   "outputs": [
    {
     "data": {
      "text/plain": [
       "9"
      ]
     },
     "execution_count": 157,
     "metadata": {},
     "output_type": "execute_result"
    }
   ],
   "source": [
    "len(candles_df)"
   ]
  },
  {
   "cell_type": "code",
   "execution_count": 158,
   "metadata": {},
   "outputs": [
    {
     "data": {
      "text/plain": [
       "9"
      ]
     },
     "execution_count": 158,
     "metadata": {},
     "output_type": "execute_result"
    }
   ],
   "source": [
    "len(our_data)"
   ]
  }
 ],
 "metadata": {
  "interpreter": {
   "hash": "1824c58fddba51f3d7ec7278dbee626ff0e57c36798170c75c8efa33a88ff8a1"
  },
  "kernelspec": {
   "display_name": "Python 3.9.7 64-bit ('forex-bot-env': conda)",
   "name": "python3"
  },
  "language_info": {
   "codemirror_mode": {
    "name": "ipython",
    "version": 3
   },
   "file_extension": ".py",
   "mimetype": "text/x-python",
   "name": "python",
   "nbconvert_exporter": "python",
   "pygments_lexer": "ipython3",
   "version": "3.9.7"
  },
  "orig_nbformat": 4
 },
 "nbformat": 4,
 "nbformat_minor": 2
}
